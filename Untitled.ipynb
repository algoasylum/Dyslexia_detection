{
 "cells": [
  {
   "cell_type": "code",
   "execution_count": 3,
   "id": "094c2ca7-e20c-41e0-9b28-2cd5138fef57",
   "metadata": {},
   "outputs": [],
   "source": [
    "import glob\n",
    "import pandas as pd\n",
    "import numpy as np\n",
    "import matplotlib.pyplot as plt\n",
    "from matplotlib.gridspec import GridSpec\n",
    "from matplotlib.pyplot import figure\n",
    "from scipy.spatial.distance import euclidean as eu\n",
    "from scipy.spatial.distance import cosine \n",
    "import math\n",
    "from scipy import signal\n",
    "\n",
    "from sklearn.cluster import KMeans\n",
    "from sklearn.metrics import confusion_matrix,accuracy_score\n",
    "from sklearn import preprocessing\n",
    " \n",
    "import Data_load as dl\n",
    "import Print_statements as ps\n",
    "import binning as bn\n",
    "import PCA_funcs as pcaf"
   ]
  },
  {
   "cell_type": "code",
   "execution_count": 4,
   "id": "56504855-deca-4676-a349-51871d5297e8",
   "metadata": {},
   "outputs": [],
   "source": [
    "feature_list=['LX', 'LY', 'RX', 'RY']\n",
    "_,_,_,_,_,_,C_data, D_data = dl.get_data()"
   ]
  },
  {
   "cell_type": "code",
   "execution_count": 18,
   "id": "391867d1-c751-4f2b-8b3a-930117686486",
   "metadata": {},
   "outputs": [],
   "source": [
    "def new_vals(data):\n",
    "    x = [sum(x)/2 for x in zip(data['LX'].to_list(), data['RX'].tolist())]\n",
    "    y = [sum(x)/2 for x in zip(data['LY'].to_list(), data['RY'].tolist())]\n",
    "    \n",
    "    return [x,y]"
   ]
  },
  {
   "cell_type": "code",
   "execution_count": 60,
   "id": "f2141759-9371-4d75-ab3b-5b97373502b0",
   "metadata": {},
   "outputs": [],
   "source": [
    "all_buckets = []\n",
    "for dataset in [C_data, D_data]:\n",
    "    for no in range(len(dataset)):\n",
    "        data = new_vals(dataset[no])\n",
    "        buckets = []\n",
    "        for axis in data:\n",
    "            fft = np.fft.fft(axis)\n",
    "            binned = bn.binning(1000, fft, 10)\n",
    "            buckets.append(binned)\n",
    "        flattened = buckets[0].tolist()+buckets[1].tolist()\n",
    "        all_buckets.append(flattened)"
   ]
  },
  {
   "cell_type": "code",
   "execution_count": 63,
   "id": "5fa4da5a-b33b-4b99-89d6-377ce2c40df0",
   "metadata": {},
   "outputs": [],
   "source": [
    "kmeans = KMeans(n_clusters = 2, random_state=0).fit(all_buckets)\n",
    "\n",
    "predicted_labels = kmeans.labels_\n",
    "actual_labels = np.concatenate((np.ones(98), np.zeros(88)))"
   ]
  },
  {
   "cell_type": "code",
   "execution_count": 64,
   "id": "02b9ac9d-7354-4d8d-aa67-de578fb27c46",
   "metadata": {},
   "outputs": [],
   "source": [
    "acc = accuracy_score(actual_labels,predicted_labels)*100"
   ]
  },
  {
   "cell_type": "code",
   "execution_count": 65,
   "id": "282225a8-3e5d-4a34-abbf-af466cb1c962",
   "metadata": {},
   "outputs": [
    {
     "data": {
      "text/plain": [
       "61.82795698924731"
      ]
     },
     "execution_count": 65,
     "metadata": {},
     "output_type": "execute_result"
    }
   ],
   "source": [
    "acc"
   ]
  },
  {
   "cell_type": "code",
   "execution_count": null,
   "id": "c49b19bb-59c0-4677-acb3-9bc14f14eca2",
   "metadata": {},
   "outputs": [],
   "source": []
  }
 ],
 "metadata": {
  "kernelspec": {
   "display_name": "Python 3",
   "language": "python",
   "name": "python3"
  },
  "language_info": {
   "codemirror_mode": {
    "name": "ipython",
    "version": 3
   },
   "file_extension": ".py",
   "mimetype": "text/x-python",
   "name": "python",
   "nbconvert_exporter": "python",
   "pygments_lexer": "ipython3",
   "version": "3.8.5"
  }
 },
 "nbformat": 4,
 "nbformat_minor": 5
}
