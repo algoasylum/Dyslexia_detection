{
 "cells": [
  {
   "cell_type": "code",
   "execution_count": 1,
   "metadata": {},
   "outputs": [],
   "source": [
    "import glob\n",
    "import pandas as pd\n",
    "import numpy as np\n",
    "import matplotlib.pyplot as plt\n",
    "import plotly\n",
    "from scipy.spatial.distance import euclidean as eu\n",
    "from scipy.spatial.distance import cosine \n",
    "import math\n",
    "from scipy import signal\n",
    "\n",
    "from sklearn.cluster import KMeans\n",
    "from sklearn.metrics import confusion_matrix,accuracy_score\n",
    "from sklearn import preprocessing"
   ]
  },
  {
   "cell_type": "code",
   "execution_count": 2,
   "metadata": {},
   "outputs": [],
   "source": [
    "D_path = glob.glob('Data\\Dyslexic' + \"\\*\")\n",
    "C_path = glob.glob('Data\\Control' + \"\\*\")\n",
    "\n",
    "C_data = []\n",
    "for path in C_path:\n",
    "    temp = pd.read_csv(path)\n",
    "    temp = temp.drop('Unnamed: 0',axis = 1)\n",
    "    C_data.append(temp)\n",
    "\n",
    "D_data = []\n",
    "for path in D_path:\n",
    "    temp = pd.read_csv(path)\n",
    "    temp = temp.drop('Unnamed: 0',axis = 1)\n",
    "    D_data.append(temp)\n",
    "    \n",
    "C_new = []\n",
    "for data in C_data:\n",
    "    X =data[['LX','RX']]\n",
    "    Y =data[['LY','RY']]\n",
    "    Xm = X.mean(axis=1)\n",
    "    Ym = Y.mean(axis=1)\n",
    "    f = pd.DataFrame([data.iloc[:,0],Xm,Ym])\n",
    "    f = f.transpose()\n",
    "    f = f.rename(columns = {'Unnamed 0': 'X', 'Unnamed 1': 'Y'})\n",
    "    C_new.append(f)\n",
    "\n",
    "D_new = []\n",
    "for data in D_data:\n",
    "    X =data[['LX','RX']]\n",
    "    Y =data[['LY','RY']]\n",
    "    Xm = X.mean(axis=1)\n",
    "    Ym = Y.mean(axis=1)\n",
    "    f = pd.DataFrame([data.iloc[:,0],Xm,Ym])\n",
    "    f = f.transpose()\n",
    "    f = f.rename(columns = {'Unnamed 0': 'X', 'Unnamed 1': 'Y'})\n",
    "    D_new.append(f)"
   ]
  },
  {
   "cell_type": "code",
   "execution_count": 3,
   "metadata": {},
   "outputs": [],
   "source": [
    "\n",
    "\n",
    "for i in range(len(C_new)):\n",
    "    C_tempx = np.abs(C_new[i]['X'])\n",
    "    mx = max(C_tempx)\n",
    "    C_tempy = np.abs(C_new[i]['Y'])\n",
    "    my= max(C_tempy)\n",
    "    C_new[i]['X'] = C_new[i]['X']/np.abs(mx)\n",
    "    C_new[i]['Y'] = C_new[i]['Y']/np.abs(my)\n",
    "for i in range(len(D_new)):\n",
    "    D_tempx = np.abs(D_new[i]['X'])\n",
    "    mx = max(D_tempx)\n",
    "    D_tempy = np.abs(D_new[i]['Y'])\n",
    "    my= max(D_tempy)\n",
    "    D_new[i]['X'] = D_new[i]['X']/np.abs(mx)\n",
    "    D_new[i]['Y'] = D_new[i]['Y']/np.abs(my)    "
   ]
  },
  {
   "cell_type": "code",
   "execution_count": 4,
   "metadata": {},
   "outputs": [],
   "source": [
    "C_cmx = []\n",
    "C_real= []\n",
    "C_img=[]\n",
    "for j in range(len(C_new)):\n",
    "    dat = C_new[j]\n",
    "    x = dat['X']\n",
    "    y = dat['Y']\n",
    "    t = dat['T']\n",
    "    \n",
    "    z=[]\n",
    "    x_in=[]\n",
    "    y_in=[]\n",
    "    for i in range(0,x.size):\n",
    "        z.append(complex(x[i],y[i]))\n",
    "        x_in.append(x[i])\n",
    "        y_in.append(y[i])\n",
    "    \n",
    "    \n",
    "    C_cmx.append(z)\n",
    "    C_real.append(x_in)\n",
    "    C_img.append(y_in)\n",
    "\n",
    "D_cmx = []\n",
    "D_real= []\n",
    "D_img=[]\n",
    "for j in range(len(D_new)):\n",
    "    dat = D_new[j]\n",
    "    x = dat['X']\n",
    "    y = dat['Y']\n",
    "    t = dat['T']\n",
    "    \n",
    "    z=[]\n",
    "    x_in=[]\n",
    "    y_in=[]\n",
    "    for i in range(0,x.size):\n",
    "        z.append(complex(x[i],y[i]))\n",
    "        x_in.append(x[i])\n",
    "        y_in.append(y[i])\n",
    "    D_cmx.append(z)\n",
    "    D_real.append(x_in)\n",
    "    D_img.append(y_in)"
   ]
  },
  {
   "cell_type": "code",
   "execution_count": 5,
   "metadata": {},
   "outputs": [],
   "source": [
    "def stft_run(n_ratio,o_ratio,nf):\n",
    "    C_spec = []\n",
    "    for j in range(len(tmat)):\n",
    "        data = tmat[j]\n",
    "        L= len(data)+1\n",
    "        k = int((len(data) + 1)/250) # k varies from 4 to 8\n",
    "        N=20\n",
    "        B  = L/n_ratio\n",
    "        E =B/o_ratio#round((N*B - L)/(N-1))\n",
    "        f, t, Zxx = signal.stft(tmat[j],fs= L/250, nperseg=B,noverlap= E,nfft=nf)\n",
    "        \n",
    "        C_spec.append(np.abs(Zxx)**2)\n",
    "    \n",
    "    vec = []\n",
    "    for i in range(len(C_spec)):\n",
    "        vec.append(C_spec[i])\n",
    "    #print(C_spec[i].shape)\n",
    "    \n",
    "    for i in range(len(C_spec)):\n",
    "        vec[i]=vec[i].flatten()\n",
    "    \n",
    "    \n",
    "\n",
    "    return vec"
   ]
  },
  {
   "cell_type": "code",
   "execution_count": 87,
   "metadata": {},
   "outputs": [],
   "source": [
    "tmat=[]\n",
    "for i in range(88):\n",
    "    tmat.append(C_cmx[i])\n",
    "for i in range(98):\n",
    "    tmat.append(D_cmx[i])\n",
    "\n"
   ]
  },
  {
   "cell_type": "code",
   "execution_count": 88,
   "metadata": {},
   "outputs": [
    {
     "name": "stderr",
     "output_type": "stream",
     "text": [
      "C:\\Python\\Python37\\lib\\site-packages\\scipy\\signal\\spectral.py:1815: UserWarning: Input data is complex, switching to return_onesided=False\n",
      "  warnings.warn('Input data is complex, switching to '\n"
     ]
    }
   ],
   "source": [
    "vec = stft_run(125,2,400)"
   ]
  },
  {
   "cell_type": "code",
   "execution_count": 89,
   "metadata": {},
   "outputs": [],
   "source": [
    "X = np.asarray(vec)"
   ]
  },
  {
   "cell_type": "code",
   "execution_count": 72,
   "metadata": {},
   "outputs": [],
   "source": [
    "y = np.random.choice([0, 1], size=186)"
   ]
  },
  {
   "cell_type": "code",
   "execution_count": 90,
   "metadata": {},
   "outputs": [],
   "source": [
    "y= np.concatenate((np.ones(88), np.zeros(98)))"
   ]
  },
  {
   "cell_type": "code",
   "execution_count": 50,
   "metadata": {},
   "outputs": [],
   "source": [
    "X, y = load_digits(return_X_y=True)"
   ]
  },
  {
   "cell_type": "code",
   "execution_count": 12,
   "metadata": {},
   "outputs": [],
   "source": [
    "from sklearn.datasets import load_digits\n",
    "from sklearn.linear_model import Perceptron\n",
    "clf = Perceptron(tol=1e-3, random_state=0)"
   ]
  },
  {
   "cell_type": "code",
   "execution_count": 13,
   "metadata": {},
   "outputs": [
    {
     "data": {
      "text/plain": [
       "Perceptron(alpha=0.0001, class_weight=None, early_stopping=False, eta0=1.0,\n",
       "           fit_intercept=True, max_iter=1000, n_iter_no_change=5, n_jobs=None,\n",
       "           penalty=None, random_state=0, shuffle=True, tol=0.001,\n",
       "           validation_fraction=0.1, verbose=0, warm_start=False)"
      ]
     },
     "execution_count": 13,
     "metadata": {},
     "output_type": "execute_result"
    }
   ],
   "source": [
    "clf.fit(X, y)"
   ]
  },
  {
   "cell_type": "code",
   "execution_count": 14,
   "metadata": {},
   "outputs": [
    {
     "data": {
      "text/plain": [
       "1.0"
      ]
     },
     "execution_count": 14,
     "metadata": {},
     "output_type": "execute_result"
    }
   ],
   "source": [
    "clf.score(X, y)"
   ]
  },
  {
   "cell_type": "code",
   "execution_count": 18,
   "metadata": {},
   "outputs": [],
   "source": [
    "inp = [[125,2],[50,5],[25,2],[25,5],[25,10],[10,5],[10,25]]"
   ]
  },
  {
   "cell_type": "code",
   "execution_count": 19,
   "metadata": {},
   "outputs": [],
   "source": [
    "imp= [[5,25],[5,50],[2,25],[2,125]]"
   ]
  },
  {
   "cell_type": "code",
   "execution_count": 21,
   "metadata": {},
   "outputs": [],
   "source": [
    "nfi = [400,800,1000,1200,1500]"
   ]
  },
  {
   "cell_type": "code",
   "execution_count": 24,
   "metadata": {},
   "outputs": [
    {
     "name": "stdout",
     "output_type": "stream",
     "text": [
      "[125, 2]\n"
     ]
    },
    {
     "name": "stderr",
     "output_type": "stream",
     "text": [
      "C:\\Python\\Python37\\lib\\site-packages\\scipy\\signal\\spectral.py:1815: UserWarning: Input data is complex, switching to return_onesided=False\n",
      "  warnings.warn('Input data is complex, switching to '\n",
      "C:\\Python\\Python37\\lib\\site-packages\\scipy\\signal\\spectral.py:1815: UserWarning: Input data is complex, switching to return_onesided=False\n",
      "  warnings.warn('Input data is complex, switching to '\n",
      "C:\\Python\\Python37\\lib\\site-packages\\scipy\\signal\\spectral.py:1815: UserWarning: Input data is complex, switching to return_onesided=False\n",
      "  warnings.warn('Input data is complex, switching to '\n",
      "C:\\Python\\Python37\\lib\\site-packages\\scipy\\signal\\spectral.py:1815: UserWarning: Input data is complex, switching to return_onesided=False\n",
      "  warnings.warn('Input data is complex, switching to '\n",
      "C:\\Python\\Python37\\lib\\site-packages\\scipy\\signal\\spectral.py:1815: UserWarning: Input data is complex, switching to return_onesided=False\n",
      "  warnings.warn('Input data is complex, switching to '\n"
     ]
    },
    {
     "name": "stdout",
     "output_type": "stream",
     "text": [
      "[50, 5]\n"
     ]
    },
    {
     "name": "stderr",
     "output_type": "stream",
     "text": [
      "C:\\Python\\Python37\\lib\\site-packages\\scipy\\signal\\spectral.py:1815: UserWarning: Input data is complex, switching to return_onesided=False\n",
      "  warnings.warn('Input data is complex, switching to '\n",
      "C:\\Python\\Python37\\lib\\site-packages\\scipy\\signal\\spectral.py:1815: UserWarning: Input data is complex, switching to return_onesided=False\n",
      "  warnings.warn('Input data is complex, switching to '\n",
      "C:\\Python\\Python37\\lib\\site-packages\\scipy\\signal\\spectral.py:1815: UserWarning: Input data is complex, switching to return_onesided=False\n",
      "  warnings.warn('Input data is complex, switching to '\n",
      "C:\\Python\\Python37\\lib\\site-packages\\scipy\\signal\\spectral.py:1815: UserWarning: Input data is complex, switching to return_onesided=False\n",
      "  warnings.warn('Input data is complex, switching to '\n",
      "C:\\Python\\Python37\\lib\\site-packages\\scipy\\signal\\spectral.py:1815: UserWarning: Input data is complex, switching to return_onesided=False\n",
      "  warnings.warn('Input data is complex, switching to '\n"
     ]
    },
    {
     "name": "stdout",
     "output_type": "stream",
     "text": [
      "[25, 2]\n"
     ]
    },
    {
     "name": "stderr",
     "output_type": "stream",
     "text": [
      "C:\\Python\\Python37\\lib\\site-packages\\scipy\\signal\\spectral.py:1815: UserWarning: Input data is complex, switching to return_onesided=False\n",
      "  warnings.warn('Input data is complex, switching to '\n",
      "C:\\Python\\Python37\\lib\\site-packages\\scipy\\signal\\spectral.py:1815: UserWarning: Input data is complex, switching to return_onesided=False\n",
      "  warnings.warn('Input data is complex, switching to '\n",
      "C:\\Python\\Python37\\lib\\site-packages\\scipy\\signal\\spectral.py:1815: UserWarning: Input data is complex, switching to return_onesided=False\n",
      "  warnings.warn('Input data is complex, switching to '\n",
      "C:\\Python\\Python37\\lib\\site-packages\\scipy\\signal\\spectral.py:1815: UserWarning: Input data is complex, switching to return_onesided=False\n",
      "  warnings.warn('Input data is complex, switching to '\n",
      "C:\\Python\\Python37\\lib\\site-packages\\scipy\\signal\\spectral.py:1815: UserWarning: Input data is complex, switching to return_onesided=False\n",
      "  warnings.warn('Input data is complex, switching to '\n"
     ]
    },
    {
     "name": "stdout",
     "output_type": "stream",
     "text": [
      "[25, 5]\n"
     ]
    },
    {
     "name": "stderr",
     "output_type": "stream",
     "text": [
      "C:\\Python\\Python37\\lib\\site-packages\\scipy\\signal\\spectral.py:1815: UserWarning: Input data is complex, switching to return_onesided=False\n",
      "  warnings.warn('Input data is complex, switching to '\n",
      "C:\\Python\\Python37\\lib\\site-packages\\scipy\\signal\\spectral.py:1815: UserWarning: Input data is complex, switching to return_onesided=False\n",
      "  warnings.warn('Input data is complex, switching to '\n",
      "C:\\Python\\Python37\\lib\\site-packages\\scipy\\signal\\spectral.py:1815: UserWarning: Input data is complex, switching to return_onesided=False\n",
      "  warnings.warn('Input data is complex, switching to '\n",
      "C:\\Python\\Python37\\lib\\site-packages\\scipy\\signal\\spectral.py:1815: UserWarning: Input data is complex, switching to return_onesided=False\n",
      "  warnings.warn('Input data is complex, switching to '\n",
      "C:\\Python\\Python37\\lib\\site-packages\\scipy\\signal\\spectral.py:1815: UserWarning: Input data is complex, switching to return_onesided=False\n",
      "  warnings.warn('Input data is complex, switching to '\n"
     ]
    },
    {
     "name": "stdout",
     "output_type": "stream",
     "text": [
      "[25, 10]\n"
     ]
    },
    {
     "name": "stderr",
     "output_type": "stream",
     "text": [
      "C:\\Python\\Python37\\lib\\site-packages\\scipy\\signal\\spectral.py:1815: UserWarning: Input data is complex, switching to return_onesided=False\n",
      "  warnings.warn('Input data is complex, switching to '\n",
      "C:\\Python\\Python37\\lib\\site-packages\\scipy\\signal\\spectral.py:1815: UserWarning: Input data is complex, switching to return_onesided=False\n",
      "  warnings.warn('Input data is complex, switching to '\n",
      "C:\\Python\\Python37\\lib\\site-packages\\scipy\\signal\\spectral.py:1815: UserWarning: Input data is complex, switching to return_onesided=False\n",
      "  warnings.warn('Input data is complex, switching to '\n",
      "C:\\Python\\Python37\\lib\\site-packages\\scipy\\signal\\spectral.py:1815: UserWarning: Input data is complex, switching to return_onesided=False\n",
      "  warnings.warn('Input data is complex, switching to '\n",
      "C:\\Python\\Python37\\lib\\site-packages\\scipy\\signal\\spectral.py:1815: UserWarning: Input data is complex, switching to return_onesided=False\n",
      "  warnings.warn('Input data is complex, switching to '\n"
     ]
    },
    {
     "name": "stdout",
     "output_type": "stream",
     "text": [
      "[10, 5]\n"
     ]
    },
    {
     "name": "stderr",
     "output_type": "stream",
     "text": [
      "C:\\Python\\Python37\\lib\\site-packages\\scipy\\signal\\spectral.py:1815: UserWarning: Input data is complex, switching to return_onesided=False\n",
      "  warnings.warn('Input data is complex, switching to '\n",
      "C:\\Python\\Python37\\lib\\site-packages\\scipy\\signal\\spectral.py:1815: UserWarning: Input data is complex, switching to return_onesided=False\n",
      "  warnings.warn('Input data is complex, switching to '\n",
      "C:\\Python\\Python37\\lib\\site-packages\\scipy\\signal\\spectral.py:1815: UserWarning: Input data is complex, switching to return_onesided=False\n",
      "  warnings.warn('Input data is complex, switching to '\n",
      "C:\\Python\\Python37\\lib\\site-packages\\scipy\\signal\\spectral.py:1815: UserWarning: Input data is complex, switching to return_onesided=False\n",
      "  warnings.warn('Input data is complex, switching to '\n",
      "C:\\Python\\Python37\\lib\\site-packages\\scipy\\signal\\spectral.py:1815: UserWarning: Input data is complex, switching to return_onesided=False\n",
      "  warnings.warn('Input data is complex, switching to '\n"
     ]
    },
    {
     "name": "stdout",
     "output_type": "stream",
     "text": [
      "[10, 25]\n"
     ]
    },
    {
     "name": "stderr",
     "output_type": "stream",
     "text": [
      "C:\\Python\\Python37\\lib\\site-packages\\scipy\\signal\\spectral.py:1815: UserWarning: Input data is complex, switching to return_onesided=False\n",
      "  warnings.warn('Input data is complex, switching to '\n",
      "C:\\Python\\Python37\\lib\\site-packages\\scipy\\signal\\spectral.py:1815: UserWarning: Input data is complex, switching to return_onesided=False\n",
      "  warnings.warn('Input data is complex, switching to '\n",
      "C:\\Python\\Python37\\lib\\site-packages\\scipy\\signal\\spectral.py:1815: UserWarning: Input data is complex, switching to return_onesided=False\n",
      "  warnings.warn('Input data is complex, switching to '\n",
      "C:\\Python\\Python37\\lib\\site-packages\\scipy\\signal\\spectral.py:1815: UserWarning: Input data is complex, switching to return_onesided=False\n",
      "  warnings.warn('Input data is complex, switching to '\n",
      "C:\\Python\\Python37\\lib\\site-packages\\scipy\\signal\\spectral.py:1815: UserWarning: Input data is complex, switching to return_onesided=False\n",
      "  warnings.warn('Input data is complex, switching to '\n"
     ]
    }
   ],
   "source": [
    "aglob=[]\n",
    "for i in inp:\n",
    "    print(i)\n",
    "    aloc= []\n",
    "    for x in nfi:\n",
    "        vec = stft_run(i[0],i[1],x)\n",
    "        X = np.asarray(vec)\n",
    "        clf.fit(X_train, y_train)\n",
    "        aloc.append(clf.score(X_test, y_test))\n",
    "    aglob.append(aloc)\n",
    "    "
   ]
  },
  {
   "cell_type": "code",
   "execution_count": 25,
   "metadata": {},
   "outputs": [
    {
     "data": {
      "text/plain": [
       "[[0.9210526315789473,\n",
       "  0.9210526315789473,\n",
       "  0.9210526315789473,\n",
       "  0.9210526315789473,\n",
       "  0.9210526315789473],\n",
       " [0.9210526315789473,\n",
       "  0.9210526315789473,\n",
       "  0.9210526315789473,\n",
       "  0.9210526315789473,\n",
       "  0.9210526315789473],\n",
       " [0.9210526315789473,\n",
       "  0.9210526315789473,\n",
       "  0.9210526315789473,\n",
       "  0.9210526315789473,\n",
       "  0.9210526315789473],\n",
       " [0.9210526315789473,\n",
       "  0.9210526315789473,\n",
       "  0.9210526315789473,\n",
       "  0.9210526315789473,\n",
       "  0.9210526315789473],\n",
       " [0.9210526315789473,\n",
       "  0.9210526315789473,\n",
       "  0.9210526315789473,\n",
       "  0.9210526315789473,\n",
       "  0.9210526315789473],\n",
       " [0.9210526315789473,\n",
       "  0.9210526315789473,\n",
       "  0.9210526315789473,\n",
       "  0.9210526315789473,\n",
       "  0.9210526315789473],\n",
       " [0.9210526315789473,\n",
       "  0.9210526315789473,\n",
       "  0.9210526315789473,\n",
       "  0.9210526315789473,\n",
       "  0.9210526315789473]]"
      ]
     },
     "execution_count": 25,
     "metadata": {},
     "output_type": "execute_result"
    }
   ],
   "source": [
    "aglob"
   ]
  },
  {
   "cell_type": "code",
   "execution_count": 119,
   "metadata": {},
   "outputs": [
    {
     "name": "stderr",
     "output_type": "stream",
     "text": [
      "C:\\Python\\Python37\\lib\\site-packages\\scipy\\signal\\spectral.py:1815: UserWarning: Input data is complex, switching to return_onesided=False\n",
      "  warnings.warn('Input data is complex, switching to '\n"
     ]
    },
    {
     "data": {
      "text/plain": [
       "100400"
      ]
     },
     "execution_count": 119,
     "metadata": {},
     "output_type": "execute_result"
    }
   ],
   "source": [
    "vec = stft_run(125,2,400)\n",
    "len(vec[0])"
   ]
  },
  {
   "cell_type": "code",
   "execution_count": 120,
   "metadata": {},
   "outputs": [
    {
     "data": {
      "text/plain": [
       "(186,)"
      ]
     },
     "execution_count": 120,
     "metadata": {},
     "output_type": "execute_result"
    }
   ],
   "source": [
    "X.shape"
   ]
  },
  {
   "cell_type": "code",
   "execution_count": 15,
   "metadata": {},
   "outputs": [],
   "source": [
    "from sklearn.model_selection import train_test_split"
   ]
  },
  {
   "cell_type": "code",
   "execution_count": 91,
   "metadata": {},
   "outputs": [],
   "source": [
    "X_train, X_test, y_train, y_test = train_test_split(\n",
    "...     X, y, test_size=0.3, random_state=42)"
   ]
  },
  {
   "cell_type": "code",
   "execution_count": 92,
   "metadata": {},
   "outputs": [
    {
     "data": {
      "text/plain": [
       "0.8392857142857143"
      ]
     },
     "execution_count": 92,
     "metadata": {},
     "output_type": "execute_result"
    }
   ],
   "source": [
    "X = np.asarray(vec)\n",
    "clf.fit(X_train,y_train)\n",
    "clf.score(X_test,y_test)"
   ]
  },
  {
   "cell_type": "code",
   "execution_count": 98,
   "metadata": {},
   "outputs": [],
   "source": [
    "y_pred= clf.predict(X_test)"
   ]
  },
  {
   "cell_type": "code",
   "execution_count": 99,
   "metadata": {
    "collapsed": true,
    "jupyter": {
     "outputs_hidden": true
    }
   },
   "outputs": [
    {
     "name": "stdout",
     "output_type": "stream",
     "text": [
      "true\n",
      "true\n",
      "true\n",
      "true\n",
      "true\n",
      "true\n",
      "true\n",
      "true\n",
      "true\n",
      "true\n",
      "true\n",
      "true\n",
      "true\n",
      "true\n",
      "true\n",
      "true\n",
      "true\n",
      "true\n",
      "true\n",
      "true\n",
      "true\n",
      "true\n",
      "true\n",
      "true\n",
      "true\n",
      "true\n",
      "true\n",
      "true\n",
      "true\n",
      "true\n",
      "true\n",
      "true\n",
      "true\n",
      "true\n",
      "true\n",
      "true\n",
      "true\n",
      "true\n",
      "true\n",
      "true\n",
      "true\n",
      "true\n",
      "true\n",
      "true\n",
      "true\n",
      "true\n",
      "true\n"
     ]
    }
   ],
   "source": [
    "misc =[]\n",
    "for i in range(len(y_pred)):\n",
    "    if y_pred[i]==y_test[i]:\n",
    "        print(\"true\")\n",
    "    else:\n",
    "        misc.append(X_test[i])"
   ]
  },
  {
   "cell_type": "code",
   "execution_count": 100,
   "metadata": {},
   "outputs": [
    {
     "data": {
      "text/plain": [
       "9"
      ]
     },
     "execution_count": 100,
     "metadata": {},
     "output_type": "execute_result"
    }
   ],
   "source": [
    "len(misc)"
   ]
  },
  {
   "cell_type": "code",
   "execution_count": 93,
   "metadata": {},
   "outputs": [
    {
     "data": {
      "text/plain": [
       "array([[29,  2],\n",
       "       [ 7, 18]], dtype=int64)"
      ]
     },
     "execution_count": 93,
     "metadata": {},
     "output_type": "execute_result"
    }
   ],
   "source": [
    "from sklearn.metrics import confusion_matrix\n",
    "confusion_matrix(y_test, clf.predict(X_test))"
   ]
  }
 ],
 "metadata": {
  "kernelspec": {
   "display_name": "Python 3.7.4 64-bit",
   "language": "python",
   "name": "python37464bit6dab32899f6947caab61992746272921"
  },
  "language_info": {
   "codemirror_mode": {
    "name": "ipython",
    "version": 3
   },
   "file_extension": ".py",
   "mimetype": "text/x-python",
   "name": "python",
   "nbconvert_exporter": "python",
   "pygments_lexer": "ipython3",
   "version": "3.7.4"
  }
 },
 "nbformat": 4,
 "nbformat_minor": 4
}
