{
 "cells": [
  {
   "cell_type": "code",
   "execution_count": 1,
   "metadata": {},
   "outputs": [],
   "source": [
    "import glob\n",
    "import pandas as pd\n",
    "import numpy as np\n",
    "import matplotlib.pyplot as plt\n",
    "import plotly\n",
    "from scipy.spatial.distance import euclidean as eu\n",
    "import math"
   ]
  },
  {
   "cell_type": "code",
   "execution_count": 3,
   "metadata": {},
   "outputs": [],
   "source": [
    "D_path = glob.glob('Data\\Dyslexic' + \"\\*\")\n",
    "C_path = glob.glob('Data\\Control' + \"\\*\")\n",
    "\n",
    "C_data = []\n",
    "for path in C_path:\n",
    "    temp = pd.read_csv(path)\n",
    "    temp = temp.drop('Unnamed: 0',axis = 1)\n",
    "    C_data.append(temp)\n",
    "\n",
    "D_data = []\n",
    "for path in D_path:\n",
    "    temp = pd.read_csv(path)\n",
    "    temp = temp.drop('Unnamed: 0',axis = 1)\n",
    "    D_data.append(temp)"
   ]
  },
  {
   "cell_type": "code",
   "execution_count": 4,
   "metadata": {},
   "outputs": [
    {
     "data": {
      "text/html": [
       "<div>\n",
       "<style scoped>\n",
       "    .dataframe tbody tr th:only-of-type {\n",
       "        vertical-align: middle;\n",
       "    }\n",
       "\n",
       "    .dataframe tbody tr th {\n",
       "        vertical-align: top;\n",
       "    }\n",
       "\n",
       "    .dataframe thead th {\n",
       "        text-align: right;\n",
       "    }\n",
       "</style>\n",
       "<table border=\"1\" class=\"dataframe\">\n",
       "  <thead>\n",
       "    <tr style=\"text-align: right;\">\n",
       "      <th></th>\n",
       "      <th>T</th>\n",
       "      <th>LX</th>\n",
       "      <th>LY</th>\n",
       "      <th>RX</th>\n",
       "      <th>RY</th>\n",
       "    </tr>\n",
       "  </thead>\n",
       "  <tbody>\n",
       "    <tr>\n",
       "      <th>0</th>\n",
       "      <td>0.0</td>\n",
       "      <td>0.00000</td>\n",
       "      <td>0.00000</td>\n",
       "      <td>0.00000</td>\n",
       "      <td>0.00000</td>\n",
       "    </tr>\n",
       "    <tr>\n",
       "      <th>1</th>\n",
       "      <td>20.0</td>\n",
       "      <td>0.65535</td>\n",
       "      <td>-0.00001</td>\n",
       "      <td>0.65536</td>\n",
       "      <td>-0.65536</td>\n",
       "    </tr>\n",
       "    <tr>\n",
       "      <th>2</th>\n",
       "      <td>40.0</td>\n",
       "      <td>0.65534</td>\n",
       "      <td>-0.00001</td>\n",
       "      <td>0.65536</td>\n",
       "      <td>-0.65536</td>\n",
       "    </tr>\n",
       "    <tr>\n",
       "      <th>3</th>\n",
       "      <td>60.0</td>\n",
       "      <td>0.65534</td>\n",
       "      <td>-0.00001</td>\n",
       "      <td>0.65535</td>\n",
       "      <td>-0.65536</td>\n",
       "    </tr>\n",
       "    <tr>\n",
       "      <th>4</th>\n",
       "      <td>80.0</td>\n",
       "      <td>0.65534</td>\n",
       "      <td>-0.00001</td>\n",
       "      <td>0.65534</td>\n",
       "      <td>0.00000</td>\n",
       "    </tr>\n",
       "    <tr>\n",
       "      <th>...</th>\n",
       "      <td>...</td>\n",
       "      <td>...</td>\n",
       "      <td>...</td>\n",
       "      <td>...</td>\n",
       "      <td>...</td>\n",
       "    </tr>\n",
       "    <tr>\n",
       "      <th>1494</th>\n",
       "      <td>29880.0</td>\n",
       "      <td>103.54872</td>\n",
       "      <td>37.35520</td>\n",
       "      <td>104.85945</td>\n",
       "      <td>36.69984</td>\n",
       "    </tr>\n",
       "    <tr>\n",
       "      <th>1495</th>\n",
       "      <td>29900.0</td>\n",
       "      <td>105.51480</td>\n",
       "      <td>36.04447</td>\n",
       "      <td>106.17018</td>\n",
       "      <td>32.76765</td>\n",
       "    </tr>\n",
       "    <tr>\n",
       "      <th>1496</th>\n",
       "      <td>29920.0</td>\n",
       "      <td>107.48088</td>\n",
       "      <td>27.52472</td>\n",
       "      <td>108.79159</td>\n",
       "      <td>14.41743</td>\n",
       "    </tr>\n",
       "    <tr>\n",
       "      <th>1497</th>\n",
       "      <td>29940.0</td>\n",
       "      <td>108.13612</td>\n",
       "      <td>-16.38473</td>\n",
       "      <td>102.89310</td>\n",
       "      <td>-78.64416</td>\n",
       "    </tr>\n",
       "    <tr>\n",
       "      <th>1498</th>\n",
       "      <td>29960.0</td>\n",
       "      <td>104.20380</td>\n",
       "      <td>-135.00506</td>\n",
       "      <td>114.69085</td>\n",
       "      <td>-155.97572</td>\n",
       "    </tr>\n",
       "  </tbody>\n",
       "</table>\n",
       "<p>1499 rows × 5 columns</p>\n",
       "</div>"
      ],
      "text/plain": [
       "            T         LX         LY         RX         RY\n",
       "0         0.0    0.00000    0.00000    0.00000    0.00000\n",
       "1        20.0    0.65535   -0.00001    0.65536   -0.65536\n",
       "2        40.0    0.65534   -0.00001    0.65536   -0.65536\n",
       "3        60.0    0.65534   -0.00001    0.65535   -0.65536\n",
       "4        80.0    0.65534   -0.00001    0.65534    0.00000\n",
       "...       ...        ...        ...        ...        ...\n",
       "1494  29880.0  103.54872   37.35520  104.85945   36.69984\n",
       "1495  29900.0  105.51480   36.04447  106.17018   32.76765\n",
       "1496  29920.0  107.48088   27.52472  108.79159   14.41743\n",
       "1497  29940.0  108.13612  -16.38473  102.89310  -78.64416\n",
       "1498  29960.0  104.20380 -135.00506  114.69085 -155.97572\n",
       "\n",
       "[1499 rows x 5 columns]"
      ]
     },
     "execution_count": 4,
     "metadata": {},
     "output_type": "execute_result"
    }
   ],
   "source": [
    "data = C_data[0]\n",
    "data"
   ]
  },
  {
   "cell_type": "code",
   "execution_count": 5,
   "metadata": {},
   "outputs": [],
   "source": [
    "C_new = []\n",
    "for data in C_data:\n",
    "    X =data[['LX','RX']]\n",
    "    Y =data[['LY','RY']]\n",
    "    Xm = X.mean(axis=1)\n",
    "    Ym = Y.mean(axis=1)\n",
    "    f = pd.DataFrame([data.iloc[:,0],Xm,Ym])\n",
    "    f = f.transpose()\n",
    "    f = f.rename(columns = {'Unnamed 0': 'X', 'Unnamed 1': 'Y'})\n",
    "    C_new.append(f)"
   ]
  },
  {
   "cell_type": "code",
   "execution_count": 6,
   "metadata": {},
   "outputs": [],
   "source": [
    "D_new = []\n",
    "for data in D_data:\n",
    "    X =data[['LX','RX']]\n",
    "    Y =data[['LY','RY']]\n",
    "    Xm = X.mean(axis=1)\n",
    "    Ym = Y.mean(axis=1)\n",
    "    f = pd.DataFrame([data.iloc[:,0],Xm,Ym])\n",
    "    f = f.transpose()\n",
    "    f = f.rename(columns = {'Unnamed 0': 'X', 'Unnamed 1': 'Y'})\n",
    "    D_new.append(f)"
   ]
  },
  {
   "cell_type": "code",
   "execution_count": 20,
   "metadata": {},
   "outputs": [],
   "source": [
    "trial = C_new[1]"
   ]
  },
  {
   "cell_type": "code",
   "execution_count": 21,
   "metadata": {},
   "outputs": [],
   "source": [
    "x = trial['X']\n",
    "y = trial['Y']\n",
    "t = trial['T']"
   ]
  },
  {
   "cell_type": "code",
   "execution_count": 22,
   "metadata": {},
   "outputs": [],
   "source": [
    "z=[]\n",
    "for i in range(0,x.size):\n",
    "    z.append(complex(x[i],y[i]))"
   ]
  },
  {
   "cell_type": "code",
   "execution_count": 23,
   "metadata": {},
   "outputs": [],
   "source": [
    "Z = np.fft.fft(z)"
   ]
  },
  {
   "cell_type": "code",
   "execution_count": 24,
   "metadata": {},
   "outputs": [
    {
     "name": "stderr",
     "output_type": "stream",
     "text": [
      "C:\\Python\\Python37\\lib\\site-packages\\numpy\\core\\_asarray.py:85: ComplexWarning: Casting complex values to real discards the imaginary part\n",
      "  return array(a, dtype, copy=False, order=order)\n"
     ]
    },
    {
     "data": {
      "text/plain": [
       "[<matplotlib.lines.Line2D at 0x20d1b589448>]"
      ]
     },
     "execution_count": 24,
     "metadata": {},
     "output_type": "execute_result"
    },
    {
     "data": {
      "image/png": "[encoded data removed]",
      "text/plain": [
       "<Figure size 432x288 with 1 Axes>"
      ]
     },
     "metadata": {
      "needs_background": "light"
     },
     "output_type": "display_data"
    }
   ],
   "source": [
    "plt.plot(abs(Z)/max(Z))"
   ]
  },
  {
   "cell_type": "code",
   "execution_count": 25,
   "metadata": {},
   "outputs": [],
   "source": [
    "Z_norm = abs(Z)\n",
    "Z_norm = Z_norm/ max(Z_norm)"
   ]
  },
  {
   "cell_type": "code",
   "execution_count": 13,
   "metadata": {},
   "outputs": [
    {
     "name": "stdout",
     "output_type": "stream",
     "text": [
      "{1249, 999, 1999, 1749, 1499}\n",
      "{1499, 1999}\n"
     ]
    }
   ],
   "source": [
    "max_C =[]\n",
    "max_D =[]\n",
    "for i in range(len(C_new)):\n",
    "    max_C.append(len(C_new[i]))\n",
    "for i in range(len(D_new)):\n",
    "    max_D.append(len(D_new[i]))\n",
    "print(set(max_C))\n",
    "print(set(max_D))"
   ]
  },
  {
   "cell_type": "code",
   "execution_count": 27,
   "metadata": {},
   "outputs": [
    {
     "name": "stdout",
     "output_type": "stream",
     "text": [
      "1999 2.3071164755905835\n"
     ]
    }
   ],
   "source": [
    "L = len(Z_norm)+1\n",
    "k = int((len(Z_norm) + 1)/250) # k varies from 4 to 8\n",
    "N = 200\n",
    "B  = 10*k ### chose the factor to be greater than (250/N), for overlap to exist\n",
    "E =round((N*B - L)/(N-1))\n",
    "step_size = B-E\n",
    "bucket_size = B\n",
    "bin_val=[]\n",
    "for a in range(N-1):\n",
    "    bin_val = np.append(bin_val, sum(np.abs(Z_norm[a*step_size:((a*step_size)+bucket_size)])))\n",
    "    if (a == (N-2)):\n",
    "        print(len(Z_norm),sum(np.abs(Z_norm[a*step_size:]))) \n",
    "            \n",
    "binval = np.append(binval, sum(np.abs(Z_norm[-(bucket_size):])))\n",
    "bin_val = bin_val/(max(bin_val))"
   ]
  },
  {
   "cell_type": "code",
   "execution_count": 15,
   "metadata": {},
   "outputs": [
    {
     "data": {
      "image/png": "[encoded data removed]",
      "text/plain": [
       "<Figure size 432x288 with 1 Axes>"
      ]
     },
     "metadata": {
      "needs_background": "light"
     },
     "output_type": "display_data"
    }
   ],
   "source": [
    "bin_xn = binval.tolist()\n",
    "ht = bin_xn\n",
    "ind = list(range(len(ht)))\n",
    "plt.bar(ind, ht)\n",
    "plt.show()"
   ]
  },
  {
   "cell_type": "code",
   "execution_count": 16,
   "metadata": {},
   "outputs": [
    {
     "data": {
      "text/plain": [
       "156"
      ]
     },
     "execution_count": 16,
     "metadata": {},
     "output_type": "execute_result"
    }
   ],
   "source": [
    "len(ind)"
   ]
  },
  {
   "cell_type": "code",
   "execution_count": null,
   "metadata": {},
   "outputs": [],
   "source": []
  },
  {
   "cell_type": "code",
   "execution_count": 17,
   "metadata": {
    "collapsed": true,
    "jupyter": {
     "outputs_hidden": true
    }
   },
   "outputs": [
    {
     "name": "stdout",
     "output_type": "stream",
     "text": [
      "1499 203552.88650975202\n",
      "1999 5.425682480147572\n",
      "1249 90706.56952197666\n",
      "1999 18.62171638058598\n",
      "1249 38076.098091048065\n",
      "1249 11.251082289473889\n",
      "1499 50647.59810605403\n",
      "1499 2.356312839678857\n",
      "1249 116361.9225130807\n",
      "1499 3.8373840715509338\n",
      "1499 88197.07218906992\n",
      "1499 2.9436092533284612\n",
      "1749 41681.78988357709\n",
      "1249 6.426531730482131\n",
      "1499 62835.04839724228\n",
      "1499 1.271671764572115\n",
      "1999 179127.9410781344\n",
      "1499 2.191576804086856\n",
      "1499 124580.56587437312\n",
      "1499 0.8947445860056469\n",
      "1499 119470.83484347843\n",
      "1499 0.5705752678981497\n",
      "1499 116781.5803176355\n",
      "1249 1.8658118380396216\n",
      "1499 231159.12703925648\n",
      "1499 1.181402785298123\n",
      "1499 46977.99482588115\n",
      "1249 8.459443385122594\n",
      "1499 33433.629746791696\n",
      "999 7.005504030941239\n",
      "1499 17766.41160150096\n",
      "1499 17.010237179354643\n",
      "1499 9430.62363939036\n",
      "1499 23.95109185668647\n",
      "1999 50550.56558596002\n",
      "999 4.087155135578817\n",
      "1499 29473.989344325662\n",
      "1499 16.852584456901972\n",
      "1999 20760.95709890193\n",
      "1499 21.244453299873236\n",
      "1999 30456.481307088565\n",
      "1499 7.64094589325417\n",
      "1499 18463.373809699413\n",
      "1499 10.378309952905164\n",
      "1499 9837.236400427242\n",
      "1499 37.872898863580176\n",
      "1999 13506.250382102815\n",
      "1499 74.9021797938514\n",
      "1499 1759.2105422091438\n",
      "1499 93.76711167254611\n",
      "1499 1743.3962248526964\n",
      "1999 274.8685942963256\n",
      "1999 2448.4368993749363\n",
      "999 66.7050156418207\n",
      "1499 4081.8409828410554\n",
      "999 47.51658410396453\n",
      "1249 10120.235089885842\n",
      "1499 30.369691152717163\n",
      "999 11129.555559588704\n",
      "1499 10.596121838318005\n",
      "999 19500.759735223408\n",
      "999 9.988637376827288\n",
      "1499 10936.8559312737\n",
      "999 6.505894807201907\n",
      "1499 15667.226877440064\n",
      "1499 4.333516380574048\n",
      "1999 63472.45106658364\n",
      "1499 4.209546619734404\n",
      "1999 122749.30201453945\n",
      "1249 6.182664128180387\n",
      "1499 57896.436281773\n",
      "1499 5.215662121690065\n",
      "999 8256.693211034579\n",
      "999 15.552847620263307\n",
      "1249 47133.71223638721\n",
      "1499 4.431110750562216\n",
      "1499 20160.84820471963\n",
      "1499 8.287444614966805\n",
      "999 13890.812673035336\n",
      "1499 42.164312665125706\n",
      "1499 5073.1507495716805\n",
      "1499 58.54127317069739\n",
      "1499 1139.7053226919913\n",
      "1499 76.38689698513734\n",
      "1499 3240.0350099672432\n",
      "1499 58.43449262100761\n",
      "1999 7485.385921944383\n",
      "1499 25.689408595490022\n"
     ]
    }
   ],
   "source": [
    "C_bins = []\n",
    "for j in range(len(C_new)):\n",
    "    dat = C_new[j]\n",
    "    x = dat['X']\n",
    "    y = dat['Y']\n",
    "    t = dat['T']\n",
    "    \n",
    "    z=[]\n",
    "    for i in range(0,x.size):\n",
    "        z.append(complex(x[i],y[i]))\n",
    "    Z = np.fft.fft(z)\n",
    "        \n",
    "    Z_norm = abs(Z)/ max(Z_norm)\n",
    "    \n",
    "    L = len(Z_norm)+1\n",
    "    k = int((len(Z_norm) + 1)/250) # k varies from 4 to 8\n",
    "    N = 200\n",
    "    B  = 10*k ### chose the factor to be greater than (250/N), for overlap to exist\n",
    "    E =round((N*B - L)/(N-1))\n",
    "    step_size = B-E\n",
    "    bucket_size = B\n",
    "    bin_val=[]\n",
    "    for a in range(N-1):\n",
    "        bin_val = np.append(bin_val, sum(np.abs(Z_norm[a*step_size:((a*step_size)+bucket_size)])))\n",
    "        if (a == (N-2)):\n",
    "            print(len(Z_norm),sum(np.abs(Z_norm[a*step_size:((a*step_size)+bucket_size)])))\n",
    "    \n",
    "    binval = np.append(binval, sum(np.abs(Z_norm[-(bucket_size):])))\n",
    "    bin_val = bin_val/(max(bin_val))\n",
    "    C_bins.append(bin_val.tolist())\n"
   ]
  },
  {
   "cell_type": "code",
   "execution_count": 89,
   "metadata": {},
   "outputs": [
    {
     "data": {
      "text/html": [
       "<div>\n",
       "<style scoped>\n",
       "    .dataframe tbody tr th:only-of-type {\n",
       "        vertical-align: middle;\n",
       "    }\n",
       "\n",
       "    .dataframe tbody tr th {\n",
       "        vertical-align: top;\n",
       "    }\n",
       "\n",
       "    .dataframe thead th {\n",
       "        text-align: right;\n",
       "    }\n",
       "</style>\n",
       "<table border=\"1\" class=\"dataframe\">\n",
       "  <thead>\n",
       "    <tr style=\"text-align: right;\">\n",
       "      <th></th>\n",
       "      <th>T</th>\n",
       "      <th>X</th>\n",
       "      <th>Y</th>\n",
       "    </tr>\n",
       "  </thead>\n",
       "  <tbody>\n",
       "    <tr>\n",
       "      <th>0</th>\n",
       "      <td>0.0</td>\n",
       "      <td>0.000000</td>\n",
       "      <td>0.000000</td>\n",
       "    </tr>\n",
       "    <tr>\n",
       "      <th>1</th>\n",
       "      <td>20.0</td>\n",
       "      <td>0.327680</td>\n",
       "      <td>-0.327685</td>\n",
       "    </tr>\n",
       "    <tr>\n",
       "      <th>2</th>\n",
       "      <td>40.0</td>\n",
       "      <td>0.327680</td>\n",
       "      <td>-0.327685</td>\n",
       "    </tr>\n",
       "    <tr>\n",
       "      <th>3</th>\n",
       "      <td>60.0</td>\n",
       "      <td>0.327680</td>\n",
       "      <td>-0.327680</td>\n",
       "    </tr>\n",
       "    <tr>\n",
       "      <th>4</th>\n",
       "      <td>80.0</td>\n",
       "      <td>0.327685</td>\n",
       "      <td>0.000000</td>\n",
       "    </tr>\n",
       "    <tr>\n",
       "      <th>...</th>\n",
       "      <td>...</td>\n",
       "      <td>...</td>\n",
       "      <td>...</td>\n",
       "    </tr>\n",
       "    <tr>\n",
       "      <th>1994</th>\n",
       "      <td>39880.0</td>\n",
       "      <td>-49.480590</td>\n",
       "      <td>-24.903910</td>\n",
       "    </tr>\n",
       "    <tr>\n",
       "      <th>1995</th>\n",
       "      <td>39900.0</td>\n",
       "      <td>-44.893070</td>\n",
       "      <td>1.310915</td>\n",
       "    </tr>\n",
       "    <tr>\n",
       "      <th>1996</th>\n",
       "      <td>39920.0</td>\n",
       "      <td>-38.994830</td>\n",
       "      <td>9.830730</td>\n",
       "    </tr>\n",
       "    <tr>\n",
       "      <th>1997</th>\n",
       "      <td>39940.0</td>\n",
       "      <td>-36.701070</td>\n",
       "      <td>14.418295</td>\n",
       "    </tr>\n",
       "    <tr>\n",
       "      <th>1998</th>\n",
       "      <td>39960.0</td>\n",
       "      <td>-36.373390</td>\n",
       "      <td>17.039755</td>\n",
       "    </tr>\n",
       "  </tbody>\n",
       "</table>\n",
       "<p>1999 rows × 3 columns</p>\n",
       "</div>"
      ],
      "text/plain": [
       "            T          X          Y\n",
       "0         0.0   0.000000   0.000000\n",
       "1        20.0   0.327680  -0.327685\n",
       "2        40.0   0.327680  -0.327685\n",
       "3        60.0   0.327680  -0.327680\n",
       "4        80.0   0.327685   0.000000\n",
       "...       ...        ...        ...\n",
       "1994  39880.0 -49.480590 -24.903910\n",
       "1995  39900.0 -44.893070   1.310915\n",
       "1996  39920.0 -38.994830   9.830730\n",
       "1997  39940.0 -36.701070  14.418295\n",
       "1998  39960.0 -36.373390  17.039755\n",
       "\n",
       "[1999 rows x 3 columns]"
      ]
     },
     "execution_count": 89,
     "metadata": {},
     "output_type": "execute_result"
    }
   ],
   "source": []
  },
  {
   "cell_type": "code",
   "execution_count": 82,
   "metadata": {},
   "outputs": [],
   "source": [
    "D_bins = []\n",
    "for j in range(len(D_new)):\n",
    "    dat = D_new[j]\n",
    "    x = dat['X']\n",
    "    y = dat['Y']\n",
    "    t = dat['T']\n",
    "    \n",
    "    z=[]\n",
    "    for i in range(0,x.size):\n",
    "        z.append(complex(x[i],y[i]))\n",
    "    Z = np.fft.fft(z)\n",
    "        \n",
    "    Z_norm = abs(Z)/ max(Z_norm)\n",
    "    \n",
    "    L = len(Z_norm)+1\n",
    "    k = int((len(Z_norm) + 1)/250) # k varies from 4 to 8\n",
    "    N = 200\n",
    "    B  = 10*k\n",
    "    E =round((N*B - L)/(N-1))\n",
    "    step_size = B-E\n",
    "    bucket_size = B\n",
    "    bin_val=[]\n",
    "    for a in range(N-1):\n",
    "        bin_val = np.append(bin_val, sum((Z_norm[a*step_size:((a*step_size)+bucket_size)])))\n",
    "    binval = np.append(binval, sum((Z_norm[-(bucket_size):])))\n",
    "    bin_val = bin_val/(max(bin_val))\n",
    "    D_bins.append(bin_val.tolist())"
   ]
  },
  {
   "cell_type": "code",
   "execution_count": 50,
   "metadata": {},
   "outputs": [
    {
     "name": "stdout",
     "output_type": "stream",
     "text": [
      "199\n",
      "199\n",
      "199\n",
      "199\n",
      "199\n",
      "199\n",
      "199\n",
      "199\n",
      "199\n",
      "199\n"
     ]
    },
    {
     "data": {
      "text/plain": [
       "<function matplotlib.pyplot.show(*args, **kw)>"
      ]
     },
     "execution_count": 50,
     "metadata": {},
     "output_type": "execute_result"
    },
    {
     "data": {
      "image/png": "[encoded data removed]",
      "text/plain": [
       "<Figure size 5760x2160 with 10 Axes>"
      ]
     },
     "metadata": {
      "needs_background": "light"
     },
     "output_type": "display_data"
    }
   ],
   "source": [
    "#FFT Normalized\n",
    "fig,ax = plt.subplots(2,5, sharey= True, figsize = (80,30) )\n",
    "for j in range(5):\n",
    "    #print(len(C_new[j]))\n",
    "    ht = C_bins[j]\n",
    "    ind = list(range(len(ht)))\n",
    "    print(len(ind))\n",
    "    ax[0][j%5].bar(ind, ht, width=0.6)\n",
    "\n",
    "for j in range(5):\n",
    "    #print(len(D_new[j]))\n",
    "    ht = D_bins[j]\n",
    "    ind = list(range(len(ht)))\n",
    "    print(len(ind))\n",
    "    ax[1][j].bar(ind, ht, width=0.6)\n",
    "    \n",
    "plt.show"
   ]
  },
  {
   "cell_type": "code",
   "execution_count": 81,
   "metadata": {},
   "outputs": [
    {
     "name": "stdout",
     "output_type": "stream",
     "text": [
      "990 : 1030 | 960\n",
      "[200, 1000, 40, 35, 5]\n",
      "1188 : 1238 | 1200\n",
      "[200, 1250, 50, 44, 6]\n",
      "1386 : 1446 | 1440\n",
      "[200, 1500, 60, 53, 7]\n",
      "1584 : 1654 | 1680\n",
      "[200, 1750, 70, 62, 8]\n",
      "1980 : 2060 | 1920\n",
      "[200, 2000, 80, 70, 10]\n"
     ]
    }
   ],
   "source": [
    "for i in range(4,9):\n",
    "    N = 200\n",
    "    L = 250*i\n",
    "    B = 10*i\n",
    "    E =(N*B - L)/(N-1)\n",
    "    E = round(E)\n",
    "    S = B - E\n",
    "    g = [N,L,B,E,S]\n",
    "    \n",
    "    start = 198* S\n",
    "    end = start+B\n",
    "    nextg = L - B\n",
    "    print(start,\":\", end, \"|\",nextg)\n",
    "    print(g)"
   ]
  },
  {
   "cell_type": "code",
   "execution_count": 23,
   "metadata": {},
   "outputs": [],
   "source": [
    "def return_sq_im(buckets):    \n",
    "    matrix = np.empty([10,10])    \n",
    "    for a in range(10):\n",
    "        for b in range(10):\n",
    "            m = buckets[a]\n",
    "            n = buckets[b]\n",
    "\n",
    "            dis = eu([m], [n])\n",
    "            matrix[a][b] = dis \n",
    "\n",
    "    mx = np.amax(matrix)\n",
    "    img = matrix/mx  \n",
    "    img = img*256\n",
    "    \n",
    "    return img"
   ]
  },
  {
   "cell_type": "code",
   "execution_count": 31,
   "metadata": {},
   "outputs": [
    {
     "data": {
      "text/plain": [
       "10"
      ]
     },
     "execution_count": 31,
     "metadata": {},
     "output_type": "execute_result"
    }
   ],
   "source": [
    "final = []\n",
    "for i in range(5):\n",
    "    final.append(C_bins[i])\n",
    "for i in range(5):\n",
    "    final.append(D_bins[i])\n",
    "len(final)"
   ]
  },
  {
   "cell_type": "code",
   "execution_count": 32,
   "metadata": {},
   "outputs": [
    {
     "ename": "ValueError",
     "evalue": "operands could not be broadcast together with shapes (213,) (199,) ",
     "output_type": "error",
     "traceback": [
      "\u001b[1;31m---------------------------------------------------------------------------\u001b[0m",
      "\u001b[1;31mValueError\u001b[0m                                Traceback (most recent call last)",
      "\u001b[1;32m<ipython-input-32-0800760486e6>\u001b[0m in \u001b[0;36m<module>\u001b[1;34m\u001b[0m\n\u001b[1;32m----> 1\u001b[1;33m \u001b[0mimg\u001b[0m \u001b[1;33m=\u001b[0m \u001b[0mreturn_sq_im\u001b[0m\u001b[1;33m(\u001b[0m\u001b[0mfinal\u001b[0m\u001b[1;33m)\u001b[0m\u001b[1;33m\u001b[0m\u001b[1;33m\u001b[0m\u001b[0m\n\u001b[0m\u001b[0;32m      2\u001b[0m \u001b[1;33m\u001b[0m\u001b[0m\n\u001b[0;32m      3\u001b[0m \u001b[0mplt\u001b[0m\u001b[1;33m.\u001b[0m\u001b[0mimshow\u001b[0m\u001b[1;33m(\u001b[0m\u001b[0mimg\u001b[0m\u001b[1;33m,\u001b[0m \u001b[0mcmap\u001b[0m\u001b[1;33m=\u001b[0m\u001b[1;34m'gray'\u001b[0m\u001b[1;33m,\u001b[0m \u001b[0mvmin\u001b[0m\u001b[1;33m=\u001b[0m\u001b[1;36m0\u001b[0m\u001b[1;33m,\u001b[0m \u001b[0mvmax\u001b[0m\u001b[1;33m=\u001b[0m\u001b[1;36m256\u001b[0m\u001b[1;33m)\u001b[0m\u001b[1;33m\u001b[0m\u001b[1;33m\u001b[0m\u001b[0m\n\u001b[0;32m      4\u001b[0m \u001b[0mplt\u001b[0m\u001b[1;33m.\u001b[0m\u001b[0mshow\u001b[0m\u001b[1;33m(\u001b[0m\u001b[1;33m)\u001b[0m\u001b[1;33m\u001b[0m\u001b[1;33m\u001b[0m\u001b[0m\n",
      "\u001b[1;32m<ipython-input-23-d7e2d4faaaf8>\u001b[0m in \u001b[0;36mreturn_sq_im\u001b[1;34m(buckets)\u001b[0m\n\u001b[0;32m      6\u001b[0m             \u001b[0mn\u001b[0m \u001b[1;33m=\u001b[0m \u001b[0mbuckets\u001b[0m\u001b[1;33m[\u001b[0m\u001b[0mb\u001b[0m\u001b[1;33m]\u001b[0m\u001b[1;33m\u001b[0m\u001b[1;33m\u001b[0m\u001b[0m\n\u001b[0;32m      7\u001b[0m \u001b[1;33m\u001b[0m\u001b[0m\n\u001b[1;32m----> 8\u001b[1;33m             \u001b[0mdis\u001b[0m \u001b[1;33m=\u001b[0m \u001b[0meu\u001b[0m\u001b[1;33m(\u001b[0m\u001b[1;33m[\u001b[0m\u001b[0mm\u001b[0m\u001b[1;33m]\u001b[0m\u001b[1;33m,\u001b[0m \u001b[1;33m[\u001b[0m\u001b[0mn\u001b[0m\u001b[1;33m]\u001b[0m\u001b[1;33m)\u001b[0m\u001b[1;33m\u001b[0m\u001b[1;33m\u001b[0m\u001b[0m\n\u001b[0m\u001b[0;32m      9\u001b[0m             \u001b[0mmatrix\u001b[0m\u001b[1;33m[\u001b[0m\u001b[0ma\u001b[0m\u001b[1;33m]\u001b[0m\u001b[1;33m[\u001b[0m\u001b[0mb\u001b[0m\u001b[1;33m]\u001b[0m \u001b[1;33m=\u001b[0m \u001b[0mdis\u001b[0m\u001b[1;33m\u001b[0m\u001b[1;33m\u001b[0m\u001b[0m\n\u001b[0;32m     10\u001b[0m \u001b[1;33m\u001b[0m\u001b[0m\n",
      "\u001b[1;32mC:\\Python\\Python37\\lib\\site-packages\\scipy\\spatial\\distance.py\u001b[0m in \u001b[0;36meuclidean\u001b[1;34m(u, v, w)\u001b[0m\n\u001b[0;32m    618\u001b[0m \u001b[1;33m\u001b[0m\u001b[0m\n\u001b[0;32m    619\u001b[0m     \"\"\"\n\u001b[1;32m--> 620\u001b[1;33m     \u001b[1;32mreturn\u001b[0m \u001b[0mminkowski\u001b[0m\u001b[1;33m(\u001b[0m\u001b[0mu\u001b[0m\u001b[1;33m,\u001b[0m \u001b[0mv\u001b[0m\u001b[1;33m,\u001b[0m \u001b[0mp\u001b[0m\u001b[1;33m=\u001b[0m\u001b[1;36m2\u001b[0m\u001b[1;33m,\u001b[0m \u001b[0mw\u001b[0m\u001b[1;33m=\u001b[0m\u001b[0mw\u001b[0m\u001b[1;33m)\u001b[0m\u001b[1;33m\u001b[0m\u001b[1;33m\u001b[0m\u001b[0m\n\u001b[0m\u001b[0;32m    621\u001b[0m \u001b[1;33m\u001b[0m\u001b[0m\n\u001b[0;32m    622\u001b[0m \u001b[1;33m\u001b[0m\u001b[0m\n",
      "\u001b[1;32mC:\\Python\\Python37\\lib\\site-packages\\scipy\\spatial\\distance.py\u001b[0m in \u001b[0;36mminkowski\u001b[1;34m(u, v, p, w)\u001b[0m\n\u001b[0;32m    510\u001b[0m     \u001b[1;32mif\u001b[0m \u001b[0mp\u001b[0m \u001b[1;33m<\u001b[0m \u001b[1;36m1\u001b[0m\u001b[1;33m:\u001b[0m\u001b[1;33m\u001b[0m\u001b[1;33m\u001b[0m\u001b[0m\n\u001b[0;32m    511\u001b[0m         \u001b[1;32mraise\u001b[0m \u001b[0mValueError\u001b[0m\u001b[1;33m(\u001b[0m\u001b[1;34m\"p must be at least 1\"\u001b[0m\u001b[1;33m)\u001b[0m\u001b[1;33m\u001b[0m\u001b[1;33m\u001b[0m\u001b[0m\n\u001b[1;32m--> 512\u001b[1;33m     \u001b[0mu_v\u001b[0m \u001b[1;33m=\u001b[0m \u001b[0mu\u001b[0m \u001b[1;33m-\u001b[0m \u001b[0mv\u001b[0m\u001b[1;33m\u001b[0m\u001b[1;33m\u001b[0m\u001b[0m\n\u001b[0m\u001b[0;32m    513\u001b[0m     \u001b[1;32mif\u001b[0m \u001b[0mw\u001b[0m \u001b[1;32mis\u001b[0m \u001b[1;32mnot\u001b[0m \u001b[1;32mNone\u001b[0m\u001b[1;33m:\u001b[0m\u001b[1;33m\u001b[0m\u001b[1;33m\u001b[0m\u001b[0m\n\u001b[0;32m    514\u001b[0m         \u001b[0mw\u001b[0m \u001b[1;33m=\u001b[0m \u001b[0m_validate_weights\u001b[0m\u001b[1;33m(\u001b[0m\u001b[0mw\u001b[0m\u001b[1;33m)\u001b[0m\u001b[1;33m\u001b[0m\u001b[1;33m\u001b[0m\u001b[0m\n",
      "\u001b[1;31mValueError\u001b[0m: operands could not be broadcast together with shapes (213,) (199,) "
     ]
    }
   ],
   "source": [
    "img = return_sq_im(final)\n",
    "\n",
    "plt.imshow(img, cmap='gray', vmin=0, vmax=256)\n",
    "plt.show()"
   ]
  }
 ],
 "metadata": {
  "kernelspec": {
   "display_name": "Python 3.7.4 64-bit",
   "language": "python",
   "name": "python37464bit6dab32899f6947caab61992746272921"
  },
  "language_info": {
   "codemirror_mode": {
    "name": "ipython",
    "version": 3
   },
   "file_extension": ".py",
   "mimetype": "text/x-python",
   "name": "python",
   "nbconvert_exporter": "python",
   "pygments_lexer": "ipython3",
   "version": "3.7.4"
  }
 },
 "nbformat": 4,
 "nbformat_minor": 4
}
