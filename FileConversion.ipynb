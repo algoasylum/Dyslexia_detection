{
 "cells": [
  {
   "cell_type": "code",
   "execution_count": 1,
   "metadata": {},
   "outputs": [],
   "source": [
    "import glob\n",
    "import pandas as pd\n",
    "import numpy as np"
   ]
  },
  {
   "cell_type": "code",
   "execution_count": 2,
   "metadata": {},
   "outputs": [],
   "source": [
    "path = r'C:\\Users\\hp\\Documents\\AlgoAsylum\\Recording Data'\n",
    "subject_path = glob.glob(path + \"\\*\")"
   ]
  },
  {
   "cell_type": "code",
   "execution_count": null,
   "metadata": {},
   "outputs": [],
   "source": []
  },
  {
   "cell_type": "code",
   "execution_count": 3,
   "metadata": {},
   "outputs": [],
   "source": [
    "Dy_1 = []\n",
    "Dy_2 = []\n",
    "Cntrl_3 = []\n",
    "Cntrl_4 = []\n",
    "for subject in subject_path:\n",
    "    if subject.endswith('1'):\n",
    "        Dy_1.append(subject)\n",
    "    elif subject.endswith('2'):\n",
    "        Dy_2.append(subject)\n",
    "    elif subject.endswith('3'):\n",
    "        Cntrl_3.append(subject)\n",
    "    elif subject.endswith('4'):\n",
    "        Cntrl_4.append(subject)"
   ]
  },
  {
   "cell_type": "code",
   "execution_count": 4,
   "metadata": {},
   "outputs": [],
   "source": [
    "Dyslexic = Dy_1+Dy_2\n",
    "\n",
    "Dyslexic = [subject+'\\*' for subject in Dyslexic]\n",
    "\n",
    "Dyslexic_files = []\n",
    "for path in Dyslexic:\n",
    "    Dyslexic_files.append(glob.glob(path))\n",
    "\n",
    "Dyslexic_names = []\n",
    "for d in Dyslexic_files:\n",
    "    Dyslexic_names.append(d[0].split('\\\\')[6])"
   ]
  },
  {
   "cell_type": "code",
   "execution_count": 5,
   "metadata": {},
   "outputs": [
    {
     "data": {
      "text/plain": [
       "97"
      ]
     },
     "execution_count": 5,
     "metadata": {},
     "output_type": "execute_result"
    }
   ],
   "source": [
    "len(Dyslexic_names)"
   ]
  },
  {
   "cell_type": "code",
   "execution_count": 6,
   "metadata": {},
   "outputs": [
    {
     "data": {
      "text/plain": [
       "['111RP1',\n",
       " '112KA1',\n",
       " '125KM1',\n",
       " '132FJ1',\n",
       " '132SJ1',\n",
       " '142EJ1',\n",
       " '142MM1',\n",
       " '211LJ1',\n",
       " '211ND1',\n",
       " '312BE1',\n",
       " '322EM1',\n",
       " '322RE1',\n",
       " '332PM1',\n",
       " '335NJ1',\n",
       " '342GD1',\n",
       " '342HM1',\n",
       " '343BL1',\n",
       " '343SF1',\n",
       " '343SJ1',\n",
       " '344LL1',\n",
       " '346KU1',\n",
       " '351LR1',\n",
       " '352KM1',\n",
       " '414FJ1',\n",
       " '422BC1',\n",
       " '423MD1',\n",
       " '511EE1',\n",
       " '512ED1',\n",
       " '512LM1',\n",
       " '522BK1',\n",
       " '522NC1',\n",
       " '523GM1',\n",
       " '533KM1',\n",
       " '534FT1',\n",
       " '534SR1',\n",
       " '612SA1',\n",
       " '613KF1',\n",
       " '622FD1',\n",
       " '622RM1',\n",
       " '623GH1',\n",
       " '623JA1',\n",
       " '712FJ1',\n",
       " '712SJ1',\n",
       " '712WA1',\n",
       " '721AF1',\n",
       " '723DT1',\n",
       " '723SJ1',\n",
       " '724VS1',\n",
       " '725MF1',\n",
       " '726HD1',\n",
       " '726OG1',\n",
       " '732KD1',\n",
       " '745DJ1',\n",
       " '751AH1',\n",
       " '751GS1',\n",
       " '752AK1',\n",
       " '752NA1',\n",
       " '753EM1',\n",
       " '753HP1',\n",
       " '761EL1',\n",
       " '761SJ1',\n",
       " '762SL1',\n",
       " '762VH1',\n",
       " '771TJ1',\n",
       " '772CC1',\n",
       " '775SM1',\n",
       " '781PT1',\n",
       " '782PR1',\n",
       " '793MD1',\n",
       " '794EM1',\n",
       " '794SD1',\n",
       " '795JM1',\n",
       " '795MM1',\n",
       " '795SJ1',\n",
       " '826PP1',\n",
       " '826SJ1',\n",
       " '111JA2',\n",
       " '131SA2',\n",
       " '141BE2',\n",
       " '141NK2',\n",
       " '224CM2',\n",
       " '311HL2',\n",
       " '421AT2',\n",
       " '421LE2',\n",
       " '512BM2',\n",
       " '532EJ2',\n",
       " '533HM2',\n",
       " '621NP2',\n",
       " '623WL2',\n",
       " '701LV2',\n",
       " '713PE2',\n",
       " '721HL2',\n",
       " '721KJ2',\n",
       " '741US2',\n",
       " '774HJ2',\n",
       " '826AL2',\n",
       " '831OK2']"
      ]
     },
     "execution_count": 6,
     "metadata": {},
     "output_type": "execute_result"
    }
   ],
   "source": [
    "Dyslexic_names"
   ]
  },
  {
   "cell_type": "code",
   "execution_count": 7,
   "metadata": {},
   "outputs": [
    {
     "data": {
      "text/plain": [
       "['C:',\n",
       " 'Users',\n",
       " 'hp',\n",
       " 'Documents',\n",
       " 'AlgoAsylum',\n",
       " 'Recording Data',\n",
       " '112KA1',\n",
       " 'A1R.txt']"
      ]
     },
     "execution_count": 7,
     "metadata": {},
     "output_type": "execute_result"
    }
   ],
   "source": [
    "Dyslexic_files[1][0].split('\\\\')"
   ]
  },
  {
   "cell_type": "code",
   "execution_count": 14,
   "metadata": {},
   "outputs": [],
   "source": [
    "for i in range(len(Dyslexic_files)):\n",
    "    stripped = []\n",
    "    ar = []\n",
    "    \n",
    "    with open(Dyslexic_files[i][0], 'r') as in_file:\n",
    "        for line in in_file:\n",
    "            temp = line.strip().replace(',','.')\n",
    "            stripped.append(temp)\n",
    "    \n",
    "    del stripped[0]\n",
    "    for s in stripped:\n",
    "        s = s.replace('\\t',',')\n",
    "        s = s.split(',')\n",
    "        ar.append(map(float,s))\n",
    "        \n",
    "    del ar[len(ar)-1]\n",
    "    df = pd.DataFrame(ar,columns = ['T', 'LX','LY','RX','RY'])\n",
    "    name = Dyslexic_names[i]+'.csv'\n",
    "    df.to_csv('Data//Dyslexic//'+name)"
   ]
  },
  {
   "cell_type": "code",
   "execution_count": 11,
   "metadata": {},
   "outputs": [
    {
     "data": {
      "text/plain": [
       "['C:\\\\Users\\\\hp\\\\Documents\\\\AlgoAsylum\\\\Recording Data\\\\111RP1\\\\A1R.txt']"
      ]
     },
     "execution_count": 11,
     "metadata": {},
     "output_type": "execute_result"
    }
   ],
   "source": [
    "Dyslexic_files[0]"
   ]
  },
  {
   "cell_type": "code",
   "execution_count": 15,
   "metadata": {},
   "outputs": [],
   "source": [
    "Cntrl = Cntrl_3+Cntrl_4\n",
    "\n",
    "Cntrl = [subject+'\\*' for subject in Cntrl]\n",
    "\n",
    "Cntrl_files = []\n",
    "for path in Cntrl:\n",
    "    Cntrl_files.append(glob.glob(path))\n",
    "\n",
    "Cntrl_names = []\n",
    "for d in Cntrl_files:\n",
    "    Cntrl_names.append(d[0].split('\\\\')[6])"
   ]
  },
  {
   "cell_type": "code",
   "execution_count": 16,
   "metadata": {},
   "outputs": [
    {
     "data": {
      "text/plain": [
       "88"
      ]
     },
     "execution_count": 16,
     "metadata": {},
     "output_type": "execute_result"
    }
   ],
   "source": [
    "len(Cntrl_names)"
   ]
  },
  {
   "cell_type": "code",
   "execution_count": 17,
   "metadata": {},
   "outputs": [],
   "source": [
    "for i in range(len(Cntrl_files)):\n",
    "    stripped = []\n",
    "    ar = []\n",
    "    \n",
    "    with open(Cntrl_files[i][0], 'r') as in_file:\n",
    "        for line in in_file:\n",
    "            temp = line.strip().replace(',','.')\n",
    "            stripped.append(temp)\n",
    "    \n",
    "    del stripped[0]\n",
    "    for s in stripped:\n",
    "        s = s.replace('\\t',',')\n",
    "        s = s.split(',')\n",
    "        ar.append(map(float,s))\n",
    "        \n",
    "    del ar[len(ar)-1]\n",
    "    df = pd.DataFrame(ar,columns = ['T', 'LX','LY','RX','RY'])\n",
    "    name = Cntrl_names[i]+'.csv'\n",
    "    df.to_csv('Data//Control//'+name)"
   ]
  },
  {
   "cell_type": "code",
   "execution_count": null,
   "metadata": {},
   "outputs": [],
   "source": []
  }
 ],
 "metadata": {
  "kernelspec": {
   "display_name": "Python 3.7.4 64-bit",
   "language": "python",
   "name": "python37464bit6dab32899f6947caab61992746272921"
  },
  "language_info": {
   "codemirror_mode": {
    "name": "ipython",
    "version": 3
   },
   "file_extension": ".py",
   "mimetype": "text/x-python",
   "name": "python",
   "nbconvert_exporter": "python",
   "pygments_lexer": "ipython3",
   "version": "3.7.4"
  }
 },
 "nbformat": 4,
 "nbformat_minor": 4
}
