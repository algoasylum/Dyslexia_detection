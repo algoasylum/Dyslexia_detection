{
 "cells": [
  {
   "cell_type": "code",
   "execution_count": 1,
   "metadata": {},
   "outputs": [],
   "source": [
    "import glob\n",
    "import pandas as pd\n",
    "import numpy as np\n",
    "import matplotlib.pyplot as plt\n",
<<<<<<< HEAD
    "import plotly\n",
    "from scipy.spatial.distance import euclidean as eu\n",
    "import math"
=======
    "import plotly"
>>>>>>> dd5577cdaa9f41c68bff6129191d5877265059dc
   ]
  },
  {
   "cell_type": "code",
<<<<<<< HEAD
   "execution_count": 3,
=======
   "execution_count": 2,
>>>>>>> dd5577cdaa9f41c68bff6129191d5877265059dc
   "metadata": {},
   "outputs": [],
   "source": [
    "D_path = glob.glob('Data\\Dyslexic' + \"\\*\")\n",
    "C_path = glob.glob('Data\\Control' + \"\\*\")\n",
    "\n",
    "C_data = []\n",
    "for path in C_path:\n",
    "    temp = pd.read_csv(path)\n",
    "    temp = temp.drop('Unnamed: 0',axis = 1)\n",
    "    C_data.append(temp)\n",
    "\n",
    "D_data = []\n",
    "for path in D_path:\n",
    "    temp = pd.read_csv(path)\n",
    "    temp = temp.drop('Unnamed: 0',axis = 1)\n",
    "    D_data.append(temp)"
   ]
  },
  {
   "cell_type": "code",
<<<<<<< HEAD
   "execution_count": 4,
=======
   "execution_count": 3,
>>>>>>> dd5577cdaa9f41c68bff6129191d5877265059dc
   "metadata": {},
   "outputs": [
    {
     "data": {
      "text/html": [
       "<div>\n",
       "<style scoped>\n",
       "    .dataframe tbody tr th:only-of-type {\n",
       "        vertical-align: middle;\n",
       "    }\n",
       "\n",
       "    .dataframe tbody tr th {\n",
       "        vertical-align: top;\n",
       "    }\n",
       "\n",
       "    .dataframe thead th {\n",
       "        text-align: right;\n",
       "    }\n",
       "</style>\n",
       "<table border=\"1\" class=\"dataframe\">\n",
       "  <thead>\n",
       "    <tr style=\"text-align: right;\">\n",
       "      <th></th>\n",
       "      <th>T</th>\n",
       "      <th>LX</th>\n",
       "      <th>LY</th>\n",
       "      <th>RX</th>\n",
       "      <th>RY</th>\n",
       "    </tr>\n",
       "  </thead>\n",
       "  <tbody>\n",
       "    <tr>\n",
       "      <th>0</th>\n",
       "      <td>0.0</td>\n",
       "      <td>0.00000</td>\n",
       "      <td>0.00000</td>\n",
       "      <td>0.00000</td>\n",
       "      <td>0.00000</td>\n",
       "    </tr>\n",
       "    <tr>\n",
       "      <th>1</th>\n",
       "      <td>20.0</td>\n",
       "      <td>0.65535</td>\n",
       "      <td>-0.00001</td>\n",
       "      <td>0.65536</td>\n",
       "      <td>-0.65536</td>\n",
       "    </tr>\n",
       "    <tr>\n",
       "      <th>2</th>\n",
       "      <td>40.0</td>\n",
       "      <td>0.65534</td>\n",
       "      <td>-0.00001</td>\n",
       "      <td>0.65536</td>\n",
       "      <td>-0.65536</td>\n",
       "    </tr>\n",
       "    <tr>\n",
       "      <th>3</th>\n",
       "      <td>60.0</td>\n",
       "      <td>0.65534</td>\n",
       "      <td>-0.00001</td>\n",
       "      <td>0.65535</td>\n",
       "      <td>-0.65536</td>\n",
       "    </tr>\n",
       "    <tr>\n",
       "      <th>4</th>\n",
       "      <td>80.0</td>\n",
       "      <td>0.65534</td>\n",
       "      <td>-0.00001</td>\n",
       "      <td>0.65534</td>\n",
       "      <td>0.00000</td>\n",
       "    </tr>\n",
       "    <tr>\n",
       "      <th>...</th>\n",
       "      <td>...</td>\n",
       "      <td>...</td>\n",
       "      <td>...</td>\n",
       "      <td>...</td>\n",
       "      <td>...</td>\n",
       "    </tr>\n",
       "    <tr>\n",
       "      <th>1494</th>\n",
       "      <td>29880.0</td>\n",
       "      <td>103.54872</td>\n",
       "      <td>37.35520</td>\n",
       "      <td>104.85945</td>\n",
       "      <td>36.69984</td>\n",
       "    </tr>\n",
       "    <tr>\n",
       "      <th>1495</th>\n",
       "      <td>29900.0</td>\n",
       "      <td>105.51480</td>\n",
       "      <td>36.04447</td>\n",
       "      <td>106.17018</td>\n",
       "      <td>32.76765</td>\n",
       "    </tr>\n",
       "    <tr>\n",
       "      <th>1496</th>\n",
       "      <td>29920.0</td>\n",
       "      <td>107.48088</td>\n",
       "      <td>27.52472</td>\n",
       "      <td>108.79159</td>\n",
       "      <td>14.41743</td>\n",
       "    </tr>\n",
       "    <tr>\n",
       "      <th>1497</th>\n",
       "      <td>29940.0</td>\n",
       "      <td>108.13612</td>\n",
       "      <td>-16.38473</td>\n",
       "      <td>102.89310</td>\n",
       "      <td>-78.64416</td>\n",
       "    </tr>\n",
       "    <tr>\n",
       "      <th>1498</th>\n",
       "      <td>29960.0</td>\n",
       "      <td>104.20380</td>\n",
       "      <td>-135.00506</td>\n",
       "      <td>114.69085</td>\n",
       "      <td>-155.97572</td>\n",
       "    </tr>\n",
       "  </tbody>\n",
       "</table>\n",
       "<p>1499 rows × 5 columns</p>\n",
       "</div>"
      ],
      "text/plain": [
       "            T         LX         LY         RX         RY\n",
       "0         0.0    0.00000    0.00000    0.00000    0.00000\n",
       "1        20.0    0.65535   -0.00001    0.65536   -0.65536\n",
       "2        40.0    0.65534   -0.00001    0.65536   -0.65536\n",
       "3        60.0    0.65534   -0.00001    0.65535   -0.65536\n",
       "4        80.0    0.65534   -0.00001    0.65534    0.00000\n",
       "...       ...        ...        ...        ...        ...\n",
       "1494  29880.0  103.54872   37.35520  104.85945   36.69984\n",
       "1495  29900.0  105.51480   36.04447  106.17018   32.76765\n",
       "1496  29920.0  107.48088   27.52472  108.79159   14.41743\n",
       "1497  29940.0  108.13612  -16.38473  102.89310  -78.64416\n",
       "1498  29960.0  104.20380 -135.00506  114.69085 -155.97572\n",
       "\n",
       "[1499 rows x 5 columns]"
      ]
     },
<<<<<<< HEAD
     "execution_count": 4,
=======
     "execution_count": 3,
>>>>>>> dd5577cdaa9f41c68bff6129191d5877265059dc
     "metadata": {},
     "output_type": "execute_result"
    }
   ],
   "source": [
    "data = C_data[0]\n",
    "data"
   ]
  },
  {
   "cell_type": "code",
<<<<<<< HEAD
   "execution_count": 5,
=======
   "execution_count": 4,
>>>>>>> dd5577cdaa9f41c68bff6129191d5877265059dc
   "metadata": {},
   "outputs": [],
   "source": [
    "C_new = []\n",
    "for data in C_data:\n",
    "    X =data[['LX','RX']]\n",
    "    Y =data[['LY','RY']]\n",
    "    Xm = X.mean(axis=1)\n",
    "    Ym = Y.mean(axis=1)\n",
    "    f = pd.DataFrame([data.iloc[:,0],Xm,Ym])\n",
    "    f = f.transpose()\n",
    "    f = f.rename(columns = {'Unnamed 0': 'X', 'Unnamed 1': 'Y'})\n",
    "    C_new.append(f)"
   ]
  },
  {
   "cell_type": "code",
<<<<<<< HEAD
   "execution_count": 6,
=======
   "execution_count": 5,
>>>>>>> dd5577cdaa9f41c68bff6129191d5877265059dc
   "metadata": {},
   "outputs": [],
   "source": [
    "D_new = []\n",
    "for data in D_data:\n",
    "    X =data[['LX','RX']]\n",
    "    Y =data[['LY','RY']]\n",
    "    Xm = X.mean(axis=1)\n",
    "    Ym = Y.mean(axis=1)\n",
    "    f = pd.DataFrame([data.iloc[:,0],Xm,Ym])\n",
    "    f = f.transpose()\n",
    "    f = f.rename(columns = {'Unnamed 0': 'X', 'Unnamed 1': 'Y'})\n",
    "    D_new.append(f)"
   ]
  },
  {
   "cell_type": "code",
<<<<<<< HEAD
   "execution_count": 20,
   "metadata": {},
   "outputs": [],
   "source": [
    "trial = C_new[1]"
=======
   "execution_count": 6,
   "metadata": {},
   "outputs": [],
   "source": [
    "trial = C_new[4]"
>>>>>>> dd5577cdaa9f41c68bff6129191d5877265059dc
   ]
  },
  {
   "cell_type": "code",
<<<<<<< HEAD
   "execution_count": 21,
=======
   "execution_count": 7,
>>>>>>> dd5577cdaa9f41c68bff6129191d5877265059dc
   "metadata": {},
   "outputs": [],
   "source": [
    "x = trial['X']\n",
    "y = trial['Y']\n",
    "t = trial['T']"
   ]
  },
  {
   "cell_type": "code",
<<<<<<< HEAD
   "execution_count": 22,
=======
   "execution_count": 8,
>>>>>>> dd5577cdaa9f41c68bff6129191d5877265059dc
   "metadata": {},
   "outputs": [],
   "source": [
    "z=[]\n",
    "for i in range(0,x.size):\n",
    "    z.append(complex(x[i],y[i]))"
   ]
  },
  {
   "cell_type": "code",
<<<<<<< HEAD
   "execution_count": 23,
=======
   "execution_count": 9,
>>>>>>> dd5577cdaa9f41c68bff6129191d5877265059dc
   "metadata": {},
   "outputs": [],
   "source": [
    "Z = np.fft.fft(z)"
   ]
  },
  {
   "cell_type": "code",
<<<<<<< HEAD
   "execution_count": 24,
=======
   "execution_count": 10,
>>>>>>> dd5577cdaa9f41c68bff6129191d5877265059dc
   "metadata": {},
   "outputs": [
    {
     "name": "stderr",
     "output_type": "stream",
     "text": [
      "C:\\Python\\Python37\\lib\\site-packages\\numpy\\core\\_asarray.py:85: ComplexWarning: Casting complex values to real discards the imaginary part\n",
      "  return array(a, dtype, copy=False, order=order)\n"
     ]
    },
    {
     "data": {
      "text/plain": [
<<<<<<< HEAD
       "[<matplotlib.lines.Line2D at 0x20d1b589448>]"
      ]
     },
     "execution_count": 24,
=======
       "[<matplotlib.lines.Line2D at 0x21110a28348>]"
      ]
     },
     "execution_count": 10,
>>>>>>> dd5577cdaa9f41c68bff6129191d5877265059dc
     "metadata": {},
     "output_type": "execute_result"
    },
    {
     "data": {
<<<<<<< HEAD
      "image/png": "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\n",
=======
      "image/png": "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\n",
>>>>>>> dd5577cdaa9f41c68bff6129191d5877265059dc
      "text/plain": [
       "<Figure size 432x288 with 1 Axes>"
      ]
     },
     "metadata": {
      "needs_background": "light"
     },
     "output_type": "display_data"
    }
   ],
   "source": [
    "plt.plot(abs(Z)/max(Z))"
   ]
  },
  {
   "cell_type": "code",
<<<<<<< HEAD
   "execution_count": 25,
=======
   "execution_count": 11,
>>>>>>> dd5577cdaa9f41c68bff6129191d5877265059dc
   "metadata": {},
   "outputs": [],
   "source": [
    "Z_norm = abs(Z)\n",
    "Z_norm = Z_norm/ max(Z_norm)"
   ]
  },
  {
   "cell_type": "code",
<<<<<<< HEAD
   "execution_count": 13,
=======
   "execution_count": 12,
>>>>>>> dd5577cdaa9f41c68bff6129191d5877265059dc
   "metadata": {},
   "outputs": [
    {
     "name": "stdout",
     "output_type": "stream",
     "text": [
      "{1249, 999, 1999, 1749, 1499}\n",
      "{1499, 1999}\n"
     ]
    }
   ],
   "source": [
    "max_C =[]\n",
    "max_D =[]\n",
    "for i in range(len(C_new)):\n",
    "    max_C.append(len(C_new[i]))\n",
    "for i in range(len(D_new)):\n",
    "    max_D.append(len(D_new[i]))\n",
    "print(set(max_C))\n",
    "print(set(max_D))"
   ]
  },
  {
   "cell_type": "code",
<<<<<<< HEAD
   "execution_count": 27,
   "metadata": {},
   "outputs": [
    {
     "name": "stdout",
     "output_type": "stream",
     "text": [
      "1999 2.3071164755905835\n"
     ]
    }
   ],
   "source": [
    "L = len(Z_norm)+1\n",
    "k = int((len(Z_norm) + 1)/250) # k varies from 4 to 8\n",
    "N = 200\n",
    "B  = 10*k ### chose the factor to be greater than (250/N), for overlap to exist\n",
    "E =round((N*B - L)/(N-1))\n",
    "step_size = B-E\n",
    "bucket_size = B\n",
    "bin_val=[]\n",
    "for a in range(N-1):\n",
    "    bin_val = np.append(bin_val, sum(np.abs(Z_norm[a*step_size:((a*step_size)+bucket_size)])))\n",
    "    if (a == (N-2)):\n",
    "        print(len(Z_norm),sum(np.abs(Z_norm[a*step_size:]))) \n",
    "            \n",
    "binval = np.append(binval, sum(np.abs(Z_norm[-(bucket_size):])))\n",
    "bin_val = bin_val/(max(bin_val))"
=======
   "execution_count": 13,
   "metadata": {},
   "outputs": [],
   "source": [
    "L = len(Z_norm)\n",
    "k = int((len(Z_norm) + 1)/250) # k varies from 4 to 8\n",
    "N = 150\n",
    "B  = 2*k\n",
    "E =round((N*B - L)/(N-1))\n",
    "step_size = B-E\n",
    "bucket_size = B\n",
    "binval=[]\n",
    "for a in range(0,(L + 1)-(bucket_size), step_size):\n",
    "    binval = np.append(binval, sum(np.abs(Z_norm[a:a+bucket_size])))\n",
    "binval = np.append(binval, sum(np.abs(Z_norm[-(bucket_size):])))    "
>>>>>>> dd5577cdaa9f41c68bff6129191d5877265059dc
   ]
  },
  {
   "cell_type": "code",
<<<<<<< HEAD
   "execution_count": 15,
=======
   "execution_count": 14,
>>>>>>> dd5577cdaa9f41c68bff6129191d5877265059dc
   "metadata": {},
   "outputs": [
    {
     "data": {
      "image/png": "iVBORw0KGgoAAAANSUhEUgAAAX0AAAD4CAYAAAAAczaOAAAABHNCSVQICAgIfAhkiAAAAAlwSFlzAAALEgAACxIB0t1+/AAAADh0RVh0U29mdHdhcmUAbWF0cGxvdGxpYiB2ZXJzaW9uMy4yLjEsIGh0dHA6Ly9tYXRwbG90bGliLm9yZy+j8jraAAAUVklEQVR4nO3df5Dc913f8eerkpVi42ISnZ1UkiPREQymEzueQ3HqNLEDMXJIojKTP6QJSUjj0SRjd/jVFKWZcabtP4Ew0EJMNBpHuCmxPQyxEg2WY6eUwUDGQWfXP6Q4Cods6kMGnWPqhITBiL77x34PlvOe9nt3q9vTfZ+PmZ3d7+fz+X73vXe7r/3ud7/f/aaqkCR1wz8ZdwGSpJVj6EtShxj6ktQhhr4kdYihL0kdsn7cBQyycePG2rp167jLkKTzxsMPP/xcVU0MG7cqQ3/r1q1MTU2NuwxJOm8k+dM249y8I0kdYuhLUocY+pLUIYa+JHWIoS9JHWLoS1KHGPqS1CGGviR1iKEvSR2y5kJ/6757x12CJK1aay70JUkLM/QlqUMMfUnqEENfkjpkaOgn2ZLkd5M8meR4kp8cMCZJfiXJdJLHk1zd17czyYmmb9+oH4Akqb02a/pngJ+tqu8HrgFuTnLFvDE3Atuby17gkwBJ1gG3Nf1XAHsGzCtJWiFDQ7+qnq2qR5rb3wSeBDbNG7YL+HT1PARckuRVwA5guqpOVtWLwN3NWEnSGCxqm36SrcBrgS/P69oEPNM3PdO0LdQ+aNl7k0wlmZqdnV1MWZKkllqHfpLvBD4L/FRVfWN+94BZ6iztL22sOlBVk1U1OTEx9DSPkqQlaHWO3CQX0Av8z1TVPQOGzABb+qY3A6eADQu0S5LGoM3eOwE+BTxZVb+0wLDDwHuavXiuAV6oqmeBo8D2JNuSbAB2N2MlSWPQZk3/WuDdwBNJHm3a/iNwOUBV7QeOAG8FpoFvA+9r+s4kuQW4H1gHHKyq4yN9BJKk1oaGflX9AYO3zfePKeDmBfqO0HtTkCSNmUfkSlKHGPqS1CGGviR1iKEvSR1i6EtShxj6ktQhhr4kdYihL0kdYuhLUocY+pLUIYa+JHWIoS9JHWLoS1KHGPqS1CGGviR1iKEvSR0y9CQqSQ4CbwNOV9W/HND/IeBdfcv7fmCiqp5P8jTwTeDvgDNVNTmqwiVJi9dmTf8OYOdCnVX18aq6qqquAj4M/F5VPd835Pqm38CXpDEbGvpV9SDw/LBxjT3AXcuqSJJ0zoxsm36SC+l9IvhsX3MBDyR5OMneIfPvTTKVZGp2dnZUZUmS+ozyi9y3A384b9POtVV1NXAjcHOSNy40c1UdqKrJqpqcmJgYYVmSpDmjDP3dzNu0U1WnmuvTwCFgxwjvT5K0SCMJ/STfBbwJ+Hxf20VJLp67DdwAHBvF/UmSlqbNLpt3AdcBG5PMAB8FLgCoqv3NsB8DHqiqb/XNehlwKMnc/dxZVV8YXemSpMUaGvpVtafFmDvo7drZ33YSuHKphUmSRs8jciWpQwx9SeoQQ1+SOsTQl6QOMfQlqUMMfUnqEENfkjrE0JekDjH0JalDDH1J6hBDX5I6xNCXpA4x9CWpQwx9SeoQQ1+SOsTQl6QOGRr6SQ4mOZ1k4KkOk1yX5IUkjzaXW/v6diY5kWQ6yb5RFi5JWrw2a/p3ADuHjPn9qrqqufxngCTrgNuAG4ErgD1JrlhOsZKk5Rka+lX1IPD8Epa9A5iuqpNV9SJwN7BrCcuRJI3IqLbpvz7JY0nuS/IDTdsm4Jm+MTNN20BJ9iaZSjI1Ozs7orIkSf1GEfqPAK+uqiuBXwU+17RnwNhaaCFVdaCqJqtqcmJiYgRlSZLmW3boV9U3quqvmttHgAuSbKS3Zr+lb+hm4NRy70+StHTLDv0kr0yS5vaOZplfB44C25NsS7IB2A0cXu79SZKWbv2wAUnuAq4DNiaZAT4KXABQVfuBdwIfTHIG+Gtgd1UVcCbJLcD9wDrgYFUdPyePQpLUytDQr6o9Q/o/AXxigb4jwJGllSZJGjWPyJWkDjH0JalDDH1J6hBDX5I6xNCXpA4x9CWpQwx9SeoQQ1+SOsTQl6QOMfQlqUMMfUnqEENfkjrE0JekDjH0JalDDH1J6pChoZ/kYJLTSY4t0P+uJI83ly8lubKv7+kkTyR5NMnUKAuXJC1emzX9O4CdZ+l/CnhTVb0G+C/AgXn911fVVVU1ubQSJUmj0ubMWQ8m2XqW/i/1TT5E7wTokqRVaNTb9N8P3Nc3XcADSR5OsnfE9yVJWqSha/ptJbmeXui/oa/52qo6leRS4ItJvlpVDy4w/15gL8Dll18+qrIkSX1Gsqaf5DXA7cCuqvr6XHtVnWquTwOHgB0LLaOqDlTVZFVNTkxMjKIsSTpvbN1374rcz7JDP8nlwD3Au6vqa33tFyW5eO42cAMwcA8gSdLKGLp5J8ldwHXAxiQzwEeBCwCqaj9wK/AK4NeSAJxp9tS5DDjUtK0H7qyqL5yDxyBJaqnN3jt7hvTfBNw0oP0kcOVL55AkjYtH5EpShxj6ktQhhr4kdYihL0kdYuhLUocY+pLUIYa+JHWIoS9JHWLoS1KHGPqS1CGGviR1iKEvSR1i6EtShxj6ktQhhr4kdYihL0kdMjT0kxxMcjrJwFMdpudXkkwneTzJ1X19O5OcaPr2jbJwSdLitVnTvwPYeZb+G4HtzWUv8EmAJOuA25r+K4A9Sa5YTrGSpOUZGvpV9SDw/FmG7AI+XT0PAZckeRWwA5iuqpNV9SJwdzNWkjQmo9imvwl4pm96pmlbqH2gJHuTTCWZmp2dHUFZkqT5RhH6GdBWZ2kfqKoOVNVkVU1OTEyMoCxJ0nzrR7CMGWBL3/Rm4BSwYYF2SdKYjGJN/zDwnmYvnmuAF6rqWeAosD3JtiQbgN3NWEnSmAxd009yF3AdsDHJDPBR4AKAqtoPHAHeCkwD3wbe1/SdSXILcD+wDjhYVcfPwWOQJLU0NPSras+Q/gJuXqDvCL03BUnSKuARuZLUIYa+JHWIoS9JHWLoS1KHGPqS1CGGviR1iKEvSR1i6EtShxj6ktQhhr4kdYihL0kdYuhLUocY+pLUIYa+JHWIoS9JHWLoS1KHtAr9JDuTnEgynWTfgP4PJXm0uRxL8ndJXt70PZ3kiaZvatQPQJLUXpvTJa4DbgPeQu8k6EeTHK6qr8yNqaqPAx9vxr8d+Omqer5vMddX1XMjrVyStGht1vR3ANNVdbKqXgTuBnadZfwe4K5RFCdJGq02ob8JeKZveqZpe4kkFwI7gc/2NRfwQJKHk+xd6E6S7E0ylWRqdna2RVmSpMVqE/oZ0FYLjH078IfzNu1cW1VXAzcCNyd546AZq+pAVU1W1eTExESLsiRJi9Um9GeALX3Tm4FTC4zdzbxNO1V1qrk+DRyit7lIkjQGbUL/KLA9ybYkG+gF++H5g5J8F/Am4PN9bRcluXjuNnADcGwUhUuSFm/o3jtVdSbJLcD9wDrgYFUdT/KBpn9/M/THgAeq6lt9s18GHEoyd193VtUXRvkAJEntDQ19gKo6AhyZ17Z/3vQdwB3z2k4CVy6rQknSyHhEriR1iKEvSR1i6EtShxj6ktQhhr4kdYihL0kdYuhLUocY+pLUIYa+JHWIoS9JHbJmQ3/rvnvHXYIkrTprNvQlSS9l6EtShxj6ktQhhr4kdYihL0kd0ir0k+xMciLJdJJ9A/qvS/JCkkeby61t55WkLlvpPQ2HnjkryTrgNuAt9E6SfjTJ4ar6yryhv19Vb1vivJKkFdBmTX8HMF1VJ6vqReBuYFfL5S9nXklas8Z1LFGb0N8EPNM3PdO0zff6JI8luS/JDyxyXpLsTTKVZGp2drZFWZKkxWoT+hnQVvOmHwFeXVVXAr8KfG4R8/Yaqw5U1WRVTU5MTLQoqx2PzJWkf9Am9GeALX3Tm4FT/QOq6htV9VfN7SPABUk2tplXkrRy2oT+UWB7km1JNgC7gcP9A5K8Mkma2zua5X69zbySpJUzdO+dqjqT5BbgfmAdcLCqjif5QNO/H3gn8MEkZ4C/BnZXVQED5z1Hj0WSNMTQ0Ie/32RzZF7b/r7bnwA+0XZeSdJ4eESuJHWIoS9JHWLoS1KHGPqS1CGGviR1iKEvSR1i6EtShxj6ktQhhr4kdYihL0kd0pnQ9yeWJalDoS9JMvQlqVMMfUnqEENfkjrE0JekDmkV+kl2JjmRZDrJvgH970ryeHP5UpIr+/qeTvJEkkeTTI2yeEnS4gw9c1aSdcBtwFvonej8aJLDVfWVvmFPAW+qqr9MciNwAHhdX//1VfXcCOuWJC1BmzX9HcB0VZ2sqheBu4Fd/QOq6ktV9ZfN5EPA5tGWKUnnt7ljhcZ9zFCb0N8EPNM3PdO0LeT9wH190wU8kOThJHsXminJ3iRTSaZmZ2dblLU04/6DS+qW1ZY5bU6MngFtNXBgcj290H9DX/O1VXUqyaXAF5N8taoefMkCqw7Q2yzE5OTkwOVLkpanzZr+DLClb3ozcGr+oCSvAW4HdlXV1+faq+pUc30aOERvc9HYrbZ3X0lry2rNmDahfxTYnmRbkg3AbuBw/4AklwP3AO+uqq/1tV+U5OK528ANwLFRFT8qW/fdu2r/QZI0SkM371TVmSS3APcD64CDVXU8yQea/v3ArcArgF9LAnCmqiaBy4BDTdt64M6q+sI5eSSSpKHabNOnqo4AR+a17e+7fRNw04D5TgJXzm+XJI2HR+RKUocY+pI0Qqv9+8HOh/5q/wdJ0ih1PvQlqUsMfUnqEENfkjrE0D8LD9qStJDzNR9a7acvSRrsfAt+Q7/P3D/v6Y/9aKt2Sd1zvoX8fG7ekaQ+5+tmm7Zc0x9goX+4nwQkne9c05ekAdbqGr9r+ito6757/TQgjdHZXoPDPuGvFYb+EizlyWHYS+MzKOzXWpi35eadMejqk006VxazIrZWN9u0ZeiP0dwTb6FrSYvja2i4Vpt3kuwE/hu9M2fdXlUfm9efpv+twLeBn6iqR9rMq4XNfSRdyhN42OYk9zjSOM1//i3mOT73mui/VntDQz/JOuA24C30TpJ+NMnhqvpK37Abge3N5XXAJ4HXtZxX50DbF1H/uEEvprbXCy1v0H0t9w1poRf6SgRAm9rO1n+25S51mfP/18OCdFD/cv73y1mrdo185bVZ098BTDenPiTJ3cAuoD+4dwGfrqoCHkpySZJXAVtbzKs1YDFflC3lDels9znojedchdRiapuz2DfNhWod5d9N3ZVeTp9lQPJOYGdzHlySvBt4XVXd0jfmt4GPVdUfNNO/A/wcvdA/67x9y9gL7G0mvw84sYzHtRF4bhnzn0vWtjTWtjTWtjTnY22vrqqJYTO3WdPPgLb57xQLjWkzb6+x6gBwoEU9QyWZqqrJUSxr1KxtaaxtaaxtadZybW1CfwbY0je9GTjVcsyGFvNKklZIm102jwLbk2xLsgHYDRyeN+Yw8J70XAO8UFXPtpxXkrRChq7pV9WZJLcA99Pb7fJgVR1P8oGmfz9whN7umtP0dtl839nmPSeP5B8byWaic8TalsbalsbalmbN1jb0i1xJ0trhEbmS1CGGviR1yJoK/SQ7k5xIMp1k35hr2ZLkd5M8meR4kp9s2l+e5ItJ/ri5/u4x1rguyf9ujrNYNbU1B/f9VpKvNn+/16+i2n66+X8eS3JXkn86rtqSHExyOsmxvrYFa0ny4ea1cSLJj4ypvo83/9fHkxxKcsk46htUW1/fv09SSTauptqS/Lvm/o8n+YUl11ZVa+JC74viPwG+h96uoo8BV4yxnlcBVze3Lwa+BlwB/AKwr2nfB/z8GGv8GeBO4Leb6VVRG/DfgZua2xuAS1ZDbcAm4CngO5rp3wR+Yly1AW8ErgaO9bUNrKV57j0GvAzY1rxW1o2hvhuA9c3tnx9XfYNqa9q30Nvx5E+BjaulNuB64H8CL2umL11qbWtpTf/vfy6iql4E5n7yYSyq6tlqfnSuqr4JPEkvNHbRCzWa638zjvqSbAZ+FLi9r3nstSX5Z/Se9J8CqKoXq+r/robaGuuB70iyHriQ3nEnY6mtqh4Enp/XvFAtu4C7q+pvquopenva7Vjp+qrqgao600w+RO/YnRWvb4G/HcAvA/+Bf3wQ6Wqo7YP0fvXgb5oxp5da21oK/U3AM33TM03b2CXZCrwW+DJwWfWOYaC5vnRMZf1Xek/u/9fXthpq+x5gFvj1ZtPT7UkuWg21VdWfAb8I/B/gWXrHozywGmrrs1Atq/H18W+B+5rbY68vyTuAP6uqx+Z1jb024HuBf53ky0l+L8kPLrW2tRT6rX/yYSUl+U7gs8BPVdU3xl0PQJK3Aaer6uFx1zLAenofbT9ZVa8FvkVvM8XYNdvHd9H7GP3PgYuS/Ph4q2ptVb0+knwEOAN8Zq5pwLAVqy/JhcBHgFsHdQ9oW+m/3Xrgu4FrgA8Bv5kkLKG2tRT6bX4uYkUluYBe4H+mqu5pmv8ivV8gpbk+vdD859C1wDuSPE1vM9ibk/zGKqltBpipqi83079F701gNdT2w8BTVTVbVX8L3AP8q1VS25yFalk1r48k7wXeBryrmg3TjL++f0Hvzfyx5nWxGXgkyStXQW00NdxTPX9E7xP6xqXUtpZCf1X95EPzLvwp4Mmq+qW+rsPAe5vb7wU+v9K1VdWHq2pzVW2l93f6X1X146uktj8HnknyfU3TD9H7Ke6x10Zvs841SS5s/r8/RO+7mtVQ25yFajkM7E7ysiTb6J374o9Wurj0Tqr0c8A7qurbfV1jra+qnqiqS6tqa/O6mKG3I8afj7u2xueANwMk+V56Ozg8t6TaztU30OO40PspiK/R+wb7I2Ou5Q30PmY9DjzaXN4KvAL4HeCPm+uXj7nO6/iHvXdWRW3AVcBU87f7HL2Ptaultv8EfBU4BvwPentNjKU24C563y38Lb2Qev/ZaqG3+eJP6P1s+Y1jqm+a3jboudfE/nHUN6i2ef1P0+y9sxpqoxfyv9E87x4B3rzU2vwZBknqkLW0eUeSNIShL0kdYuhLUocY+pLUIYa+JHWIoS9JHWLoS1KH/H8zzCsQeKpG3AAAAABJRU5ErkJggg==\n",
      "text/plain": [
       "<Figure size 432x288 with 1 Axes>"
      ]
     },
     "metadata": {
      "needs_background": "light"
     },
     "output_type": "display_data"
    }
   ],
   "source": [
    "bin_xn = binval.tolist()\n",
    "ht = bin_xn\n",
    "ind = list(range(len(ht)))\n",
    "plt.bar(ind, ht)\n",
    "plt.show()"
   ]
  },
  {
   "cell_type": "code",
<<<<<<< HEAD
   "execution_count": 16,
=======
   "execution_count": 15,
>>>>>>> dd5577cdaa9f41c68bff6129191d5877265059dc
   "metadata": {},
   "outputs": [
    {
     "data": {
      "text/plain": [
       "156"
      ]
     },
<<<<<<< HEAD
     "execution_count": 16,
=======
     "execution_count": 15,
>>>>>>> dd5577cdaa9f41c68bff6129191d5877265059dc
     "metadata": {},
     "output_type": "execute_result"
    }
   ],
   "source": [
    "len(ind)"
   ]
  },
  {
   "cell_type": "code",
<<<<<<< HEAD
   "execution_count": null,
   "metadata": {},
   "outputs": [],
   "source": []
  },
  {
   "cell_type": "code",
   "execution_count": 17,
   "metadata": {
    "collapsed": true,
    "jupyter": {
     "outputs_hidden": true
    }
   },
   "outputs": [
    {
     "name": "stdout",
     "output_type": "stream",
     "text": [
      "1499 203552.88650975202\n",
      "1999 5.425682480147572\n",
      "1249 90706.56952197666\n",
      "1999 18.62171638058598\n",
      "1249 38076.098091048065\n",
      "1249 11.251082289473889\n",
      "1499 50647.59810605403\n",
      "1499 2.356312839678857\n",
      "1249 116361.9225130807\n",
      "1499 3.8373840715509338\n",
      "1499 88197.07218906992\n",
      "1499 2.9436092533284612\n",
      "1749 41681.78988357709\n",
      "1249 6.426531730482131\n",
      "1499 62835.04839724228\n",
      "1499 1.271671764572115\n",
      "1999 179127.9410781344\n",
      "1499 2.191576804086856\n",
      "1499 124580.56587437312\n",
      "1499 0.8947445860056469\n",
      "1499 119470.83484347843\n",
      "1499 0.5705752678981497\n",
      "1499 116781.5803176355\n",
      "1249 1.8658118380396216\n",
      "1499 231159.12703925648\n",
      "1499 1.181402785298123\n",
      "1499 46977.99482588115\n",
      "1249 8.459443385122594\n",
      "1499 33433.629746791696\n",
      "999 7.005504030941239\n",
      "1499 17766.41160150096\n",
      "1499 17.010237179354643\n",
      "1499 9430.62363939036\n",
      "1499 23.95109185668647\n",
      "1999 50550.56558596002\n",
      "999 4.087155135578817\n",
      "1499 29473.989344325662\n",
      "1499 16.852584456901972\n",
      "1999 20760.95709890193\n",
      "1499 21.244453299873236\n",
      "1999 30456.481307088565\n",
      "1499 7.64094589325417\n",
      "1499 18463.373809699413\n",
      "1499 10.378309952905164\n",
      "1499 9837.236400427242\n",
      "1499 37.872898863580176\n",
      "1999 13506.250382102815\n",
      "1499 74.9021797938514\n",
      "1499 1759.2105422091438\n",
      "1499 93.76711167254611\n",
      "1499 1743.3962248526964\n",
      "1999 274.8685942963256\n",
      "1999 2448.4368993749363\n",
      "999 66.7050156418207\n",
      "1499 4081.8409828410554\n",
      "999 47.51658410396453\n",
      "1249 10120.235089885842\n",
      "1499 30.369691152717163\n",
      "999 11129.555559588704\n",
      "1499 10.596121838318005\n",
      "999 19500.759735223408\n",
      "999 9.988637376827288\n",
      "1499 10936.8559312737\n",
      "999 6.505894807201907\n",
      "1499 15667.226877440064\n",
      "1499 4.333516380574048\n",
      "1999 63472.45106658364\n",
      "1499 4.209546619734404\n",
      "1999 122749.30201453945\n",
      "1249 6.182664128180387\n",
      "1499 57896.436281773\n",
      "1499 5.215662121690065\n",
      "999 8256.693211034579\n",
      "999 15.552847620263307\n",
      "1249 47133.71223638721\n",
      "1499 4.431110750562216\n",
      "1499 20160.84820471963\n",
      "1499 8.287444614966805\n",
      "999 13890.812673035336\n",
      "1499 42.164312665125706\n",
      "1499 5073.1507495716805\n",
      "1499 58.54127317069739\n",
      "1499 1139.7053226919913\n",
      "1499 76.38689698513734\n",
      "1499 3240.0350099672432\n",
      "1499 58.43449262100761\n",
      "1999 7485.385921944383\n",
      "1499 25.689408595490022\n"
     ]
    }
   ],
=======
   "execution_count": 16,
   "metadata": {},
   "outputs": [],
>>>>>>> dd5577cdaa9f41c68bff6129191d5877265059dc
   "source": [
    "C_bins = []\n",
    "for j in range(len(C_new)):\n",
    "    dat = C_new[j]\n",
    "    x = dat['X']\n",
    "    y = dat['Y']\n",
    "    t = dat['T']\n",
    "    \n",
    "    z=[]\n",
    "    for i in range(0,x.size):\n",
    "        z.append(complex(x[i],y[i]))\n",
    "    Z = np.fft.fft(z)\n",
    "        \n",
    "    Z_norm = abs(Z)/ max(Z_norm)\n",
    "    \n",
<<<<<<< HEAD
    "    L = len(Z_norm)+1\n",
    "    k = int((len(Z_norm) + 1)/250) # k varies from 4 to 8\n",
    "    N = 200\n",
    "    B  = 10*k ### chose the factor to be greater than (250/N), for overlap to exist\n",
=======
    "    L = len(Z_norm)\n",
    "    k = int((len(Z_norm) + 1)/250) # k varies from 4 to 8\n",
    "    N = 10\n",
    "    B  = 2*k ### chose the factor to be greater than (250/N), for overlap to exist\n",
>>>>>>> dd5577cdaa9f41c68bff6129191d5877265059dc
    "    E =round((N*B - L)/(N-1))\n",
    "    step_size = B-E\n",
    "    bucket_size = B\n",
    "    bin_val=[]\n",
<<<<<<< HEAD
    "    for a in range(N-1):\n",
    "        bin_val = np.append(bin_val, sum(np.abs(Z_norm[a*step_size:((a*step_size)+bucket_size)])))\n",
    "        if (a == (N-2)):\n",
    "            print(len(Z_norm),sum(np.abs(Z_norm[a*step_size:((a*step_size)+bucket_size)])))\n",
    "    \n",
=======
    "    for a in range(0,(len(Z_norm) + 1)-(bucket_size), step_size):\n",
    "        bin_val = np.append(bin_val, sum(np.abs(Z_norm[a:a+bucket_size])))\n",
>>>>>>> dd5577cdaa9f41c68bff6129191d5877265059dc
    "    binval = np.append(binval, sum(np.abs(Z_norm[-(bucket_size):])))\n",
    "    bin_val = bin_val/(max(bin_val))\n",
    "    C_bins.append(bin_val.tolist())\n"
   ]
  },
  {
   "cell_type": "code",
<<<<<<< HEAD
   "execution_count": 89,
   "metadata": {},
   "outputs": [
    {
     "data": {
      "text/html": [
       "<div>\n",
       "<style scoped>\n",
       "    .dataframe tbody tr th:only-of-type {\n",
       "        vertical-align: middle;\n",
       "    }\n",
       "\n",
       "    .dataframe tbody tr th {\n",
       "        vertical-align: top;\n",
       "    }\n",
       "\n",
       "    .dataframe thead th {\n",
       "        text-align: right;\n",
       "    }\n",
       "</style>\n",
       "<table border=\"1\" class=\"dataframe\">\n",
       "  <thead>\n",
       "    <tr style=\"text-align: right;\">\n",
       "      <th></th>\n",
       "      <th>T</th>\n",
       "      <th>X</th>\n",
       "      <th>Y</th>\n",
       "    </tr>\n",
       "  </thead>\n",
       "  <tbody>\n",
       "    <tr>\n",
       "      <th>0</th>\n",
       "      <td>0.0</td>\n",
       "      <td>0.000000</td>\n",
       "      <td>0.000000</td>\n",
       "    </tr>\n",
       "    <tr>\n",
       "      <th>1</th>\n",
       "      <td>20.0</td>\n",
       "      <td>0.327680</td>\n",
       "      <td>-0.327685</td>\n",
       "    </tr>\n",
       "    <tr>\n",
       "      <th>2</th>\n",
       "      <td>40.0</td>\n",
       "      <td>0.327680</td>\n",
       "      <td>-0.327685</td>\n",
       "    </tr>\n",
       "    <tr>\n",
       "      <th>3</th>\n",
       "      <td>60.0</td>\n",
       "      <td>0.327680</td>\n",
       "      <td>-0.327680</td>\n",
       "    </tr>\n",
       "    <tr>\n",
       "      <th>4</th>\n",
       "      <td>80.0</td>\n",
       "      <td>0.327685</td>\n",
       "      <td>0.000000</td>\n",
       "    </tr>\n",
       "    <tr>\n",
       "      <th>...</th>\n",
       "      <td>...</td>\n",
       "      <td>...</td>\n",
       "      <td>...</td>\n",
       "    </tr>\n",
       "    <tr>\n",
       "      <th>1994</th>\n",
       "      <td>39880.0</td>\n",
       "      <td>-49.480590</td>\n",
       "      <td>-24.903910</td>\n",
       "    </tr>\n",
       "    <tr>\n",
       "      <th>1995</th>\n",
       "      <td>39900.0</td>\n",
       "      <td>-44.893070</td>\n",
       "      <td>1.310915</td>\n",
       "    </tr>\n",
       "    <tr>\n",
       "      <th>1996</th>\n",
       "      <td>39920.0</td>\n",
       "      <td>-38.994830</td>\n",
       "      <td>9.830730</td>\n",
       "    </tr>\n",
       "    <tr>\n",
       "      <th>1997</th>\n",
       "      <td>39940.0</td>\n",
       "      <td>-36.701070</td>\n",
       "      <td>14.418295</td>\n",
       "    </tr>\n",
       "    <tr>\n",
       "      <th>1998</th>\n",
       "      <td>39960.0</td>\n",
       "      <td>-36.373390</td>\n",
       "      <td>17.039755</td>\n",
       "    </tr>\n",
       "  </tbody>\n",
       "</table>\n",
       "<p>1999 rows × 3 columns</p>\n",
       "</div>"
      ],
      "text/plain": [
       "            T          X          Y\n",
       "0         0.0   0.000000   0.000000\n",
       "1        20.0   0.327680  -0.327685\n",
       "2        40.0   0.327680  -0.327685\n",
       "3        60.0   0.327680  -0.327680\n",
       "4        80.0   0.327685   0.000000\n",
       "...       ...        ...        ...\n",
       "1994  39880.0 -49.480590 -24.903910\n",
       "1995  39900.0 -44.893070   1.310915\n",
       "1996  39920.0 -38.994830   9.830730\n",
       "1997  39940.0 -36.701070  14.418295\n",
       "1998  39960.0 -36.373390  17.039755\n",
       "\n",
       "[1999 rows x 3 columns]"
      ]
     },
     "execution_count": 89,
     "metadata": {},
     "output_type": "execute_result"
    }
   ],
   "source": []
  },
  {
   "cell_type": "code",
   "execution_count": 82,
=======
   "execution_count": 17,
>>>>>>> dd5577cdaa9f41c68bff6129191d5877265059dc
   "metadata": {},
   "outputs": [],
   "source": [
    "D_bins = []\n",
    "for j in range(len(D_new)):\n",
    "    dat = D_new[j]\n",
    "    x = dat['X']\n",
    "    y = dat['Y']\n",
    "    t = dat['T']\n",
    "    \n",
    "    z=[]\n",
    "    for i in range(0,x.size):\n",
    "        z.append(complex(x[i],y[i]))\n",
    "    Z = np.fft.fft(z)\n",
    "        \n",
    "    Z_norm = abs(Z)/ max(Z_norm)\n",
    "    \n",
<<<<<<< HEAD
    "    L = len(Z_norm)+1\n",
    "    k = int((len(Z_norm) + 1)/250) # k varies from 4 to 8\n",
    "    N = 200\n",
    "    B  = 10*k\n",
=======
    "    L = len(Z_norm)\n",
    "    k = int((len(Z_norm) + 1)/250) # k varies from 4 to 8\n",
    "    N = 10\n",
    "    B  = 2*k\n",
>>>>>>> dd5577cdaa9f41c68bff6129191d5877265059dc
    "    E =round((N*B - L)/(N-1))\n",
    "    step_size = B-E\n",
    "    bucket_size = B\n",
    "    bin_val=[]\n",
<<<<<<< HEAD
    "    for a in range(N-1):\n",
    "        bin_val = np.append(bin_val, sum((Z_norm[a*step_size:((a*step_size)+bucket_size)])))\n",
    "    binval = np.append(binval, sum((Z_norm[-(bucket_size):])))\n",
=======
    "    for a in range(0,(len(Z_norm) + 1)-(bucket_size), step_size):\n",
    "        bin_val = np.append(bin_val, sum(np.abs(Z_norm[a:a+bucket_size])))\n",
    "    binval = np.append(binval, sum(np.abs(Z_norm[-(bucket_size):])))\n",
>>>>>>> dd5577cdaa9f41c68bff6129191d5877265059dc
    "    bin_val = bin_val/(max(bin_val))\n",
    "    D_bins.append(bin_val.tolist())"
   ]
  },
  {
   "cell_type": "code",
<<<<<<< HEAD
   "execution_count": 50,
=======
   "execution_count": 18,
>>>>>>> dd5577cdaa9f41c68bff6129191d5877265059dc
   "metadata": {},
   "outputs": [
    {
     "name": "stdout",
     "output_type": "stream",
     "text": [
<<<<<<< HEAD
      "199\n",
      "199\n",
      "199\n",
      "199\n",
      "199\n",
      "199\n",
      "199\n",
      "199\n",
      "199\n",
      "199\n"
=======
      "1499\n",
      "1999\n",
      "1249\n",
      "1999\n",
      "1249\n",
      "1999\n",
      "1999\n",
      "1999\n",
      "1999\n",
      "1999\n"
>>>>>>> dd5577cdaa9f41c68bff6129191d5877265059dc
     ]
    },
    {
     "data": {
      "text/plain": [
       "<function matplotlib.pyplot.show(*args, **kw)>"
      ]
     },
<<<<<<< HEAD
     "execution_count": 50,
=======
     "execution_count": 18,
>>>>>>> dd5577cdaa9f41c68bff6129191d5877265059dc
     "metadata": {},
     "output_type": "execute_result"
    },
    {
     "data": {
<<<<<<< HEAD
      "image/png": "iVBORw0KGgoAAAANSUhEUgAAEZUAAAZ+CAYAAAAhiX0/AAAABHNCSVQICAgIfAhkiAAAAAlwSFlzAAALEgAACxIB0t1+/AAAADh0RVh0U29mdHdhcmUAbWF0cGxvdGxpYiB2ZXJzaW9uMy4yLjEsIGh0dHA6Ly9tYXRwbG90bGliLm9yZy+j8jraAAAgAElEQVR4nOzcP4ilZxnG4fvZrKn8V+wgmgTGIqhpFFnEMiBoYpPWNEKaRYhg6XYW1jYScUkRQhqtLCK7YGslOAE1RhCWiGZZwQ0BGwsJvhbZYhzHPZP1zJzNPdcFB873fe8539M+zW/WWgEAAAAAAAAAAAAAAAAAAAAAoMOFXQ8AAAAAAAAAAAAAAAAAAAAAAMD2iMoAAAAAAAAAAAAAAAAAAAAAABQRlQEAAAAAAAAAAAAAAAAAAAAAKCIqAwAAAAAAAAAAAAAAAAAAAABQRFQGAAAAAAAAAAAAAAAAAAAAAKCIqAwAAAAAAAAAAAAAAAAAAAAAQJGLu3rxpUuX1v7+/q5eDwAA7MBrr7329lprb9dz0M2+CQAA54tdk7Ng1wQAgPPHvslZsG8CAMD5Y9/kLNg3AQDgfLnXrrmzqMz+/n4ODg529XoAAGAHZubPu56BfvZNAAA4X+yanAW7JgAAnD/2Tc6CfRMAAM4f+yZnwb4JAADny712zQtnOQgAAAAAAAAAAAAAAAAAAAAAAKdLVAYAAAAAAAAAAAAAAAAAAAAAoIioDAAAAAAAAAAAAAAAAAAAAABAEVEZAAAAAAAAAAAAAAAAAAAAAIAiojIAAAAAAAAAAAAAAAAAAAAAAEVEZQAAAAAAAAAAAAAAAAAAAAAAiojKAAAAAAAAAAAAAAAAAAAAAAAUEZUBAAAAAAAAAAAAAAAAAAAAACgiKgMAAAAAAAAAAAAAAAAAAAAAUERUBgAAAAAAAAAAAAAAAAAAAACgiKgMAAAAAAAAAAAAAAAAAAAAAEARURkAAAAAAAAAAAAAAAAAAAAAgCKiMgAAAAAAAAAAAAAAAAAAAAAARURlAAAAAAAAAAAAAAAAAAAAAACKiMoAAAAAAAAAAAAAAAAAAAAAABQRlQEAAAAAAAAAAAAAAAAAAAAAKCIqAwAAAAAAAAAAAAAAAAAAAABQRFQGAAAAAAAAAAAAAAAAAAAAAKCIqAwAAAAAAAAAAAAAAAAAAAAAQBFRGQAAAAAAAAAAAAAAAAAAAACAIqIyAAAAAAAAAAAAAAAAAAAAAABFRGUAAAAAAAAAAAAAAAAAAAAAAIqIygAAAAAAAAAAAAAAAAAAAAAAFBGVAQAAAAAAAAAAAAAAAAAAAAAoIioDAAAAAAAAAAAAAAAAAAAAAFBEVAYAAAAAAAAAAAAAAAAAAAAAoIioDAAAAAAAAAAAAAAAAAAAAABAEVEZAAAAAAAAAAAAAAAAAAAAAIAiojIAAAAAAAAAAAAAAAAAAAAAAEU2RmVm5qWZ+dvM/P5/PJ+Z+eHM3JyZ383MF7c/JgAAAAAAAAAAAAAAAAAAAAAAJ7ExKpPk5SRP3eP500kev/u5kuTH//9YAAAAAAAAAAAAAAAAAAAAAADcj41RmbXWL5O8c48jzyR5Zb3nV0k+PjOf3NaAAAAAAAAAAAAAAAAAAAAAAACc3MaozAk8kuStQ9e37t4DAAAAAAAAAAAAAAAAAAAAAOCMbSMqM8fcW8cenLkyMwczc3Dnzp0tvHo79q9ez/7V67seAwAAgPtk3wQAAGDbHtRd8yi7JwAAwAfLg7pv2i8BAAA+2OybAADAcbYRlbmV5LFD148muX3cwbXWi2uty2uty3t7e1t4NQAAANg3AQAA2D67JgAAAKfBvgkAAMBpsG8CAADH2UZU5tUk35z3fDnJ39daf93C/wIAAAAAAAAAAAAAAAAAAAAA8D5d3HRgZn6S5Mkkl2bmVpLvJflQkqy1riW5keTrSW4m+UeS505rWAAAAAAAAAAAAAAAAAAAAAAA7m1jVGat9eyG5yvJ81ubCAAAAAAAAAAAAAAAAAAAAACA+3Zh1wMAAAAAAAAAAAAAAAAAAAAAALA9ojIAAAAAAAAAAAAAAAAAAAAAAEVEZQAAAAAAAAAAAAAAAAAAAAAAiojKAAAAAAAAAAAAAAAAAAAAAAAUEZUBAAAAAAAAAAAAAAAAAAAAACgiKgMAAAAAAAAAAAAAAAAAAAAAUERUBgAAAAAAAAAAAAAAAAAAAACgiKgMAAAAAAAAwAfE/tXr2b96fddjAAAAAAAAAAAAAA84URkAAAAAAAAAAAAAAAAAAAAAgCKiMgAAAAAAAAAAAAAAAAAAAAAARURlAAAAAAAAAAAAAAAAAAAAAACKiMoAAAAAAAAAAAAAAAAAAAAAABQRlQEAAAAAAAAAAAAAAAAAAAAAKCIqAwAAAAAAAAAAAAAAAAAAAABQRFQGAAAAAAAAAAAAAAAAAAAAAKCIqAwAAAAAAAAAAAAAAAAAAAAAQBFRGQAAAAAAAAAAAAAAAAAAAACAIqIyAAAAAAAAAAAAAAAAAAAAAABFRGUAAAAAAAAAAAAAAAAAAAAAAIqIygAAAAAAAAAAAAAAAAAAAAAAFBGVAQAAAAAAAAAAAAAAAAAAAAAoIioDAAAAAAAAAAAAAAAAAAAAAFBEVAYAAAAAAAAAAAAAAAAAAAAAoIioDAAAAAAAAAAAAAAAAAAAAABAEVEZAAAAAAAAAAAAAAAAAAAAAIAiojIAAAAAAAAAAAAAAAAAAAAAAEVEZQAAAAAAAAAAAAAAAAAAAAAAiojKAAAAAAAAAAAAAAAAAAAAAAAUEZUBAAAAAAAAAAAAAAAAAAAAACgiKgMAAAAAAAAAAAAAAAAAAAAAUERUBgAAAAAAAAAAAAAAAAAAAACgiKgMAAAAAAAAAAAAAAAAAAAAAEARURkAAAAAAAAAAAAAAAAAAAAAgCKiMgAAAAAAAAAAAAAAAAAAAAAARURlAAAAAAAAAAAAAAAAAAAAAACKiMoAAAAAAAAAAAAAAAAAAAAAABQRlQEAAAAAAAAAAAAAAAAAAAAAKCIqAwAAAAAAAAAAAAAAAAAAAABQRFQGAAAAAAAAAAAAAAAAAAAAAKCIqAwAAAAAAAAAAAAAAAAAAAAAQBFRGQAAAAAAAAAAAAAAAAAAAACAIqIyAAAAAAAAAAAAAAAAAAAAAABFRGUAAAAAAAAAAAAAAAAAAAAAAIqIygAAAAAAAAAAAAAAAAAAAAAAFBGVAQAAAAAAAAAAAAAAAAAAAAAoIioDAAAAAAAAAAAAAAAAAAAAAFBEVAYAAAAAAAAAAAAAAAAAAAAAoIioDAAAAAAAAAAAAAAAAAAAAABAEVEZAAAAAAAAAAAAAAAAAAAAAIAiojIAAAAAAAAAAAAAAAAAAAAAAEVEZQAAAAAAAAAAAAAAAAAAAAAAiojKAAAAAAAAAAAAAAAAAAAAAAAUEZUBAAAAAAAAAAAAAAAAAAAAACgiKgMAAAAAAAAAAAAAAAAAAAAAUERUBgAAAAAAAAAAAAAAAAAAAACgiKgMAAAAAAAAAAAAAAAAAAAAAEARURkAAAAAAAAAAAAAAAAAAAAAgCKiMgAAAAAAAAAAAAAAAAAAAAAARURlAAAAAAAAAAAAAAAAAAAAAACKiMoAAAAAAAAAAAAAAAAAAAAAABQRlQEAAAAAAAAAAAAAAAAAAAAAKCIqAwAAAAAAAAAAAAAAAAAAAABQRFQGAAAAAAAAAAAAAAAAAAAAAKCIqAwAAAAAAAAAAAAAAAAAAAAAQBFRGQAAAAAAAAAAAAAAAAAAAACAIqIyAAAAAAAAAAAAAAAAAAAAAABFRGUAAAAAAAAAAAAAAAAAAAAAAIqIygAAAAAAAAAAAAAAAAAAAAAAFBGVAQAAAAAAAAAAAAAAAAAAAAAoIioDAAAAAAAAAAAAAAAAAAAAAFBEVAYAAAAAAAAAAAAAAAAAAAAAoIioDAAAAAAAAAAAAAAAAAAAAABAEVEZAAAAAAAAAAAAAAAAAAAAAIAiojIAAAAAAAAAAAAAAAAAAAAAAEVEZQAAAAAAAAAAAAAAAAAAAAAAiojKAAAAAAAAAAAAAAAAAAAAAAAUEZUBAAAAAAAAAAAAAAAAAAAAACgiKgMAAAAAAAAAAAAAAAAAAAAAUERUBgAAAAAAAAAAAAAAAAAAAACgiKgMAAAAAAAAAAAAAAAAAAAAAEARURkAAAAAAAAAAAAAAAAAAAAAgCKiMgAAAAAAAAAAAAAAAAAAAAAARURlAAAAAAAAAAAAAAAAAAAAAACKiMoAAAAAAAAAAAAAAAAAAAAAABQRlQEAAAAAAAAAAAAAAAAAAAAAKCIqAwAAAAAAAAAAAAAAAAAAAABQRFQGAAAAAAAAAAAAAAAAAAAAAKCIqAwAAAAAAAAAAAAAAAAAAAAAQBFRGQAAAAAAAAAAAAAAAAAAAACAIqIyAAAAAAAAAAAAAAAAAAAAAABFRGUAAAAAAAAAAAAAAAAAAAAAAIqIygAAAAAAAAAAAAAAAAAAAAAAFBGVAQAAAAAAAAAAAAAAAAAAAAAoIioDAAAAAAAAAAAAAAAAAAAAAFBEVAYAAAAAAAAAAAAAAAAAAAAAoIioDAAAAAAAAAAAAAAAAAAAAABAEVEZAAAAAAAAAAAAAAAAAAAAAIAiojIAAAAAAAAAAAAAAAAAAAAAAEVEZQAAAAAAAAAAAAAAAAAAAAAAiojKAAAAAAAAAAAAAAAAAAAAAAAUEZUBAAAAAAAAAAAAAAAAAAAAACgiKgMAAAAAAAAAAAAAAAAAAAAAUERUBgAAAAAAAAAAAAAAAAAAAACgiKgMAAAAAAAAAAAAAAAAAAAAAEARURkAAAAAAAAAAAAAAAAAAAAAgCKiMgAAAAAAAAAAAAAAAAAAAAAARURlAAAAAAAAAAAAAAAAAAAAAACKiMoAAAAAAAAAAAAAAAAAAAAAABQRlQEAAAAAAAAAAAAAAAAAAAAAKCIqAwAAAAAAAAAAAAAAAAAAAABQRFQGAAAAAAAAAAAAAAAAAAAAAKCIqAwAAAAAAAAAAAAAAAAAAAAAQBFRGQAAAAAAAAAAAAAAAAAAAACAIqIyAAAAAAAAAAAAAAAAAAAAAABFRGUAAAAAAAAAAAAAAAAAAAAAAIqIygAAAAAAAAAAAAAAAAAAAAAAFBGVAQAAAAAAAAAAAAAAAAAAAAAoIioDAAAAAAAAAAAAAAAAAAAAAFBEVAYAAAAAAAAAAAAAAAAAAAAAoIioDAAAAAAAAAAAAAAAAAAAAABAEVEZAAAAAAAAAAAAAAAAAAAAAIAiojIAAAAAAAAAAAAAAAAAAAAAAEVEZQAAAAAAAAAAAAAAAAAAAAAAiojKAAAAAAAAAAAAAAAAAAAAAAAUEZUBAAAAAAAAAAAAAAAAAAAAACgiKgMAAAAAAAAAAAAAAAAAAAAAUERUBgAAAAAAAAAAAAAAAAAAAACgiKgMAAAAAAAAAAAAAAAAAAAAAEARURkAAAAAAAAAAAAAAAAAAAAAgCKiMgAAAAAAAAAAAAAAAAAAAAAARURlAAAAAAAAAAAAAAAAAAAAAACKiMoAAAAAAAAAAAAAAAAAAAAAABQRlQEAAAAAAAAAAAAAAAAAAAAAKHKiqMzMPDUzf5yZmzNz9ZjnH5uZn8/Mb2fmjZl5bvujAgAAAAAAAAAAAAAAAAAAAACwycaozMw8lORHSZ5O8kSSZ2fmiSPHnk/yh7XW55M8meQHM/PwlmcFAAAAAAAAAAAAAAAAAAAAAGCDjVGZJF9KcnOt9eZa659JfprkmSNnVpKPzMwk+XCSd5K8u9VJAQAAAAAAAAAAAAAAAAAAAADY6CRRmUeSvHXo+tbde4e9kORzSW4neT3Jd9Za/zr6RzNzZWYOZubgzp079zkyAAAA/Cf7JgAAANtm1wQAAOA02DcBAAA4DfZNAADgOCeJyswx99aR668l+U2STyX5QpIXZuaj//WjtV5ca11ea13e29t738MCAADAceybAAAAbJtdEwAAgNNg3wQAAOA02DcBAIDjnCQqcyvJY4euH01y+8iZ55L8bL3nZpI/JfnsdkYEAAAAAAAAAAAAAAAAAAAAAOCkThKV+XWSx2fm0zPzcJJvJHn1yJm/JPlKkszMJ5J8Jsmb2xwUAAAAAAAAAAAAAAAAAAAAAIDNLm46sNZ6d2a+neQXSR5K8tJa642Z+dbd59eSfD/JyzPzepJJ8t211tunODcAAAAAAAAAAAAAAAAAAAAAAMfYGJVJkrXWjSQ3jty7duj77SRf3e5oAAAAAAAAAAAAAAAAAAAAAAC8Xxd2PQAAAAAAAAAAAAAAAAAAAAAAANsjKgMAAAAAAAAAAAAAAAAAAAAAUERUBgAAAAAAAAAAAAAAAAAAAACgiKgMAAAAAAAAAAAAAAAAAAAAAEARURkAAAAAAAAAAAAAAAAAAAAAgCKiMgAAAAAAAAAAAAAAAAAAAAAARURlAAAAAAAAAAAAAAAAAAAAAACKiMoAAAAAAAAAAAAAAAAAAAAAABQRlQEAAAAAAAAAAAAAAAAAAAAAKCIqAwAAAAAAAAAAAAAAAAAAAABQRFQGAAAAAAAAAAAAAAAAAAAAAKCIqAwAAAAAAAAAAAAAAAAAAAAAQBFRGQAAAAAAAAAAAAAAAAAAAACAIqIyAAAAAAAAAAAAAAAAAAAAAABFRGUAAAAAAAAAAAAAAAAAAAAAAIqIygAAAAAAAAAAAAAAAAAAAAAAFBGVAQAAAAAAAAAAAAAAAAAAAAAoIioDAAAAAAAAAAAAAAAAAAAAAFBEVAYAAAAAAAAAAAAAAAAAAAAAoIioDAAAAAAAAAAAAAAAAAAAAABAEVEZAAAAAAAAAAAAAAAAAAAAAIAiojIAAAAAAAAAAAAAAAAAAAAAAEVEZQAAAAAAAAAAAAAAAAAAAAAAiojKAAAAAAAAAAAAAAAAAAAAAAAUEZUBAAAAAAAAAAAAAAAAAAAAACgiKgMAAAAAAAAAAAAAAAAAAAAAUERUBgAAAAAAAAAAAAAAAAAAAACgiKgMAAAAAAAAAAAAAAAAAAAAAEARURkAAAAAAAAAAAAAAAAAAAAAgCKiMgAAAAAAAAAAAAAAAAAAAAAARURlAAAAAAAAAAAAAAAAAAAAAACKiMoAAAAAAAAAAAAAAAAAAAAAABQRlQEAAAAAAAAAAAAAAAAAAAAAKCIqAwAAAAAAAAAAAAAAAAAAAABQRFQGAAAAAAAAAAAAAAAAAAAAAKCIqAwAAAAAAPBvdu7YxY4qDOPw920WCystYqPCWJjWwqCVYCMGUtiKhaVY+AdMYx9IrQQRayvBwEjs1DYRRIxBCBJisDC2NiIemxDWzYa9q3ed5PV5qpm5h8vbnuYHAAAAAAAAAAAAAEAQURkAAAAAAAAAAAAAAAAAAAAAgCCiMgAAAAAAAAAAAAAAAAAAAAAAQXbXHgAAAAAAAADAvzfNy93nG+fOrrgEAAAAAAAAAAAAWJuoDAAAAAAAAAAAAABQVaKlAAAAAAAAKXbWHgAAAAAAAAAAAAAAAAAAAAAAwPaIygAAAAAAAAAAAAAAAAAAAAAABBGVAQAAAAAAAAAAAAAAAAAAAAAIIioDAAAAAAAAAAAAAAAAAAAAABBEVAYAAAAAAAAAAAAAAAAAAAAAIIioDAAAAAAAAAAAAAAAAAAAAABAEFEZAAAAAAAAAAAAAAAAAAAAAIAgojIAAAAAAAAAAAAAAAAAAAAAAEFEZQAAAAAAAAAAAAAAAAAAAAAAgojKAAAAAAAAAAAAAAAAAAAAAAAEEZUBAAAAAAAAAAAAAAAAAAAAAAgiKgMAAAAAAAAAAAAAAAAAAAAAEERUBgAAAAAAAAAAAAAAAAAAAAAgiKgMAAAAAAAAAAAAAAAAAAAAAEAQURkAAAAAAAAAAAAAAAAAAAAAgCCiMgAAAAAAAAAAAAAAAAAAAAAAQURlAAAAAAAAAAAAAAAAAAAAAACCiMoAAAAAAAAAAAAAAAAAAAAAAAQRlQEAAAAAAAAAAAAAAAAAAAAACCIqAwAAAAAAAAAAAAAAAAAAAAAQRFQGAAAAAAAAAAAAAAAAAAAAACCIqAwAAAAAAAAAAAAAAAAAAAAAQBBRGQAAAAAAAAAAAAAAAAAAAACAIKIyAAAAAAAAAAAAAAAAAAAAAABBRGUAAAAAAAAAAAAAAAAAAAAAAIKIygAAAAAAAAAAAAAAAAAAAAAABBGVAQAAAAAAAAAAAAAAAAAAAAAIIioDAAAAAAAAAAAAAAAAAAAAABBEVAYAAAAAAAAAAAAAAAAAAAAAIIioDAAAAAAAAAAAAAAAAAAAAABAEFEZAAAAAAAAAAAAAAAAAAAAAIAgojIAAAAAAAAAAAAAAAAAAAAAAEFEZQAAAAAAAAAAAAAAAAAAAAAAgojKAAAAAAAAAAAAAAAAAAAAAAAEEZUBAAAAAAAAAAAAAAAAAAAAAAgiKgMAAAAAAAAAAAAAAAAAAAAAEERUBgAAAAAAAAAAAAAAAAAAAAAgiKgMAAAAAAAAAAAAAAAAAAAAAEAQURkAAAAAAAAAAAAAAAAAAAAAgCCiMgAAAAAAAAAAAAAAAAAAAAAAQURlAAAAAAAAAAAAAAAAAAAAAACCiMoAAAAAAAAAAAAAAAAAAAAAAAQRlQEAAAAAAAAAAAAAAAAAAAAACCIqAwAAAAAAAAAAAAAAAAAAAAAQRFQGAAAAAAAAAAAAAAAAAAAAACCIqAwAAAAAAAAAAAAAAAAAAAAAQBBRGQAAAAAAAAAAAAAAAAAAAACAIKIyAAAAAAAAAAAAAAAAAAAAAABBRGUAAAAAAAAAAAAAAAAAAAAAAIKIygAAAAAAAAAAAAAAAAAAAAAABBGVAQAAAAAAAAAAAAAAAAAAAAAIIioDAAAAAAAAAAAAAAAAAAAAABBEVAYAAAAAAAAAAAAAAAAAAAAAIIioDAAAAAAAAAAAAAAAAAAAAABAEFEZAAAAAAAAAAAAAAAAAAAAAIAgojIAAAAAAAAAAAAAAAAAAAAAAEFEZQAAAAAAAAAAAAAAAAAAAAAAgojKAAAAAAAAAAAAAAAAAAAAAAAEEZUBAAAAAAAAAAAAAAAAAAAAAAgiKgMAAAAAAAAAAAAAAAAAAAAAEERUBgAAAAAAAAAAAAAAAAAAAAAgiKgMAAAAAAAAAAAAAAAAAAAAAEAQURkAAAAAAAAAAAAAAAAAAAAAgCCiMgAAAAAAAAAAAAAAAAAAAAAAQURlAAAAAAAAAAAAAAAAAAAAAACCiMoAAAAAAAAAAAAAAAAAAAAAAAQRlQEAAAAAAAAAAAAAAAAAAAAACCIqAwAAAAAAAAAAAAAAAAAAAAAQRFQGAAAAAAAAAAAAAAAAAAAAACCIqAwAAAAAAAAAAAAAAAAAAAAAQBBRGQAAAAAAAAAAAAAAAAAAAACAIKIyAAAAAAAAAAAAAAAAAAAAAABBRGUAAAAAAAAAAAAAAAAAAAAAAIKIygAAAAAAAAAAAAAAAAAAAAAABBGVAQAAAAAAAAAAAAAAAAAAAAAIIioDAAAAAAAAAAAAAAAAAAAAABBEVAYAAAAAAAAAAAAAAAAAAAAAIIioDAAAAAAAAAAAAAAAAAAAAABAEFEZAAAAAAAAAAAAAAAAAAAAAIAgojIAAAAAAAAAAAAAAAAAAAAAAEFEZQAAAAAAAAAAAAAAAAAAAAAAgojKAAAAAAAAAAAAAAAAAAAAAAAEEZUBAAAAAAAAAAAAAAAAAAAAAAgiKgMAAAAAAAAAAAAAAAAAAAAAEERUBgAAAAAAAAAAAAAAAAAAAAAgiKgMAAAAAAAAAAAAAAAAAAAAAEAQURkAAAAAAAAAAAAAAAAAAAAAgCCiMgAAAAAAAAAAAAAAAAAAAAAAQURlAAAAAAAAAAAAAAAAAAAAAACCiMoAAAAAAAAAAAAAAAAAAAAAAAQRlQEAAAAAAAAAAAAAAAAAAAAACCIqAwAAAAAAAAAAAAAAAAAAAAAQZKOoTHef6e4fuvt6d8/3OfNyd3/T3Ve7+8vtzgQAAAAAAAAAAAAAAAAAAAAAYBO7hx3o7hNV9V5VvVJVt6rqcndfHGN8v+fMY1X1flWdGWPc7O4njmswAAAAAAAAAAAAAAAAAAAAAAD3t7PBmReq6voY48cxxu9V9XFVvbbvzBtV9ckY42ZV1Rjjl+3OBAAAAAAAAAAAAAAAAAAAAABgE5tEZZ6sqp/2vN+6822vU1X1eHd/0d1fd/eb2xoIAAAAAAAAAAAAAAAAAAAAAMDmNonK9AHfxr733ap6vqrOVtWrVfVud5+654+63+ruK9195fbt20ceCwAAAAdx3wQAAGDb3DUBAAA4Du6bAAAAHAf3TQAA4CCbRGVuVdXTe96fqqqfDzhzaYzx2xjj16r6qqqe2/9HY4wPxhinxxinT548+U83AwAAwN+4bwIAALBt7poAAAAcB/dNAAAAjoP7JgAAcJBNojKXq+rZ7n6mux+pqter6uK+M59W1Uvdvdvdj1bVi1V1bbtTAQAAAAAAAAAAAAAAAAAAAAA4zO5hB8YYf3T3O1X1eVWdqKqPxhhXu/vtO79fGGNc6+5LVfVtVf1ZVR+OMb47zuEAAAAAAAAAAAAAAAAAAAAAANzr0KhMVdUY47Oq+mzftwv73s9X1fntTQMAAAAAAAAAAAAAAAAAAAAA4Kh21h4AAAAAAAAAAAAAAAAAAAAAAMD2iMoAAAAAAAAAAAAAAAAAAAAAAAQRlQEAAAAAAAAAAAAAAAAAAAAACCIqAwAAAAAAAAAAAAAAAAAAAAAQRFQGAAAAAAAAAAAAAAAAAAAAACCIqAwAAAAAAAAAAAAAAAAAAAAAQBBRGQAAAAAAAAAAAAAAAAAAAACAIKIyAAAAAAAAAAAAAAAAAAAAAABBRGUAAAAAAAAAAAAAAAAAAAAAAIKIygAAAAAAAAAAAAAAAAAAAAAABBGVAQAAAAAAAAAAAAAAAAAAAAAIIioDAAAAAAAAAAAAAAAAwENtmpea5mXtGQAAAPDAEJUBAAAAAAAAAAAAAAAAAAAAAAgiKgMAAAAAAAAAAAAAAAAAAAAAEERUBgAAAAAAAAAAAAAAAAAAAAAgiKgMAAAAAAAAAFVcjwAAACAASURBVAAAAAAAAAAAAEAQURkAAAAAAAAAAAAAAAAAAAAAgCCiMgAAAAAAAAAAAAAAAAAAAAAAQURlAAAAAAAAAAAAAAAAAAAAAACCiMoAAAAAAAAAAAAAAAAAAAAAAAQRlQEAAAAAAGAj07zUNC9rzwAAAAAAAAAAAAAADiEqAwAAAAAAAAAAAAAAAAAAAAAQRFQGAAAAAAAAAAAAAAAAgCjTvNQ0L2vPAAAAgNWIygAAAAAAAAAAAAAAAAAAAAAABBGVAQAAAAAAAAAAAAAAAAAAAAAIIioDAAAAAAAAAAAAAAAAAAAAABBEVAYAAAAAAAAAAAAAAAAAAAAAIIioDAAAAAAAAAAAAAAAAAAAAABAEFEZAAAAAAAAAAAAAAAAAAAAAIAgojIAAAAAAAAAAAAAAAAAAAAAAEFEZQAAAAAAAAAAAAAAAAAAAAAAgojKAAAAAAAAAAAAAAAAAAAAAAAEEZUBAAAAAAAAAAAAAAAAAAAAAAgiKgMAAAAAAAAAAAAAAAAAAAAAEERU5gDTvNQ0L2vPAAAAAAAAAAAAAAAAAAAAAAA4MlEZAAAAAAAAAAAAAAAAAAAAAIAgojIAAAAAAAAAAAAAAAAAAAAAAEFEZQAAAAAAAAAAAAAAAAAAAAAAgojKAAAAAAAAAAAAAAAAAAAAAAAEEZUBAAAAAAAAAAAAAAAAAAAAAAgiKgMAAAAAAAAAAAAAAAAAAAAAEERUBgAAAAAAAAAAAAAAAAAAAAAgiKgMAAAAAAAAAAAAAAAAAAAAAEAQURkAAAAAAAAAAAAAAAAAAAAAgCCiMgAAAAAAAAAAAAAAAAAAAAAAQURlAAAAAAAAAAAAAAAAAAAAAACCiMoAAAAAAAAAAAAAAAAAAAAAAAQRlQEAAAAAAAAAAAAAAAAAAAAACCIqAwAAAAAAAAAAAAAAAAAAAAAQRFQGAAAAAAAAAAAAAAAAAAAAACCIqAwAAAAAAAAAAAAAAAAAAAAAQBBRGQAAAAAAAAAAAAAAAAAAAACAIKIyAAAAAAAAAAAAAAAAAAAAAABBRGUAAAAAAAAAAAAAAAAAAAAAAIKIygAAAAAAAAAAAAAAAAAAAAAABBGVAQAAAAAAAAAAAAAAAAAAAAAIIioDAAAAAAAAAAAAAAAAAAAAABBEVAYAAAAAAAAAAAAAAAAAAAAAIIioDAAAAAAAAAAAAAAAAAAAAABAEFEZAAAAAAAAAAAAAAAAAAAAAIAgojIAAAAAAAAAAAAAAAAAAAAAAEFEZQAAAAAAAAAAAAAAAAAAAAAAgojKAAAAAAAAAAAAAAAAAAAAAAAEEZUBAAAAAAAAAAAAAAAAAAAAAAgiKgMAAAAAAAAAAAAAAAAAAAAAEERUBgAAAAAAAAAAAAAAAAAAAAAgiKgMAAAAAAAAAAAAAAAAAAAAAEAQURkAAAAAAAAAAAAAAAAAAAAAgCCiMgAAAAAAAAAAAAAAAAAAAAAAQURlAAAAAAAAAAAAAAAAAAAAAACCiMoAAAAAAAAAAAAAAAAAAAAAAAQRlQEAAAAAAAAAAAAAAAAAAAAACCIqAwAAAAAAAAAAAAAAAAAAAAAQRFQGAAAAAAAAAAAAAAAAAAAAACCIqAwAAAAAAAAAAAAAAAAAAAAAQBBRGQAAAAAAAAAAAAAAAAAAAACAIKIyAAAAAAAAAAAAAAAAAAAAAABBRGUAAAAAAAAAAAAAAAAAAAAAAIKIygAAAAAAAAAAAAAAAAAAAAAABBGVAQAAAAAAAAAAAAAAAAAAAAAIIioDAAAAAAAAAAAAAAAAAAAAABBEVAYAAAAAAAAAAAAAAAAAAAAAIIioDAAAAAAAAAAAAAAAAAAAAABAEFEZAAAAAAAAAAAAAAAAAAAAAIAgojIAAADwH5jmpaZ5WXsGAAAAAAAAAAAAAAAAAP8DojIAAAAAAAAAAAAAAAAAAAAAAEFEZQAAAAAAAAAAAAAAAAAAAAAAgojKAAAAAAAAAAAAAAAAAPDAm+alpnlZewYAAAA8FERlAAAAAAAAAAAAAAAAAAAAAACCiMoAAAAAAAAAAAAAAAAAAAAAAAQRlQEAAAAAAAAAAAAAAAAAAAAACCIqAwAAAAAAAAAAAAAAAAAAAAAQRFQGAAAAAAAAAAAAAAAAAAAAACCIqAwAAAAAAAAAAAAAAAAAAAAAQBBRGQAAAAAAAAAAAAAAAAAAAACAIKIyAAAAAAAAAAAAAAAAAAAAAABBRGUAAAAAAAAAAAAAAAAAAAAAAILsrj0AAAAAAAAAAAAAAAAAAI5impe7zzfOnV1xCQAAADyYdtYeAAAAAAAAAAAAAAAAAAAAAADA9ojKAAAAAAAAAAAAAAAAAAAAAAAEEZUBAAAAAAAAAAAAAAAAAAAAAAgiKgMAAAAAAAAQaJqXmuZl7RkAAAAAAAAAAADACkRlAAAAAAAAAAAAAAAAAAAAAACCiMoAAAAAAAAAAAAAAAAAAAAAAAQRlQEAAAAAAAAAAAAAAAAAAAAACCIqAwAAAAAAAAAAAAAAAAAAAAAQRFQGAAAAAAAAAAAAAAAAAAAAACCIqAwAAAAAAAAAAAAAAAAAAAAAQBBRGQAAAAAAAAAAAAAAAAAAAACAIKIyAAAAAAAAAAAAAAAAAAAAAABBRGUAAAAAAAAAAAAAAAAAAAAAAIKIygAAAAAAAAAAAAAAAAAAAAAABBGVAQAAAAAAAAAAAAAAAAAAAAAIIioDAAAAAAAAAAAAAAAAAAAAABBEVAYAAAAAAAAAAAAAAAAAAAAAIIioDAAAAAAAAAAAAAAAAAAAAABAEFEZAAAAAAAAAAAAAAAAAAAAAIAgojIAAAAAAAAAAAAAAAAAAAAAAEFEZQAAAAAAAAAAAAAAAAAAAAAAgojKAAAAAAAAAAAAAAAAAAAAAAAEEZUBAAAAAAAAAAAAAAAAAAAAAAgiKgMAAAAAAAAAAAAAAAAAAPzF3h27WHrVYRx/zuziPyBbJZGTIs0Wqda0YpewRRRSJIogGEKEWOdUNjZjp0VCCCFYplFEfFfyD4iQbSxSKCEuZE3hIjZWIeFYuC6z4+zOnd175535zedTzXvvy/A0U5w7934vAACFiMoAAAAAAAAAAAAAAAAAAAAAABQiKgMAAAAAAAAAAAAAAAAAAAAAUIioDAAAAAAAAAAAAAAAAAAAAABAIaIyAAAAAAAAAAAAAAAAAAAAAACFiMoAAAAAAAAAAAAAAAAAAAAAABQiKgMAAAAAAAAAAAAAAAAAAAAAUIioDAAAAAAAAAAAAAAAAAAAAABAIaIyAAAAAAAAAAAAAAAAAAAAAACFiMoAAAAAAAAAAAAAAAAAAAAAABQiKgMAAAAAAAAAAAAAAAAAAAAAUMhGUZnW2vOttb+01j5prY2H3PfN1tpXrbWXtjcRAAAAAAAAAAAAAAAAAAAAAIBNHRuVaa1dSvJWkheSXE3ySmvt6gPu+3mSD7c9EgAAAAAAAAAAAAAAAAAAAACAzRwblUnyXJJP5pyfzjm/SPJBkhePuO8nSX6d5B9b3AcAAAAAAAAAAAAAAAAAAAAAwAlsEpV5IslnB65v333sntbaE0m+m+Sd7U0DAAAAAAAAAAAAAAAAAAAAAOCkNonKtCMem4euf5HkzTnnVw/9Ra291lq72Vq7eefOnU03AgAAwEM5bwIAALBtzpoAAADsgvMmAAAAu+C8CQAAHGWTqMztJE8duH4yyeeH7rmW5IPW2q0kLyV5u7X2ncO/aM757pzz2pzz2pUrVx5xMgAAANzPeRMAAIBtc9YEAABgF5w3AQAA2AXnTQAA4CiXN7jnoyTPtNaeTvL3JC8n+d7BG+acT//v59bar5L8fs752y3uBAAAAAAAAAAAAAAAAAAAAABgA8dGZeacX7bW3kjyYZJLSd6fc37cWnv97vPv7HgjAAAAAAAAAAAAAAAAAAAAAAAbOjYqkyRzzhtJbhx67MiYzJzzh48/CwAAAAAAAAAAAAAAAAAAAACAR7G39gAAAAAAAAAAAAAAAAAAAAAAALZHVAYAAAAAAAAAAAAAAAAAAAAAoBBRGQAAAAAAAAAAAAAAAAAAAACAQkRlAAAAAAAAAAAAAAAAAAAAAAAKEZUBAAAAAAAAAAAAAAAAAAAAACjk8toDAAAAAAAAAAAAAAAAAOCwPpZ7P9/av77iEgAAADh/9tYeAAAAAAAAAAAAAAAAAAAAAADA9ojKAAAAAAAAAAAAAAAAAAAAAAAUIioDAAAAAAAAAAAAAAAAAAAAAFCIqMwx+ljSx7L2DAAAAAAAAAAAAAAAAAAAAACAjYjKAAAAAAAAAAAAAAAAAAAAAAAUIioDAAAAAAAAAAAAAAAAAAAAAFCIqAwAAAAAAAAAAAAAAAAAAAAAQCGiMgAAAAAAAAAAAAAAAAAAAAAAhYjKAAAAAAAAAAAAAAAAAAAAAAAUIioDAAAAAAAAAAAAAAAAAAAAAFCIqAwAAAAAAAAAAAAAAAAAAAAAQCGiMgAAAAAAAAAAAAAAAAAAAAAAhYjKAAAAAAAAAAAAAAAAAAAAAAAUIioDAAAAAAAAAAAAAAAAAAAAAFCIqAwAAAAAAAAAAAAAAAAAAAAAQCGiMgAAAAAAAAAAAAAAAAAAAAAAhYjKAAAAAAAAAAAAAAAAAAAAAAAUIioDAAAAAAAAAAAAAAAAAAAAAFCIqAwAAAAAAAAAAAAAAAAAAAAAQCGiMgAAAAAAAAAAAAAAAAAAAAAAhYjKAAAAAAAAAAAAAAAAAAAAAAAUIioDAAAAAAAAAAAAAAAAAAAAAFCIqAwAAAAAAAAAAAAAAAAAAAAAQCGiMgAAAAAAAAAAAAAAAAAAAAAAhYjKAAAAAAAAAAAAAAAAAAAAAAAUIioDAAAAAAAAAAAAAAAAAAAAAFCIqAwAAAAAAAAAAAAAAAAAAAAAQCGiMgAAAAAAAAAAAAAAAAAAAAAAhYjKAAAAAAAAAAAAAAAAAAAAAAAUIioDAAAAAAAAAAAAAAAAAAAAAFCIqAwAAAAAAAAAAAAAAAAAAAAAQCGiMgAAAAAAAAAAAAAAAAAAAAAAhYjKAAAAAAAAAAAAAAAAAAAAAAAUIioDAAAAAAAAAAAAABypjyV9LGvPAAAAAAAA4IREZQAAAAAAAAAAAAAAAAAAAAAAChGVAQAAAAAAAAAAAAAAAAAAAAAoRFQGAAAAAAAAAAAAAAAAAAAAAKAQURkAAAAAAAAAAAAAAAAAAAAAgEJEZQAAAAAAAAAAAAAAAAAAAAAAChGVAQAAAAAAAAAAAAAAAAAAAAAoRFTmMfSxpI9l7RkAAAAAAAAAAAAAAAAAAAAAAPeIygAAAAAAAAAAAAAAAAAAAAAAFCIqAwAAAAAAAAAAAAAAAAAAAABQiKgMAAAAAAAAAAAAAAAAAAAAAEAhojIAAAAAAAAAAAAAAAAAAAAAAIWIygAAAAAAAAAAAAAAAAAAAAAAFCIqc0J9LOljWXsGAAAAAAAAAAAAAAAAAAAAAMCRRGUAAAAAAAAAAAAAAAAAAAAAAAoRlQEAAAAAAAAAAAAAAAAAAAAAKERUBgAAAAAAAAAAAAAAAAAAAACgEFEZAAAAAAAAAAAAAAAAAAAAAIBCRGUAAAAAAAAAAAAAAAAAAAAAAAoRlQEAAAAAAAAAAAAAAAAAAAAAKERUBgAAAAAAAAAAAAAAAAAAAACgEFEZAAAAAAAAAAAAAAAAAAAAAIBCRGUAAAAAAAAAAAAAAAAAAAAAAAoRlQEAAAAAAAAAAAAAAAAAAAAAKERUBgAAAAAAAAAAAAAAAAAAAACgEFEZAAAAAAAAHqiPJX0sa88AAAAAAAAAAAAAAE5AVAYAAAAAAAAAAAAAAAAAAAAAoBBRGQAAAAAAAAAAAAAAAAAAAACAQkRlAAAAAAAAAAAAAAAAAAAAAAAKEZUBAAAAAAAAAAAAAAAAAAAAAChEVAYAAAAAAAAAAAAAAAAAAAAAoBBRGQAAAAAAAAAAAAAAAAAAAACAQkRlAAAAAAAAAAAAAAAAAAAAAAAKEZUBAAAAAAAAAAAAAAAAAAAAAChEVAYAAAAAAAAAAAAAAAAAAAAAoBBRGQAAAAAAAAAAAAAAAAAAAACAQkRlAAAAAAAAAAAAAAAAAAAAAAAKEZUBAAAAAAAAAAAAAAAAAAAAAChEVAYAAAAAAAAAAAAAAAAAAAAAoBBRGQAAAAAAAAAAAAAAAAAAAACAQkRlAAAAYAV9LOljWXsGAAAAAAAAAAAAAAAAAAWJygAAAAAAAAAAAAAAAABwJvjSNgAAANgOURkAAAAAAAAAAAAAAAAAAAAAgEJEZQAAAAAAAAAAAAAAAAAAAAAAChGVAQAAAAAAAAAAAAAAAAAAAAAoRFQGAAAAAAAAAAAAADixPpb0saw9AwAAAAAAgCOIygAAAAAAAAAAAAAAAAAAAAAAFCIqAwAAAAAAAAAAAAAAAADAzvSxpI9l7RkAAHChiMoAAAAAAAAAAAAAAAAAAHBqRGYAAGD3RGUAAAAAAAAAAAAAgFPjg4MAAAAAAAC7JyoDAAAAAAAAAAAAAAAAAAAAAFCIqAwAAAAAAAAAAAAAAAAAAAAAQCGiMgAAAAAAAAAAAAAAAAAAAAAAhYjKAAAAAAAAAAAAAAAAAAAAAAAUIioDAAAAAAAAcMH0saSPZe0ZAAAAAAAAAAAAwI6IygAAAAAAAAAAAAAAj03EFAAAAAAA4OwQlQEAAAAAAAAAAAAAAAAAAAAAKERUBgAAAAAAAAAAAAAAAAAAAACgEFEZAAAAAAAAAAAAAAAAAAAAAIBCRGUAAAAAAAAAAAAAAAAAAAAAAAoRlQEAAAAAAAAAAAAAAAAAAAAAKERUBgAAAAAAAAAAAAAAAAAAAACgEFEZAAAAAAAAAAAAAAAAAAAAAIBCRGUAAAAAAAAAAAAAAAAAAAAAAAoRlQEAAAAAAAAAAAAAAAAAAAAAKERUBgAAAAAAAAAAAAAAAAAAAACgEFEZAAAAAAAAAAAAAAAAAE5NH0v6WNaeAQAAAKWJygAAAAAAAAAAAAAAAAAAAAAAFCIqs0UKuQAAAAAAAAAAAAAAAAAAAADA2i6vPQAAAAAAAACA3Tr45Ri39q+vuAQAAAAAAAAAAAA4DXtrDwAAAAAAAAAAAAAAAAAAAAAAYHtEZQAAAAAAAAAAAAAAAAAAAAAAChGVAQAAAAAAAAAAAAAAAAAAAAAoRFQGAAAAAAAAAAAAAAAAAAAAAKAQURkAAAAAAAAAAAAAAAAAAAAAgEJEZQAAAAAAAAAAAAAAAAAAAAAAChGVAQAAAAAAAAAAAAAAAAAAAAAoRFQGAAAAAAAAAAAAANhIH0v6WNaeAQAAAAAAwDFEZQAAAAAAAAAAAAAAAAAAAAAAChGVAQAAAAAAAAAAAAAAAAAAAAAoRFQGAAAAAAAAAAAAAAAAAAAAAKAQURkAAAAAAAAAAAAAYKv6WNLHsvYMAAAAAACAC0tUBgAAAAAAAAAAAAAAAAAAAACgEFEZAAAAAAAAAAAAAAAAAAAAAIBCRGUAAAAAAAAAAAAAAAAAAAAAAAoRlQEAAAAAAOCePpb0saw9AwAAAAAAAAAAAAB4DKIyAAAAAAAAAAAAAAAAAAAAAACFiMoAAAAAAAAAAAAAAAAAAAAAABQiKgMAAAAAAAAAAAAAAADAKvpY0sey9gwAAAAoR1QGAAAAAAAAAAAAAAAAAAAAAKAQURkAAAAAAAAAAAAAAAAAAAAAgEJEZQAAAAAAAAAAAAAAAAAAWEUfS/pY1p4BAADliMoAAAAAAAAAAAAAADvlA4IAAAAAAACn6/ImN7XWnk/yyySXkrw359w/9Pz3k7x59/LfSX485/zzNocCAAAAAAAAsH0HP9B3a//6iksAAAAAAAAAAACAbdk77obW2qUkbyV5IcnVJK+01q4euu1vSb4153w2yc+SvLvtoQAAAAAAAAAAAAAAAAAAAAAAHO/YqEyS55J8Muf8dM75RZIPkrx48IY55x/nnP+6e/mnJE9udyYAAAAAAAAAAAAAAAAAAAAAAJvYJCrzRJLPDlzfvvvYg/woyR8eZxQAAAAAAAAAAAAAAAAAAAAAAI9mk6hMO+KxeeSNrX07/43KvPmA519rrd1srd28c+fO5isBAADgIZw3AQAA2DZnTQAAAHbBeRMAAIBdcN4EAACOsklU5naSpw5cP5nk88M3tdaeTfJekhfnnP886hfNOd+dc16bc167cuXKo+wFAACA/+O8CQAAwLY5awIAALALzpsAAADsgvMmAABwlE2iMh8leaa19nRr7WtJXk7yu4M3tNa+keQ3SX4w5/zr9mcCAAAAAAAAAAAAAAAAAAAAALCJy8fdMOf8srX2RpIPk1xK8v6c8+PW2ut3n38nyU+TfD3J2621JPlyznltd7MBAAAAAAAAAAAAAAAAAAAAADjKsVGZJJlz3khy49Bj7xz4+dUkr253GgAAAAAAAAAAAABQXR9LkuTW/vWVlwAAAAAAANSxt/YAAAAAAAAAAAAAAAAAAAAAAAC2R1QGAAAAAAAAAAAAAAAAAAAAAKAQURkAAAAAAAAAAAAAAAAAAAAAgEJEZQAAAAAAAAAAAAAAAAAAAAAAChGVAQAAAAAAAAAAAAAAAAAAAAAoRFQGAAAAAAAAAAAAAAAAgGP1saSPZe0ZAAAAwAZEZQAAAAAAAC44b/wEAAAAAAAAAAAAgFpEZQAAAAAAAAAAAAAAAAAAAAAAChGVAQAAAAAAAAAAAAAAAAAAAAAoRFQGAAAAAAAAAAAAAAAAAAAAAKAQURkAAAAAAAAAAAAAAAAAAAAAgEJEZQAAAGBlfSzpY1l7BgAAAAAAAAAAAAAAAABFiMoAAAAAAAAAAAAAAAAAAAAAABQiKgMAAAAAAAAAAAAAAAAAAAAAUIioDAAAAAAAAAAAAAAAAAAAAABAIaIyO9LHkj6WtWcAAAAAAAAAAAAAAAAA7JzPUwEAAMDZIipzSrwoAgAAAAAAAAAAAAAAAAAAAACcBlEZAAAAAAAAAAAAAAAAAAAAAIBCRGUAAAAAAAAAAAAAAAAAAAAAAAoRlQEAAAAAAAAAAAAAAADgSH0s6WNZewYAAABwQqIyhXiBBgAAAAAAAAAAAAAAAAAAAAAQlQEAAAAAAAAAAAAAAAAA4EzoY0kfy9ozAADg3BOVAQAAAAAAAAAAAAAAAAAAAAAoRFQGAAAAAAAAAAAAAAAAAAAAAKAQURkAAAAAAAAAAAAAAAAAAAAAgEJEZQAAAAAAAAB4JH0s6WNZewYAAAAAAAAAAABwiKjMCryxEgAAAAAAAAAAAAAAAAAAAADYFVGZc0ycBgAAAAAAANg1/5cEAAAAAAAAAACA8+fy2gPY3ME3at7av77iEgAAAAAAAAAAAAAAAAAAAADgrNpbewAAAAAAAACnq4/lvpg9AAAAAAAAAAAAAFCLqAwAAAAAAAAAAAAAAAAAAAAAQCGiMgAAAAAAAAA8tj6W9LGsPQMAAAAAAAAAAACIqMyZ4M2VAAAAAAAAAAAAAAAAAAAAAMC2iMoAAAAAAAAAAAAAAAAAAAAAABQiKlNUH0v6WNaeAQAAAAAAAAAAAAAAAAAAAACcMlEZAAAAAAAAAAAAAAAAAAAAAIBCRGXOuD6W9LGsPQMAAAAAAAAAAAAAAAAAAAAAOCdEZQAAAAAAAAAAAAAAAAAAAAAAChGVAQCAovpY0sey9gwAAAAAAAAAAAAALjjvawUAAIDTJyoDAAAAAAAAAAAAAAAAwImJxQAAAMDZJSoDAAAAAAAAAAAAAAAAAAAAAFCIqAwAAAAAAAAAAAAAAAAAAAAAQCGiMgAAcI70saSPZe0ZAAAAAAAAAAAAAAAAAACcYaIyAAAAAAAAAAAAAAAAAAAAAACFiMoAAAAAAAAAAAAAAAAAAAAAABQiKgMAAAAAAADAPX0s6WM58XMAAAAAAEAN/h8AAAAANVxeewAAAAAAAAAAAABwcRz8YOKt/esrLgEAAAAAAACoa2/tAQAAAAAAAAAAAAAAAAAAAAAAbI+oDAAAAAAAAAAAAAAAAABb1ceSPpa1ZwAAAMCFJSoDAAAAAAAAAAAAAAAAAAAAAFCIqAwAAAAAAAAAAAAAcCb0saSPZe0ZAAAAnFHOjQAAsDlRGQAAAAAAgAvAm6oAAAAAAAAAAAAA4OIQlQEAAAAAAAAAAAAAAAAAAAAAKERUBgAAzjHfMg81+dsGAAAAAAAAAAAAAAAA4HFcXnsA9zv4ocFb+9dXXAIAAAAAAAAAAAAAAAAAAAAAnEd7aw8AAAAero/lvvggAAAAAAAAQCX+JwoAAADAg3jtCAAAHp2oDAAAAAAAAAAAAAAAAAAAAABAIaIyAAAAAAAAAAAAwIn5lmgAAIA6nPEAAACgHlEZvOgDAAAAAAAAAADARrzfDAAAAAAAAOB8EJUBAAAAAAAAAAAAAAAAAAAAAP7D3v2G2pbWdQD/PWdOCZWhocmk1rUYheiFhoyFKEL5d8KpwBgJUytM0Eh6kdd6kfjGm2XQi9D+OKCgo0ZJQ9dS+08vrHFsUMc/OdotRwfFBE0MZezpxdmH2fd0zrl7r71+61nr2Z8PXO49++yz93N+d+21nu/681t05LD1AAAAAIBh1u8CeuXSTQ1HAgAAAAAAAJDj+LjotY6Jbvq8KcYCAAAAAAAwBwetB8A0Lly8fNXFhgAAACyTfAcAAAAAAABwbY6tAgAA7De5EACADEubZ2oqAwAAAAAAAAAAAAAAAAAAAADQEU1lAAAAAAAAAAAAAAAAAAAAAAA6oqkMAAAAAABAhy5cvBwXLl5uPQwAAAAAAAAAAAAAoIHD1gMAAAAAAAAAAAAAAJib9abNVy7d1HAkAAAAAAAA2ztoPQCm586kAAAAAAAAAAAAADA/zvMFAAAAAADGcth6AAAAAAAAAAAAAAAA2zpuvnLl0k2NRwIAeLpS5AAAIABJREFUMK71JnPmOgAAAMBQB60HAAAAAAAAAEB/3FkdAGD/mAMCAAAAAAAAzIemMgAAAAAAAAAAAAAAAAAAAAAAHdFUBgAAAAAAAAAAAAAAAACARblw8XJcuHi59TAAAGC2NJUBAAAAAAAAAAAAAAAAAAAAAOiIpjIAAAAAAAAApHKHQAAAAAAAAAAAAJiWpjIAADAzLrABAAAAAAAAANgPzhMBAAAAAACyaCoDAAAAM+YEQgAAAAAAAAAAAAAAAAC2pakMAAAAAABAJzQlBAAAAAAAAAAAAAAiNJUBAACAveDiYgAAAAAAAAAAAAD2lXNpAQDYR5rKAAAAAAAAAAAAAAAAAAAAAAB0RFMZAAAA6IQ7KAAAALAUMiwAwP4xBwQAAJiG/AXsM+tAAAC4mqYyAAAAAAAAAAAAAAAAAAAAAAAd0VQGAAAAAABgodxhCwAAAAAAAPo39Lig44kAAACw3w5bDwAAAAAAAAAAtnV8EvyVSzc1HgkAAAAAAJxuvaGL/dkAAADA1A5aDwAAAAAAAAAAAAAA4FouXLx81YXZAABsx3wKAAAA9sth6wEAAADjcGdmAAAAAAAAYGxDj0M6fgn0bv1ibOs6AAAAAADo15KPfR60HgAAAAAAAACbc/dAAAAAAMhj/xsAsCvzCQAAAGAuNJUBAAAAAAAAAAAAALq1bxd279vvCwC9sA0HAAAAxqapDAAAAAAAAAAAAAAAAAAAAABARw5bDwAAAAAY3/oda65cuqnhSAAAAGAax1lYDgYAAAAAAAAAAABNZQAAAAAAAACYqYxGMRqxAgAAAAAAAAAAsA8OWg8AAAAAmN6Fi5evuogOAAAA5iIjs8rBAAAArJMTAQAAAACAfaCpDAAANODkJAAAAADYnv1qAAAA9EC+BQAAAACAtvZlX72mMszKvnzwAAAAAAAAAAAApuTcLIDlse4GADZhzgAAAACcRVMZAAAAAAAAAJpxsjsAQBvmYQAAANObUxab01gAAACAHJrKAABAkm0OtjkwBwAAAAAAAABABuelAAAAAADAfjpsPQA4y/HBqyuXbmo8EgAAAAAAAAAAgHlwXhXAuKxXAQAAAACgf+vN1/fpmICmMgAAMBEnIQEAADCEPAmwPetOAAAAWjp5YrqcCgAAAAAAtHDQegDMy4WLl686kAUAAED/ZEEAAAAAAAAAAAAAAACAvhy2HgAAACzJyTtJAQAAAAD7wb5BAAAA5uw4t8qsAAAAuzmZr+QtAID909McUFMZBuvpgwAAAAAAAACgcQwAAABL4TxeAAAAAADgWg5aDwAAAAAAAAAAAADY3YWLl69qlNf6dQAAAAAAAABoR1MZAAAAAAAAAAAAWCgNYAAAAAAAAAD+P8dSNZUBAIBrEhwAAAAYw8l8KW8CzIP1MQAAAAAAAAAAAD3SVIaNOZkSAODazJkAAAAYQp4EWB7NwgAAAAAAAAAAAPrQ6/lfmsoAAAAAAAAAwCl6PVEAANiNOQIAAMC8Dc1tU/8cAAAAQDZNZQAAYAcOBAIAAAAA17K+H9E+RQAAAIaSKQGAY+YFAAAAwCYOWw+APhzviLpy6abGIwEAAGBXMh4AQHvmZAAAAP1Zv9jvWnnvZC6UEwHmz7oaAMYxp23qnMYCQC7rfAAAeqWpDAAAAAAAAAA0MvQEVSe2AgAA0JJcCsCSzHW7tU3zUQDGNda2Ya7bGACApTPPGs9B6wHQpwsXL1+1cwsAAAAAAAAAAIAHTHGO1abv4XwvAAAAAAAAgP4cth4AAAAAAABAj9xZEGB/uVMOADCEOQQAAAAAzNtY+/DsCwQAYCoHrQfAvLkDDQAAAAAAAAAAAAAAABlctwIAAACQ57D1ANhvOmoCAADsB/kPAAAAAAAAYLkc8wVg7myrAAAAoF+b5v71xrX2ERw5aD0A9s/QLtLn/ZzO1ADQn/Xtu209QDsn18HWyQAA5zNfAgAAAADmzDFgAAAAAADmyP7qHIetBwBD6BAFAIxtvVOluQZALncFAgAAAABgac7bt22/NwC9GLpNc64NAC1MncVkPwAAAHhAy5xsn/R2NJUBAAAAAAA4wcWCAMyN7Q8ALJNtOACMwzYVgLmxbQJgGy58BgCWTg5eLk1l2GtWXgAAAMOdzFS73rVONgMA5sqJPQAAAGxKhgSA821zfDjjWLLj0wAAwBzJKgAAw5lLnU9TGdJN/SF0YgYA5Gt9cgcAAADMhX3SAAAAAADTm+s5SXMdFwBns+4GYCxjnUPipo8AQE/Gmtsw3EHrAQAAQMRRGFjfibrpc8/7uZPf2+Y9ANiNdS4AAABsb2ie3mY/KQAAAAAAALBMjgsCALCtw9YDAI7oqgVAL87bpukqCQAAwFzJqACwubHusggAAAAt2S8MsJ+s/wEAAIB9oqkM3Vvf4efkRgC42ljbyTkdYJvTWAAAAJgXmREAbA8BaC9jW2T7BgDzdd45SWOd12suAPRmKeu1k+vxpYwbAAAA2MzQrL/pz9mXMA1NZWDNaRfWH6+EzlspWWEBMLUW257etneazQHMk+wFAAAAD8g+MWMsMjsAWcfesrcx25wfBADksy1+gFoAAMDymdcDAHMx9XFX5kVTGRig9UmYY1xk2fpCehsHYJ9NNQE/fg/rXACWTJMZACCT+QQAAMByTN0ARmYEgOVuD8+7yWT2++36Gqe9TutzfudsqcsozE2r6yOmfE8A6JU5MQAwJnOLPmkqAwuXsXK2kxZgeTKaigkAAPRCxgGA/SbfAgAALMdSLvoGAM5ne/sAN1IBxtD6pri7vMbx64z1O1h3AsAwtqEAsF9s+1mnqQyMbJuV7JzumNR63DZOQM/GOjHAuhIAAIB9JhcDAAAsl0wHAMAY3FQGxrOUnLaUcQLAvrBtBgBYHk1lYEKtGwe0Dm2t3x8AAOhX67wFAAAAPVhqZl4f91J/B4C5OO9O8ttcwNt6n63tAQCwK/OJ8e1zTff5d2dzc81Gll8A6NN5x9ccewMA6IumMsA1zTn8zXlswH4bun6yXgOAabmLGQDM13kZ+byTWQCAzbW44N9JqADTcBHAA/bt9wUAcphT7K+5NvpgfEv5f1nKOAEAAIBlsK+hf5rKQLJ9XpFOfWLpPtcamIb1DAAshwZvADBf2Rcy2p4DwDgyjvUBsJml7N+0jgcAerPp/MY8aHdq+ICl7oPp4f+wh99hG0td1gAAAGCfnLxxcsZ19bL9/tFUBpidKS4kGePClZMbZmC55npXvjmNBQD21dQnDY7xOuYQAEQs98Rh2zEAWL65HUNzQSCwBK3XQa3fHwBgX2TNuxxnnic1nc42tR7z87Lr6wAA9Mb1egDsu023hedd877J62/6unBMUxlgJ0M3XFNY6oUzQD4XugEAQ2yTf5bYjAaAeejlrgFzGw8AsAxDT64Z8vrbvM4UJ71OceMNYF5c+AsAwFAZmbkHY1182rq+2U1PdqlTxnGsfVtmM26CuG81BADmY27zGfMiAObMdoqWNJUBOGGsAxdLPPHTpORsajOdudXaHUwBgLFNfbGIk7MAlq3lRYZTnHwNADBXUx2Xy3yPs95zzIuWIGK5c/4p9pu5WBAAgNaGzknndFx7KZb6O8zpJp5zWmbGahY8p/oCALR0WjY5/nroz009DzPXAmhnDufSnnYDI9sGlkJTGYBzzPlkzilOODOhmU7WspZ9kuLQO3ru+n5nvf+mrwMAMKWp754+1NC5VovcNJQ5ITBXGXd13PTndjnZwnoVAJjSnOYe2cdKrjVHW+IJSuaSm9m3ukxxQnfGPq6pP5P7tlwAADCdqY9PDH19c+JlmOv/U4txzbUWAAAc2SZzmNsBtGH9C+PSVAZgAvscLndpArLJ67Y4Ma+Xhj5TH9idWuv3BwCYo11PCtzkZ4c2/pvzvH6KBjvmr/PU8s6NPKD1icNDTyLIyP2WLQCAZZvz8Z9ts+8cL+ybc31bvl+L/RW9XWC6pKbKAAAwtTnlwl3MNf+M9d5Dj3m3rkvr989+TQAAlm3ojSi2PcfsrO+PwTwXOEurmyUO+dmh48m+oRDMiaYyAA1kH6zIvCPimF1Y53Zh6lxPNsyq07bvP/cmOk7mBACYztTz823u/jzGDuxtDtJl7DCfuk5TNwLKaj461JwudDutvqc9N2s5bPl5HfpZPq8Wu9Rw6AW1Yz0XAADmZE7H0Maag2dk5oxxDn3NbV5naHPMVicROp4IAADT6/F4iHEuj1oAALCLqY/HDH3NMc+BPet1Wv+OQ16zdeNKhlHvXBnXamY0YJlinBnrC+jNRk1lSinPiojfi4jrIuKPa62XTny/rL7/nIj4WkS8qNb6wZHHCsAIMkParq87RTe/qQPlFEE7o2lQNpNzAAD2wTYH6Ya8ZpbsxiKbvMYmr5PRRKdVg52Miwx3HdvQ95+zHn4HAACYQsaJW0NfZ5tmkVPbtYnomDltbg1c1/V48SkAALAMPWaMHn8nAABgM0PPSW11Hui2NzHIOH9zl2ON2eedDn1e5v/L8fdbNivZ9rmbvt+Y5x+f9tyh39tlbJvWZU4NWFof44d9ds2mMqWU6yLi9yPi6RFxb0TcUUq5vdb60bWnPTsiblj9eVJEvGH1NwDslV4O2PXyewAAQA/MzxnTEhuTAgAA7EqOWR7/ZwAAwJhctAQAADCeOd9UoPVNAoc2AclupLLra27yOktpsAOwjw42eM6NEXFPrfXTtdZvRMTbI+LmE8+5OSLeUo+8PyIeUkq5fuSxAgAAAAAAAAAAAAAAAAAAAABwDZs0lXlkRHxm7et7V49t+xwAAAAAAAAAAAAAAAAAAAAAAJKVWuv5TyjleRHxzFrrL66+fkFE3Fhr/eW151yOiNfWWv9p9fXfRMSv1VrvPPFaL4mIl6y+fFxEfGKsX2QED4uIL7YeRMfUN5f65lLffGqcS31zqW8u9c3Vor7fV2t9+MTvyR6QN/ea+uZS31zqm0t9c6lvLvXNpb65ZE26IWvuNfXNp8a51DeX+uZS31zqm0t9c8mbdEPe3Gvqm0t9c6lvLvXNpb651DefGueSN+mGvLnX1DeX+uZS31zqm0t9c6lvLvXNNausuUlTmR+NiFfXWp+5+vpVERG11teuPecPIuLva623rb7+REQ8rdZ63zjjz1dK+UCt9Ymtx9Er9c2lvrnUN58a51LfXOqbS31zqS9Mw2ctl/rmUt9c6ptLfXOpby71zaW+udQXpuGzlkt986lxLvXNpb651DeX+uZS31zqC9PwWculvrnUN5f65lLfXOqbS33zqXEu9YVp+KzlUt9c6ptLfXOpby71zaW+udQ319zqe7DBc+6IiBtKKY8ppXxrRNwSEbefeM7tEfFz5ciPRMSXl9RQBgAAAAAAAAAAAAAAAAAAAACgF4fXekKt9f5Syssj4j0RcV1E3FprvbuU8tLV998YEe+OiOdExD0R8bWIeHHekAEAAAAAAAAAAAAAAAAAAAAAOMs1m8pERNRa3x1HjWPWH3vj2r9rRLxs3KFN7g9bD6Bz6ptLfXOpbz41zqW+udQ3l/rmUl+Yhs9aLvXNpb651DeX+uZS31zqm0t9c6kvTMNnLZf65lPjXOqbS31zqW8u9c2lvrnUF6bhs5ZLfXOpby71zaW+udQ3l/rmU+Nc6gvT8FnLpb651DeX+uZS31zqm0t9c6lvrlnVtxz1gwEAAAAAAAAAAAAAAAAAAAAAoAcHrQcAAAAAAAAAAAAAAAAAAAAAAMB4NJWJiFLKs0opnyil3FNKudh6PEtXSnl0KeXvSikfK6XcXUr5ldXjry6lfLaUctfqz3Naj3WpSilXSikfXtXxA6vHvquU8r5SyidXfz+09TiXqJTyuLVl9K5SyldKKa+w/A5XSrm1lPKFUspH1h47c3ktpbxqtT7+RCnlmW1GvRxn1Pe3SykfL6V8qJTyrlLKQ1aPXyil/M/acvzGdiNfhjPqe+b6wPK7nTPq+4612l4ppdy1etzyu6Vz5mTWwTARWXNcsmY+WTOPrJlD3swlb+aSN3PJm7nkTWhP3hyXvJlP3swjb45P1swla+aSNfPJm3lkTWhP1hyXrDkNeTOPvDk+eTOXvJlL3swla+aSN6E9eXNc8mY+WTOPrDk+WTOfvJlL3swlb+ZZYtYstdap33NWSinXRcS/RcTTI+LeiLgjIp5fa/1o04EtWCnl+oi4vtb6wVLKgyPizoj4yYj4mYj4aq31d5oOsAOllCsR8cRa6xfXHntdRHyp1nppFbIfWmt9Zasx9mC1fvhsRDwpIl4clt9BSilPjYivRsRbaq0/tHrs1OW1lPKDEXFbRNwYEd8TEX8dEY+ttX6z0fBn74z6PiMi/rbWen8p5bciIlb1vRARf3H8PK7tjPq+Ok5ZH1h+t3dafU98//UR8eVa62ssv9s7Z072orAOhnSy5vhkzXyy5jRkzfHIm7nkzVzyZi55M5e8CW3Jm+OTN/PJm9OQN8cha+aSNXPJmvnkzTyyJrQla45P1pyGvDkNeXMc8mYueTOXvJlL1swlb0Jb8ub45M18suY0ZM1xyJr55M1c8mYueTPPErPmwVRvNGM3RsQ9tdZP11q/ERFvj4ibG49p0Wqt99VaP7j6939HxMci4pFtR7UXbo6IN6/+/eY4Wvmwmx+LiE/VWv+j9UCWrNb6jxHxpRMPn7W83hwRb6+1fr3W+u8RcU8crac5w2n1rbW+t9Z6/+rL90fEoyYfWCfOWH7PYvnd0nn1LaWUONqxedukg+rIOXMy62CYhqw5MlmzGVlzfLLmSOTNXPJmLnkzl7yZS96E5uTNkcmbzcib45M3RyBr5pI1c8ma+eTNPLImNCdrjkzWbEreHJ+8OQJ5M5e8mUvezCVr5pI3oTl5c2TyZjOy5vhkzRHImvnkzVzyZi55M88Ss6amMkf/QZ9Z+/reMJEezaoz1RMi4p9XD728lPKhUsqtpZSHNhvY8tWIeG8p5c5SyktWjz2i1npfxNHKKCK+u9no+nFLXL1BtPyO56zl1Tp5fD8fEX+59vVjSin/Wkr5h1LKU1oNqgOnrQ8sv+N6SkR8vtb6ybXHLL8DnZiTWQfDNHymEsmaaWTNaciaucx1piNv5pA388mbI5I3oQmfqUTyZhp5cxryZh7znOnImjlkzWnImyORNaEJn6lEsmYqeXMa8mYec53pyJs55M18suaI5E1owmcqkbyZRtachqyZxzxnWvJmDnkzn7w5kqVkTU1lIsopj9XJR9GhUsp3RMSfRsQraq1fiYg3RMQPRMTjI+K+iHh9w+Et3ZNrrT8cEc+OiJeVUp7aekC9KaV8a0Q8NyL+ZPWQ5Xca1skjKqX8RkTcHxFvXT10X0R8b631CRHxqxHxtlLKd7Ya34KdtT6w/I7r+XH1DiLL70CnzMnOfOopj1mGYTifqSSyZipZM5ms2ZT18ojkzTTy5jTkzZHIm9CMz1QSeTOVvJlM3mzGOnlEsmYaWXM68uYIZE1oxmcqiayZTt5MJm82Y708Inkzjbw5DVlzJPImNOMzlUTeTCVrJpM1m7FOHpm8mUbenIa8OYIlZU1NZY46+Tx67etHRcTnGo2lG6WUb4mjD8Fba61/FhFRa/18rfWbtdb/jYg/iogbW45xyWqtn1v9/YWIeFcc1fLzpZTrIyJWf3+h3Qi78OyI+GCt9fMRlt8EZy2v1skjKaW8MCJ+IiJ+ttZaIyJqrV+vtf7X6t93RsSnIuKx7Ua5TOesDyy/IymlHEbET0fEO44fs/wOc9qcLKyDYSo+UwlkzVyy5iRkzXzmOsnkzTzyZj55czzyJjTlM5VA3swlb05C3sxlnpNM1swja05D3hyHrAlN+UwlkDXzyZuTkDdzmeskkzfzyJv5ZM3xyJvQlM9UAnkzl6w5CVkzl3nOBOTNPPJmPnlzHEvLmprKRNwRETeUUh6z6nB3S0Tc3nhMi1ZKKRHxpoj4WK31d9cev37taT8VER+Zemw9KKV8eynlwcf/johnxFEtb4+IF66e9sKI+PM2I+zGVV3WLL+jO2t5vT0ibimlPKiU8piIuCEi/qXB+BatlPKsiHhlRDy31vq1tccfXkq5bvXv74+j+n66zSiX65z1geV3PD8eER+vtd57/IDld3tnzcnCOhimImuOTNbMJWtORtbMZ66TSN7MJW9OQt4cgbwJzcmbI5M3c8mbk5E3c5nnJJI1c8mak5E3dyRrQnOy5shkzXzy5mTkzVzmOonkzVzy5iRkzRHIm9CcvDkyeTOXrDkZWTOXeU4yeTOXvDkJeXNHS8yah1O+2RzVWu8vpbw8It4TEddFxK211rsbD2vpnhwRL4iID5dS7lo99usR8fxSyuMjokbElYj4pTbDW7xHRMS7jtY3cRgRb6u1/lUp5Y6IeGcp5Rci4j8j4nkNx7hopZRvi4inx9XL6Ossv8OUUm6LiKdFxMNKKfdGxG9GxKU4ZXmttd5dSnlnRHw0Iu6PiJfVWr/ZZOALcUZ9XxURD4qI963WFe+vtb40Ip4aEa8ppdwfEd+MiJfWWr/UZOALcUZ9n3ba+sDyu73T6ltrfVMc7Sy+7cTTLb/bO2tOZh0ME5A1U8iauWTNZLLm+OTNXPJmLnkzl7yZTt6EhuTNFPJmLnkzmbw5Llkzl6yZS9bMJ2+mkjWhIVkzhayZT95MJm+OS97MJW/mkjdzyZrp5E1oSN5MIW/mkjWTyZrjkjXzyZu55M1c8maqxWXNUmud8v0AAAAAAAAAAAAAAAAAAAAAAEh00HoAAAAAAAAAAAAAAAAAAAAAAACMR1MZAAAAAAAAAAAAAAAAAAAAAICOaCoDAAAAAAAAAAAAAAAAAAAAANARTWUAAAAAAAAAAAAAAAAAAAAAADqiqQwAAAAAAAAAAAAAAAAAAAAAQEc0lQEAAAAAAAAAAAAAAAAAAAAA6IimMgAAAAAAAAAAAAAAAAAAAAAAHdFUBgAAAAAAAAAAAAAAAAAAAACgI5rKAAAAAAAAAAAAAAAAAAAAAAB0RFMZAAAAAAAAAAAAAAAAAAAAAICOaCoDAAAAAAAAAAAAAAAAAAAAANARTWUAAAAAAAAAAAAAAAAAAAAAADqiqQwAAAAAAAAAAAAAAAAAAAAAQEc0lQEAAAAAAAAAAAAAAAAAAAAA6IimMgAAAAAAAAAAAAAAAAAAAAAAHdFUBgAAAAAAAAAAAAAAAAAAAACgI5rKAAAAAAAAAAAAAAAAAAAAAAB0RFMZAAAAAAAAAAAAAAAAAAAAAICOaCoDAAAAAAAAAAAAAAAAAAAAANARTWUAAAAAAAAAAAAAAAAAAAAAADqiqQwAAAAAAAAAAAAAAAAAAAAAQEc0lQEAAAAAAAAAAAAAAAAAAAAA6IimMgAAAAAAAAAAAAAAAAAAAAAAHdFUBgAAAAAAAAAAAAAAAAAAAACgI5rKAAAAAAAAAAAAAAAAAAAAAAB0RFMZAAAAAAAAAAAAAAAAAAAAAICOaCoDAAAAAAAAAAAAAAAAAAAAANARTWUAAAAAAAAAAAAAAAAAAAAAADqiqQwAAAAAAAAAAAAAAAAAAAAAQEc0lQEAAAAAAAAAAAAAAAAAAAAA6IimMgAAAAAAAAAAAAAAAAAAAAAAHdFUBgAAAAAAAAAAAAAAAAAAAACgI5rKAAAAAAAAAAAAAAAAAAAAAAB0RFMZAAAAAAAAAAAAAAAAAAAAAICOaCoDAAAAAAAAAAAAAAAAAAAAANARTWUAAAAAAAAAAAAAAAAAAAAAADqiqQwAAAAAAAAAAAAAAAAAAAAAQEc0lQEAAAAAAAAAAAAAAAAAAAAA6IimMgAAAAAAAAAAAAAAAAAAAAAAHdFUBgAAAAAAAAAAAAAAAAAAAACgI5rKAAAAAAAAAAAAAAAAAAAAAAB0RFMZAAAAAAAAAAAAAAAAAAAAAICOaCoDAAAAAAAAAAAAAAAAAAAAANARTWUAAAAAAAAAAAAAAAAAAAAAADqiqQwAAAAAAAAAAAAAAAAAAAAAQEc0lQEAAAAAAAAAAAAAAAAAAAAA6IimMgAAAAAAAAAAAAAAAAAAAAAAHdFUBgAAAAAAAAAAAAAAAAAAAACgI5rKAAAAAAAAAAAAAAAAAAAAAAB0RFMZAAAAAAAAAAAAAAAAAAAAAICOaCoDAAAAAAAAAAAAAAAAAAAAANARTWUAAAAAAAAAAAAAAAAAAAAAADqiqQwAAAAAAAAAAAAAAAAAAAAAQEc0lQEAAAAAAAAAAAAAAAAAAAAA6IimMgAAAAAAAAAAAAAAAAAAAAAAHdFUBgAAAAAAAAAAAAAAAAAAAACgI5rKAAAAAAAAAAAAAAAAAAAAAAB0RFMZAAAAAAAAAAAAAAAAAAAAAICOaCoDAAAAAAAAAAAAAAAAAAAAANARTWUAAAAAAAAAAAAAAAAAAAAAADqiqQwAAAAAAAAAAAAAAAAAAAAAQEc0lQEAAAAAAAAAAAAAAAAAAAAA6IimMgAAAAAAAAAAAAAAAAAAAAAAHdFUBgAAAAAAAAAAAAAAAAAAAACgI5rKAAAAAAAAAAAAAAAAAAAAAAB0RFMZAAAAAAAAAAAAAAAAAAAAAICOaCoDAAAAAAAAAAAAAAAAAAAAANARTWUAAAAAAAAAAAAAAAAAAAAAADqiqQwAAAAAAAAAAAAAAAAAAAAAQEc0lQEAAAAAAAAAAAAAAAAAAAAA6IimMgAAAAAAAAAAAAAAAAAAAAAAHdFUBgAAAAAAAAAAAAAAAAAAAACgI5rKAAAAAAAAAAAAAAAAAAAAAAB0RFMZAAAAAAAAAAAAAAAAAAAAAICOaCoDAAAAAAAAAAAAAAAAAAAAANARTWUAAAAAAAAAAAAAAAAAAAAAADqiqQwAAAAAAAAAAAAAAAAAAAAAQEc0lQEAAAAAAAAAAAAAAAAAAAAA6IimMgAAAAAAAAAAAAAAAAAAAAAAHdFUBgAAAAAAAAAAAAA5WXfGAAAgAElEQVQAAAAAAACgI5rKAAAAAAAAAAAAAAAAAAAAAAB0RFMZAAAAAAAAAAAAAAAAAAAAAICOaCoDAAAAAAAAAAAAAAAAAAAAANARTWUAAAAAAAAAAAAAAAAAAAAAADqiqQwAAAAAAAAAAAAAAAAAAAAAQEc0lQEAAAAAAAAAAAAAAAAAAAAA6IimMgAAAAAAAAAAAAAAAAAAAAAAHdFUBgAAAAAAAAAAAAAAAAAAAACgI5rKAAAAAAAAAAAAAAAAAAAAAAB0RFMZAAAAAAAAAAAAAAAAAAAAAICOaCoDAAAAAAAAAAAAAAAAAAAAANARTWUAAAAAAAAAAAAAAAAAAAAAADqiqQwAAAAAAAAAAAAAAAAAAAAAQEc0lQEAAAAAAAAAAAAAAAAAAAAA6IimMgAAAAAAAAAAAAAAAAAAAAAAHdFUBgAAAAAAAAAAAAAAAAAAAACgI5rKAAAAAAAAAAAAAAAAAAAAAAB0RFMZAAAAAAAAAAAAAAAAAAAAAICOaCoDAAAAAAAAAAAAAAAAAAAAANARTWUAAAAAAAAAAAAAAAAAAAAAADqiqQwAAAAAAAAAAAAAAAAAAAAAQEc0lQEAAAAAAAAAAAAAAAAAAAAA6IimMgAAAAAAAAAAAAAAAAAAAAAAHdFUBgAAAAAAAAAAAAAAAAAAAACgI5rKAAAAAAAAAAAAAAAAAAAAAAB0RFMZAAAAAAAAAAAAAAAAAAAAAICOaCoDAAAAAAAAAAAAAAAAAAAAANARTWUAAAAAAAAAAAAAAAAAAAAAADqiqQwAAAAAAAAA/B879w+i2VmGcfh+kjWV/4odRJPAWAQ1jSKLWAYETWzSmkbYZhEiWLqdhbWNRFxShJBGK4vILthaCc6CGiMIS0SzrOCEgI2FBF+L3WIcx/lm129m4J7rgg++c87LOU/7ND8AAAAAAAAAAAAoIioDAAAAAAAAAAAAAAAAAAAAAFBEVAYAAAAAAAAAAAAAAAAAAAAAoIioDAAAAAAAAAAAAAAAAAAAAABAEVEZAAAAAAAAAAAAAAAAAAAAAIAiojIAAAAAAAAAAAAAAAAAAAAAAEVEZQAAAAAAAAAAAAAAAAAAAAAAiojKAAAAAAAAAAAAAAAAAAAAAAAUEZUBAAAAAAAAAAAAAAAAAAAAACgiKgMAAAAAAAAAAAAAAAAAAAAAUERUBgAAAAAAAAAAAAAAAAAAAACgiKgMAAAAAAAAAAAAAAAAAAAAAEARURkAAAAAAAAAAAAAAAAAAAAAgCKiMgAAAAAAAAAAAAAAAAAAAAAARURlAAAAAAAAAAAAAAAAAAAAAACKiMoAAAAAAAAAAAAAAAAAAAAAABQRlQEAAAAAAAAAAAAAAAAAAAAAKCIqAwAAAAAAAAAAAAAAAAAAAABQRFQGAAAAAAAAAAAAAAAAAAAAAKCIqAwAAAAAAAAAAAAAAAAAAAAAQBFRGQAAAAAAAAAAAAAAAAAAAACAIqIyAAAAAAAAAAAAAAAAAAAAAABFRGUAAAAAAAAAAAAAAAAAAAAAAIqIygAAAAAAAAAAAAAAAAAAAAAAFBGVAQAAAAAAAAAAAAAAAAAAAAAocum8Pnz58uW1u7t7Xp8HAADOwe3bt99ba+2c9xx0s28CAMDFYtfkLNg1AQDg4rFvchbsmwAAcPHYNzkL9k0AALhYjts1zy0qs7u7m729vfP6PAAAcA5m5s/nPQP97JsAAHCx2DU5C3ZNAAC4eOybnAX7JgAAXDz2Tc6CfRMAAC6W43bNx85yEAAAAAAAAAAAAAAAAAAAAAAATpeoDAAAAAAAAAAAAAAAAAAAAABAEVEZAAAAAAAAAAAAAAAAAAAAAIAiojIAAAAAAAAAAAAAAAAAAAAAAEVEZQAAAAAAAAAAAAAAAAAAAAAAiojKAAAAAAAAAAAAAAAAAAAAAAAUEZUBAAAAAAAAAAAAAAAAAAAAACgiKgMAAAAAAAAAAAAAAAAAAAAAUERUBgAAAAAAAAAAAAAAAAAAAACgiKgMAAAAAAAAAAAAAAAAAAAAAEARURkAAAAAAAAAAAAAAAAAAAAAgCKiMgAAAAAAAAAAAAAAAAAAAAAARURlAAAAAAAAAAAAAAAAAAAAAACKiMoAAAAAAAAAAAAAAAAAAAAAABQRlQEAAAAAAAAAAAAAAAAAAAAAKCIqAwAAAAAAAAAAAAAAAAAAAABQRFQGAAAAAAAAAAAAAAAAAAAAAKCIqAwAAAAAAAAAAAAAAAAAAAAAQBFRGQAAAAAAAAAAAAAAAAAAAACAIqIyAAAAAAAAAAAAAAAAAAAAAABFRGUAAAAAAAAAAAAAAAAAAAAAAIqIygAAAAAAAAAAAAAAAAAAAAAAFBGVAQAAAAAAAAAAAAAAAAAAAAAoIioDAAAAAAAAAAAAAAAAAAAAAFBEVAYAAAAAAAAAAAAAAAAAAAAAoIioDAAAAAAAAAAAAAAAAAAAAABAEVEZAAAAAAAAAAAAAAAAAAAAAIAiojIAAAAAAAAAAAAAAAAAAAAAAEVEZQAAAAAAAAAAAAAAAAAAAAAAimyMyszMazPzt5n5/f94PjPzw5m5MzO/m5kvbn9MAAAAAAAAAAAAAAAAAAAAAABOYmNUJsnrSZ4/5vkLSZ558LuW5Mf//1gAAAAAAAAAAAAAAAAAAAAAADyKjVGZtdYvk7x/zJEXk7yx7vtVko/PzCe3NSAAAAAAAAAAAAAAAAAAAAAAACe3MSpzAk8meffA9d0H9wAAAAAAAAAAAAAAAAAAAAAAOGPbiMrMEffWkQdnrs3M3szs7e/vb+HT27F7/WZ2r9887zEAAAB4RPZNAAAAts2uCQAAwGmwbwIAAHAa7JsAAMBRthGVuZvk6QPXTyW5d9TBtdara60ra60rOzs7W/g0AAAA2DcBAADYPrsmAAAAp8G+CQAAwGmwbwIAAEfZRlTmzSTfnPu+nOTva62/buG9AAAAAAAAAAAAAAAAAAAAAAA8pEubDszMT5I8l+TyzNxN8r0kH0qStdaNJLeSfD3JnST/SHL1tIYFAAAAAAAAAAAAAAAAAAAAAOB4G6Mya62XNjxfSV7e2kQAAAAAAAAAAAAAAAAAAAAAADyyx857AAAAAAAAAAAAAAAAAAAAAAAAtkdUBgAAAAAAAAAAAAAAAAAAAACgiKgMAAAAAAAAAAAAAAAAAAAAAEARURkAAAAAAAAAAAAAAAAAAAAAgCKiMgAAAAAAAAAAAAAAAAAAAAAARURlAAAAAAAAAAAAAAAAAAAAAACKiMoAAAAAAAAAAAAAAAAAAAAAABQRlQEAAAAAAAAAAAAAAAAAAAAAKCIqAwAAAAAAAAAAAAAAAAAAAABQRFQGAAAAAAAAAAAAAAAAAAAAAKCIqAwAAAAAAAAAAAAAAAAAAAAAQBFRGQAAAAAAAAAAAAAAAAAAAACAIqIyAAAAAAAAAAAAAAAAAAAAAABFRGUAAAAAAAAAAAAAAAAAAAAAAIqIygAAAAAAAAAAAAAAAAAAAAAAFBGVAQAAAAAAAAAAAAAAAAAAAAAoIioDAAAAAAAAAAAAAAAAAAAAAFBEVAYAAAAAAAAAAAAAAAAAAAAAoIioDAAAAAAAAAAAAAAAAAAAAABAEVEZAAAAAAAAAAAAAAAAAAAAAIAiojIAAAAAAAAAAAAAAAAAAAAAAEVEZQAAAAAAAAAAAAAAAAAAAAAAiojKAAAAAAAAAAAAAAAAAAAAAAAUEZUBAAAAAAAAAAAAAAAAAAAAACgiKgMAAAAAAAAAAAAAAAAAAAAAUERUBgAAAAAAAAAAAAAAAAAAAACgiKgMAAAAAAAAAAAAAAAAAAAAAEARURkAAAAAAAAAAAAAAAAAAAAAgCKiMgAAAAAAAAAAAAAAAAAAAAAARURlAAAAAAAAAAAAAAAAAAAAAACKiMoAAAAAAAAAAAAAAAAAAAAAABQRlQEAAAAAAAAAAAAAAAAAAAAAKCIqAwAAAAAAAAAAAAAAAAAAAABQRFQGAAAAAAAAAAAAAAAAAAAAAKCIqAwAAAAAAAAAAAAAAAAAAAAAQBFRGQAAAAAAAAAAAAAAAAAAAACAIqIyAAAAAAAAAAAAAAAAAAAAAABFRGUAAAAAAAAAAAAAAAAAAAAAAIqIygAAAAAAAAAAAAAAAAAAAAAAFBGVAQAAAAAAAAAAAAAAAAAAAAAoIioDAAAAAAAAAAAAAAAAAAAAAFBEVAYAAAAAAAAAAAAAAAAAAAAAoIioDAAAAAAAAAAAAAAAAAAAAABAEVEZAAAAAAAAAAAAAAAAAAAAAIAiojIAAAAAAAAAAAAAAAAAAAAAAEVEZQAAAAAAAAAAAAAAAAAAAAAAiojKAAAAAAAAAAAAAAAAAAAAAAAUEZUBAAAAAAAAAAAAAAAAAAAAACgiKgMAAAAAAAAAAAAAAAAAAAAAUERUBgAAAAAAAAAAAAAAAAAAAACgiKgMAAAAAAAAAAAAAAAAAAAAAEARURkAAAAAAAAAAAAAAAAAAAAAgCKiMgAAAAAAAAAAAAAAAAAAAAAARURlAAAAAAAAAAAAAAAAAAAAAACKiMoAAAAAAAAAAAAAAAAAAAAAABQRlQEAAAAAAAAAAAAAAAAAAAAAKCIqAwAAAAAAAAAAAAAAAAAAAABQRFQGAAAAAAAAAAAAAAAAAAAAAKCIqAwAAAAAAAAAAAAAAAAAAAAAQBFRGQAAAAAAAAAAAAAAAAAAAACAIqIyAAAAAAAAAAAAAAAAAAAAAABFRGUAAAAAAAAAAAAAAAAAAAAAAIqIygAAAAAAAAAAAAAAAAAAAAAAFBGVAQAAAAAAAAAAAAAAAAAAAAAoIioDAAAAAAAAAAAAAAAAAAAAAFBEVAYAAAAAAAAAAAAAAAAAAAAAoIioDAAAAAAAAAAAAAAAAAAAAABAEVEZAAAAAAAAAAAAAAAAAAAAAIAiojIAAAAAAAAAAAAAAAAAAAAAAEVEZQAAAAAAAAAAAAAAAAAAAAAAiojKAAAAAAAAAAAAAAAAAAAAAAAUEZUBAAAAAAAAAAAAAAAAAAAAACgiKgMAAAAAAAAAAAAAAAAAAAAAUERUBgAAAAAAAAAAAAAAAAAAAACgiKgMAAAAAAAAAAAAAAAAAAAAAEARURkAAAAAAAAAAAAAAAAAAAAAgCKiMgAAAAAAAAAAAAAAAAAAAAAARURlAAAAAAAAAAAAAAAAAAAAAACKiMoAAAAAAAAAAAAAAAAAAAAAABQRlQEAAAAAAAAAAAAAAAAAAAAAKCIqAwAAAAAAAAAAAAAAAAAAAABQRFQGAAAAAAAAAAAAAAAAAAAAAKCIqAwAAAAAAAAAAAAAAAAAAAAAQBFRGQAAAAAAAAAAAAAAAAAAAACAIqIyAAAAAAAAAAAAAAAAAAAAAABFRGUAAAAAAAAAAAAAAAAAAAAAAIqIygAAAAAAAAAAAAAAAAAAAAAAFBGVAQAAAAAAAAAAAAAAAAAAAAAoIioDAAAAAAAAAAAAAAAAAAAAAFBEVAYAAAAAAAAAAAAAAAAAAAAAoIioDAAAAAAAAAAAAAAAAAAAAABAEVEZAAAAAAAAAAAAAAAAAAAAAIAiojIAAAAAAAAAAAAAAAAAAAAAAEVEZQAAAAAAAAAAAAAAAAAAAAAAiojKAAAAAAAAAAAAAAAAAAAAAAAUEZUBAAAAAAAAAAAAAAAAAAAAACgiKgMAAAAAAAAAAAAAAAAAAAAAUERUBgAAAAAAAAAAAAAAAAAAAACgiKgMAAAAAAAAAAAAAAAAAAAAAEARURkAAAAAAAAAAAAAAAAAAAAAgCKiMgAAAAAAAAAAAAAAAAAAAAAARURlAAAAAAAAAAAAAAAAAAAAAACKiMoAAAAAAAAAAAAAAAAAAAAAABQRlQEAAAAAAAAAAAAAAAAAAAAAKCIqAwAAAAAAAAAAAAAAAAAAAABQRFQGAAAAAAAAAAAAAAAAAAAAAKCIqAwAAAAAAAAAAAAAAAAAAAAAQBFRGQAAAAAAAAAAAAAAAAAAAACAY+xev5nd6zfPe4wTE5UBAAAAAAAAAAAAAAAAAAAAACgiKgMAAAAAAAAAAAAAAAAAAAAAUERUBgAAAAAAAAAAAAAAAAAAAACgiKgMAAAAAAAAAAAAAAAAAAAAAEARURkAAAAAAAAAAAAAAAAAAAAAgCKiMgAAAAAAAAAAAAAAAAAAAAAARURlAAAAAAAAAAAAAAAAAAAAAACKiMoAAAAAAAAAAAAAAAAAAAAAABQRlQEAAAAAAAAAAAAAAAAAAAAAKCIqAwAAAAAAAAAAAAAAAAAAAABQRFQGAAAAAAAAAAAAAAAAAAAAAKCIqAwAAAAAAAAAAAAAAAAAAAAAQBFRGQAAAAAAAAAAAAAAAAAAAACAIqIyAAAAAAAAAAAAAAAAAAAAAABFRGUAAAAAAAAAAAAAAAAAAAAAAIqIygAAAAAAAAAAAAAAAAAAAAAAFBGVAQAAAAAAAAAAAAAAAAAAAAAoIioDAAAAAAAAAAAAAAAAAAAAAFBEVAYAAAAAAAAAAAAAAAAAAAAAoIioDAAAAAAAAAAAAAAAAAAAAABAEVEZAAAAAAAAAAAAAAAAAAAAAIAiojIAAAAAAAAAAAAAAAAAAAAAAEVEZQAAAAAAAAAAAAAAAAAAAAAAiojKAAAAAAAAAAAAAAAAAAAAAAAUOVFUZmaen5k/zsydmbl+xPOPzczPZ+a3M/P2zFzd/qgAAAAAAAAAAAAAAAAAAAAAAGyyMSozM48n+VGSF5I8m+SlmXn20LGXk/xhrfX5JM8l+cHMPLHlWQEAAAAAAAAAAAAAAAAAAAAA2GBjVCbJl5LcWWu9s9b6Z5KfJnnx0JmV5CMzM0k+nOT9JB9sdVIAAAAAAAAAAAAAAAAAAAAAADY6SVTmySTvHri+++DeQa8k+VySe0neSvKdtda/tjIhAAAAAAAAAAAAAAAAAAAAAAAndpKozBxxbx26/lqS3yT5VJIvJHllZj76Xy+auTYzezOzt7+//9DDAgAAwFHsmwAAAGybXRMAAIDTYN8EAADgNNg3AQCAo5wkKnM3ydMHrp9Kcu/QmatJfrbuu5PkT0k+e/hFa61X11pX1lpXdnZ2HnVmAAAA+A/2TQAAALbNrgkAAMBpsG8CAABwGuybAADAUU4Slfl1kmdm5tMz80SSbyR589CZvyT5SpLMzCeSfCbJO9scFAAAAAAAAAAAAAAAAAAAAACAzS5tOrDW+mBmvp3kF0keT/LaWuvtmfnWg+c3knw/yesz81aSSfLdtdZ7pzg3AAAAAAAAAAAAAAAAAAAAAABH2BiVSZK11q0ktw7du3Hg/70kX93uaAAAAAAAAAAAAAAAAAAAAAAAPKzHznsAAAAAAAAAAAAAAAAAAAAAAAC2R1QGAAAAAAAAAAAAAAAAAAAAAKCIqAwAAAAAAAAAAAAAAAAAAAAAQBFRGQAAAAAAAAAAAAAAAAAAAACAIqIyAAAAAAAAAAAAAAAAAAAAAABFRGUAAAAAAAAAAAAAAAAAAAAAAIqIygAAAAAAAAAAAAAAAAAAAAAAFBGVAQAAAAAAAAAAAAAAAAAAAAAoIioDAAAAAAAAAAAAAAAAAAAAAFBEVAYAAAAAAAAAAAAAAAAAAAAAoIioDAAAAAAAAAAAAAAAAAAAAABAEVEZAAAAAAAAAAAAAAAAAAAAAIAiojIAAAAAAAAAAAAAAAAAAAAAAEVEZQAAAAAAAAAAAAAAAAAAAAAAiojKAAAAAAAAAAAAAAAAAAAAAAAUEZUBAAAAAAAAAAAAAAAAAAAAACgiKgMAAAAAAAAAAAAAAAAAAAAAUERUBgAAAAAAAAAAAAAAAAAAAACgiKgMAAAAAAAAAAAAAAAAAAAA/2bnDln1LsM4jv+u7WAwaZhFhWNw1eDQJFjEgcEqBqMYfAFP8RUsK0PEbBIUzphNrZsg4hzCMMxhcFaLiLdl4Xh2xnkm53jg5+fT7v9z8XDVq3wBgCKiMgAAAAAAAAAAAAAAAAAAAAAARURlAAAAAAAAAAAAAAAAAAAAAACKiMoAAAAAAAAAAAAAAAAAAAAAABQRlQEAAAAAAAAAAAAAAAAAAAAAKCIqAwAAAAAAAAAAAAAAAAAAAABQRFQGAAAAAAAAAAAAAAAAAAAAAKCIqAwAAAAAAAAAAAAAAAAAAAAAQBFRGQAAAAAAAAAAAAAAAAAAAACAIqIyAAAAAAAAAAAAAAAAAAAAAABFRGUAAAAAAAAAAAAAAAAAAAAAAIqIygAAAAAAAAAAAAAAAAAAAAAAFBGVAQAAAAAAAAAAAAAAAAAAAAAoIioDAAAAAAAAAAAAAAAAAAAAAFBEVAYAAAAAAAAAAAAAAAAAAAAAoIioDAAAAAAAAAAAAAAAAAAAAABAEVEZAAAAAAAAAAAAAAAAAAAAAIAiojIAAAAAAAAAAAAAAAAAAAAAAEVEZQAAAAAAAAAAAAAAAAAAAAAAiojKAAAAAAAAAAAAAAAAAAAAAAAUEZUBAAAAAAAAAAAAAAAAAAAAACgiKgMAAAAAAAAAAAAAAAAAAAAAUERUBgAAAAAAAAAAAAAAAAAAAACgiKgMAAAAAAAAAAAAAAAAAAAAAEARURkAAAAAAAAAAAAAAAAAAAAAgCKiMgAAAAAAAAAAAAAAAAAAAAAARURlAAAAAAAAAAAAAAAAAAAAAACKiMoAAAAAAAAAAAAAAAAAAAAAABQRlQEAAAAAAAAAAAAAAAAAAAAAKCIqAwAAAAAAAAAAAAAAAAAAAABQRFQGAAAAAAAAAAAAAAAAAAAAAKCIqAwAAAAAAAAAAAAAAAAAAAAAQBFRGQAAAAAAAAAAAAAAAAAAAACAIqIyAAAAAAAAAAAAAAAAAAAAAABFRGUAAAAAAAAAAAAAAAAAAAAAAIqIygAAAAAAAAAAAAAAAAAAAAAAFBGVAQAAAAAAAAAAAAAAAAAAAAAoIioDAAAAAAAAAAAAAAAAAAAAAFBEVAYAAAAAAAAAAAAAAAAAAAAAoIioDAAAAAAAAAAAAAAAAAAAAABAEVEZAAAAAAAAAAAAAAAAAAAAAIAiojIAAAAAAAAAAAAAAAAAAAAAAEVEZQAAAAAAAAAAAAAAAAAAAAAAiojKAAAAAAAAAAAAAAAAAAAAAAAUEZUBAAAAAAAAAAAAAAAAAAAAACgiKgMAAAAAAAAAAAAAAAAAAAAAUERUBgAAAAAAAAAAAAAAAAAAAACgiKgMAAAAAAAAAAAAAAAAAAAAAEARURkAAAAAAAAAAAAAAAAAAAAAgCKiMgAAAAAAAAAAAAAAAAAAAAAARURlAAAAAAAAAAAAAAAAAAAAAACKiMoAAAAAAAAAAAAAAAAAAAAAABQRlQEAAAAAAAAAAAAAAAAAAAAAKCIqAwAAAAAAAAAAAAAAAAAAAABQRFQGAAAAAAAAAAAAAAAAAAAAAKCIqAwAAAAAAAAAAAAAAAAAAAAAQBFRGQAAAAAAAAAAAAAAAAAAAACAIqIyAAAAAAAAAAAAAAAAAAAAAABFRGUAAAAAAAAAAAAAAAAAAAAAAIqIygAAAAAAAAAAAAAAAAAAAAAAFBGVAQAAAAAAAAAAAAAAAAAAAAAoIioDAAAAAAAAAAAAAAAAAAAAAFBEVAYAAAAAAAAAAAAAAAAAAAAAoIioDAAAAAAAAAAAAAAAAAAAAABAEVEZAAAAAAAAAAAAAAAAAAAAAIAiojIAAAAAAAAAAAAAAAAAAAAAAEVEZQAAAAAAAAAAAAAAAAAAAAAAiojKAAAAAAAAAAAAAAAAAAAAAAAUEZUBAAAAAAAAAAAAAAAAAAAAACgiKgMAAAAAAAAAAAAAAAAAAAAAUERUBgAAAAAAAAAAAAAAAAAAAACgiKgMAAAAAAAAAAAAAAAAAAAAAEARURkAAAAAAAAAAAAAAAAAAAAAgCKiMgAAAAAAAAAAAAAAAAAAAAAARURlAAAAAAAAAAAAAAAAAAAAAACKiMoAAAAAAAAAAAAAAAAAAAAAABQRlQEAAAAAAAAAAAAAAAAAAAAAKCIqAwAAAAAAAAAAAAAAAAAAAABQRFQGAAAAAAAAAAAAAAAAAAAAAKCIqAwAAAAAAAAAAAAAAAAAAAAAQBFRGQAAAAAAAAAAAAAAAAAAAACAIqIyAAAAAAAAAAAAAAAAAAAAAABFRGUAAAAAAAAAAAAAAAAAAAAAAIqIygAAAAAAAAAAAAAAAAAAAAAAFBGVAQAAAAAAAAAAAAAAAAAAAAAoIioDAAAAAAAAAAAAAAAAAAAAAFBEVAYAAAAAAAAAAAAAAAAAAAAAoIioDAAAAAAAAAAAAAAAAAAAAABAEVEZAAAAAAAAAAAAAAAAAAAAAIAiojIAAAAAAAAAAAAAAAAAAAAAAEVEZQAAAAAAAAAAAAAAAAAAAAAAiojKAAAAAAAAAAAAAAAAAAAAAAAUEZUBAAAAAAAAAAAAAAAAAAAAACgiKgMAAAAAAAAAAAAAAAAAAAAAUERUBgAAAAAAAAAAAAAAAAAAAACgiKgMAAAAAAAAAAAAAAAAAAAAAEARURkAAAAAAAAAAAAAAAAAAAAAgCKiMgAAAAAAAAAAAAAAAAAAAAAARURlAAAAAAAAAAAAAAAAAAAAAACKiMoAAAAAAAAAAAAAAAAAAAAAABQRlQEAAAAAAAAAAAAAAAAAAAAAKCIqAwAAAAAAAAAAAAAAAAAAAABQRFQGAAAAAAAAAAAAAAAAAAAAAKCIqAwAAAAAAAAAAAAAAAAAAAAAQBFRGQAAAAAAAAAAAAAAAAAAAACAIqIyAAAAAAAAAAAAAAAAAAAAAABFRGUAAAAAAAAAAAAAAAAAAAAAAIqIygAAAAAAAAAAAAAAAAAAAAAAFBGVAQAAAAAAAAAAAAAAAAAAAAAoIioDAAAAAAAAAAAAAAAAAAAAAFBEVAYAAAAAAAAAAAAAAAAAAAAAoIioDAAAAAAAAKveZQAAACAASURBVAAAAAAAAAAAAABAEVEZAAAAAAAAAAAAAAAAAAAAAIAiojIAAAAAAAAAAAAAAAAAAAAAAEW2isrMzMWZ+XFmbs3M5gEzL8/MtzNzY2a+Ot41AQAAAAAAAAAAAAAAAAAAAADYxs5RAzNzNsn7SV5JcifJtZn5fK31w76Zx5J8kOTiWuv2zDxxUgsDAAAAAAAAAAAAAAAAAAAAAPBgZ7aYeSHJrbXWT2utP5J8kuT1AzNvJvl0rXU7SdZavx7vmgAAAAAAAAAAAAAAAAAAAAAAbGObqMyTSX7e975z79t+55M8PjNfzsw3M/PWcS0IAAAAAAAAAAAAAAAAAAAAAMD2tonKzCHf1oH3TpLnk7yW5NUk783M+fv+aObtmbk+M9fv3r370MsCAADAYdybAAAAHDe3JgAAACfBvQkAAMBJcG8CAACH2SYqcyfJ0/veTyX55ZCZq2ut39davyX5OslzB/9orfXhWuvCWuvCuXPn/u3OAAAA8A/uTQAAAI6bWxMAAICT4N4EAADgJLg3AQCAw2wTlbmW5NmZeWZmHknyRpLPD8x8luSlmdmZmUeTvJjk5vGuCgAAAAAAAAAAAAAAAAAAAADAUXaOGlhr/Tkz7yb5IsnZJB+vtW7MzDv3fr+81ro5M1eTfJfkryQfrbW+P8nFAQAAAAAAAAAAAAAAAAAAAAC435FRmSRZa11JcuXAt8sH3peSXDq+1QAAAAAAAAAAAAAAAAAAAAAAeFhnTnsBAAAAAAAAAAAAAAAAAAAAAACOj6gMAAAAAAAAAAAAAAAAAAAAAEARURkAAAAAAAAAAAAAAAAAAAAAgCKiMgAAAAAAAAAAAAAAAAAAAAAARURlAAAAAAAAAAAAAAAAAAAAAACKiMoAAAAAAAAAAAAAAAAAAAAAABQRlQEAAAAAAAAAAAAAAAAAAAAAKCIqAwAAAAAAAAAAAAAAAAAAAABQRFQGAAAAAAAAAAAAAAAAAAAAAKCIqAwAAAAAAAAAAAAAAAAAAAAAQBFRGQAAAAAAAAAAAAAAAAAAAACAIqIyAAAAAAAAAAAAAAAAAAAAAABFRGUAAAAAAAAAAAAAAAAAAAAAAIqIygAAAAAAAAAAAAAAAAAAAAAAFBGVAQAAAAAAAAAAAAAAAAAAAAAoIioDAAAAAAAAAAAAAAAAAAAAAFBEVAYAAAAAAAAAAAAAAAAAAAAAoIioDAAAAAAAAAAAAAAAAAAAAABAEVEZAAAAAAAAAAAAAAAAAAAAAIAiojIAAAAAAABsZXezl93N3mmvAQAAAAAAAAAAAAAcQVQGAAAAAAAAAAAAAAAAAAAAAKCIqAwAAAAAAAAAAAAAAAAAAAAAQBFRGQAAAAAAAAAAAAAAAAAAAACAIqIyAAAAAAAAAAAAAAAAAAAAAABFRGUAAAAAAAAAAAAAAAAAAAAAAIqIygAAAAAAAAAAAAAAAAAAAAAAFBGVAQAAAAAAAAAAAAAAAAAAAAAoIioDAAAAAAAAAAAAAAAAAAAAAFBEVAYAAAAAAAAAAAAAAAAAAAAAoIioDAAAAAAAAAAAAAAAAAAAAABAEVEZAAAAAAAAAAAAAAAAAAAAAIAiojIAAAAAAAAAAAAAAAAAAAAAAEVEZQAAAAAAAAAAAAAAAAAAAAAAiojKAAAAAAAAAAAAAAAAAAAAAAAUEZUBAAAAAAAAAAAAAAAAAAAAACgiKgMAAAAAAAAAAAAAAAAAAAAAUERUBgAAAAAAAAAAAAAAAAAAAACgiKgMAAAAAAAAAAAAAAAAAAAAAEARURkAAAAAAAAAAAAAAAAAAAAAgCKiMgAAAAAAAAAAAAAAAAAAAAAARURlAAAAAAAAAAAAAAAAAAAAAACKiMoAAAAAAAAAAAAAAAAAAAAAABQRlQEAAAAAAAAAAAAAAAAAAAAAKCIqAwAAAAAAAAAAAAAAAAAAAABQRFQGAAAAAAAAAAAAAAAAAAAAAKCIqAwAAAAAAAAAAAAAAAAAAAAAQBFRGQAAAAAAAAAAAAAAAAAAAACAIqIyAAAAAAAAAAAAAAAAAAAAAABFRGUAAAAAAAAAAAAAAAAAAAAAAIqIygAAAAAAAAAAAAAAAAAAAAAAFBGVAQAAAAAAAAAAAAAAAAAAAAAoIioDAAAAAAAAAAAAnJrdzV52N3unvQYAAAAAAABAFVEZAAAAAAAAAAAAAAAAAAAAAIAiojIAAAAAAAAAAAAAAAAAAAAAAEVEZQAAAAAAAAAAAAAAAAAAAAAAiojKAAAAAAAAAAAAAAAAAAAAAAAUEZUBAAAAAAAAAAAAAAAAAAAAACgiKgMAAAAAAAAAAAAAAAAAAAAAUERUBgAAAAAAAAAAAAAAAAAAAACgiKgMAAAAAAAAAAAAAAAAAAAAAEARURkAAAAAAAAAAAAAAAAAAAAAgCKiMgAAAAAAAAAAAAAAAAAAAAAARURlAAAAAAAAAAAAAAAAAAAAAACKiMoAAAAAAAAAAAAAAAAAAAAAABQRlQEAAAAAAAAAAAAAAAAAAAAAKCIqAwAAAAAAAAAAAAAAAAAAAABQRFQGAABK7W72srvZO+01AAAAAAAAAAAAAAAAAAD4j4nKAAAAAAAAAAAAAAAAAAAAAAAUEZUBAAAAAAAAAAAAAAAAAAAAACgiKgMAAAAAAAAAAAAAAAAAAAAAUERUBgAAAAAAAAAAAAAAAAAAAACgiKgMAAAAAAAAAAAAAAAAAAAAAEARURkAAAAAAAAAAAAAAAAAAAAAgCKiMgAAAAAAAAAAAAAAAAAAAAAARURlAAAAAAAAAAAAAAAAAAAAAACKiMoAAAAAAAAAAAAAAAAAAAAAABQRlQEAAAAAAAAAAAAAAAAAAAAAKCIqAwAAAAAAAAAAAAAAAAAAAABQRFQGAAAAAAAAAAAAAAAAAAAAAKCIqAwAAAAAAAAAAAAAAAAAAAAAQBFRGQAAAAAAAAAAAAAAAAAATszuZi+7m73TXgMAAP5XRGUAAAAAAAAAAAAAAAAAAAAAAIqIygAAAAAAAAAAAAAAAAAAAAAAFBGVAQAAAAAAAAAAAAAAAAAAAAAoIioDAAAAAAAAAAAAAAAAAAAAAFBEVAYAAAAAAAAAAAAAAAAAAAAAoIioDAAAAAAAAAAAAAAAAAAAAABAEVEZAAAAAAAAAAAAAAAAAAAAAIAiojIAAAAAAAAAAAAAAAAAAAAAAEVEZQAAAAAAAAAAAAAAAAAAAAAAiojKAAAAAAAAAAAAAAAAAAAAAAAUEZUBAAAAAAAAAAAAAAAAAAAAACgiKgMAAAAAAAAAAAAAAAAAAAAAUERUBgAAAAAAAAAAAAAAAAAAAACgiKgMAAAAAAAAAAAAAAAAAAAAAEARURkAAAAAAAAAAAAAAAAAAAAAgCKiMgAAAAAAAAAAAAAAAAAAAAAARURlAAAAAAAAAAAAAAAAAAAAAACKiMoAAAAAAAAAAAAAAAAAAAAAABQRlQEAAAAAAAAAAAAAAAAAAAAAKCIqAwAAAAAAAAAAAAAAAAAAAABQRFQGAAAAAAAAAAAAAAAAAAAAAKCIqAwAAAAAAAAAAAAAAAAAAAAAQBFRGQAAAAAAAAAAAAAAAAAAAACAIqIyAAAAAAAAAAAAAAAAAAAAAABFRGUAAAAAAAAAAAAAAAAAAAAAAIqIygAA8Dd7d+xy113HcfzzTYL/gGZqK6dDlwx1iV3FrTVDERxaRRAspUOdeyYXl7i5VEKR4thFEfGk5B8oQjMJHSqhBho7GMS9pPwcjOEx3j7PTXOfnHu/z+sFgXPOPVw+Q5bfQ553AAAAAAAAAAAAAAAAAACARkRlAAAAAAAAAAAAAAAAAAAAAAAaEZUBAAAAAAAAAAAAAAAAAAAAAGhEVAYAAAAAAAAAAAAAAAAAAAAAoBFRGQAAAAAAAAAAAAAAAAAAAACARkRlAAAAAAAAAAAAAAAAAAAAAAAaEZUBAAAAAAAAAAAAAAAAAAAAAGhEVAYAAAAAAAAAAAAAAAAAAAAAoBFRGQAAAAAAAAAAAAAAAAAAAACARkRlAAAAAAAAAAAAAAAAAAAAAAAaEZUBAAAAAAAAAAAAAAAAAAAAAGhEVAYAAAAAAAAAAAAAAAAAAAAAoBFRGQAAAAAAAAAAAAAAAAAAAACARkRlAAAAAAAAAAAAAAAAAAAAAAAaEZUBAAAAAAAAAAAAAAAAAAAAAGhEVAYAAACegGleMs3L2jMAAAAAAAAAAAAAAAAAOANEZQAAAAAAAAAAAAAAAABoxX8GBwAAwFknKgMAAAAAAAAAAAAAAAAAAAAA0IioDAAAAAAAAAAAAAAAAAAAAABAI6IyAAAAAAAAAAAAAAAAAAAAAACNiMoAAAAAAAAAAAAAAAAAAAAAADQiKgMAAAAAAAAAAAAAAAAAAAAA0IioDAAAAAAAAAAAAAAAAAAAAABAI6IyAAAAAAAAAAAAAAAAAAAAAACNiMoAAAAAAAAAAAAAAAAAAAAAADQiKgMAAAAAAAAAAAAAAAAAAAAA0IioDAAAAAAAAAAAAAAAAAAAAABAI1tFZarqxar6uKpuVdV8zHvfrqovquoHu5sIAAAAAAAAAAAAAAAAAAAAAMC2TozKVNX5JG8neSnJpSSvVtWlL3nvl0lu7HokAAAAAAAAAAAAAAAAAAAAAADbOTEqk+SFJLfGGJ+MMT5P8l6Slze897Mkv0vyjx3uAwAAAAAAAAAAAAAAAAAAAADgEWwTlXkqyadH7u/cf/ZAVT2V5PtJrh33RVX1elXdrKqbd+/efdStAAAAsJHzJgAAALvmrAkAAMBpcN4EAADgNDhvAgAAm2wTlakNz8ZD979K8tYY44vjvmiM8c4Y4/IY4/LFixe33QgAAADHct4EAABg15w1AQAAOA3OmwAAAJwG500AAGCTC1u8cyfJM0fun07y2UPvXE7yXlUlyTeSfK+q7o0x/rCTlQAAAAAAAAAAAAAAAAAAAAAAbGWbqMyHSZ6rqmeT/D3JK0l+ePSFMcaz/72uqt8m+ZOgDAAAAAAAwOGb5iVJcvvqlZWXAAAAAAAAAAAAAMCTdcj/lvbEqMwY415VvZnkRpLzSd4dY3xUVW/c//zaKW8EAAAAAAAAAAAAAAAAAAAAAGBLJ0ZlkmSMcT3J9YeebYzJjDF+8vizAAAAAAAAAAAAAAAAAAAAAAD4Ks6tPQAAAAAAAAAAAAAAAAAAAAAAgN0RlQEAAAAAAAAAAAAAAAAAAAAAaERUBgAAAAAAAAAAAAAAAAAAAACgEVEZAAAAAAAAAAAAAAAAAAAAAIBGRGUAAAAAAAAAAAAAAAAAAAAAABoRlQEAAAAAAAAAAAAAAAAAAAAAaERUBgAAAAAAAAAAAAAAAAAAAACgEVEZAAAAAAAAAAAAAAAAAAAAAIBGRGUAAAAAAAAAAAAAAAAAAAAAABoRlQEAAAAAAAAAAAAAAAAAAAAAaERUBgAAAAAAAAAAAAAAAAAAAACgEVEZAAAAAAAAAAAAAAAAAAAAAIBGRGU2mOYl07ysPQMAAAAAAAAAAAAAAAAAAAAA4JGJygAAAAAAAAAAAAAAAAAAAAAANCIqAwAAAAAAAAAAAAAAAAAAAADQiKgMAAAAAAAAAAAAAAAAAAAAAEAjojIAAAAAAAAAAAAAAAAAAAAAAI2IygAAAAAAAAAAAAAAAAAAAAAANCIqAwAAAAAAAAAAAAAAAAAAAADQiKgMAAAAAAAAAAAAAAAAAAAAAEAjojIAAAAAAAAAAAAAAAAAAAAAAI2IygAAAAAAAAAAAAAAAAAAAAAANCIqAwAAAAAAAAAAAAAAAAAAAADQiKgMAAAAAAAAAAAAAAAAAAAAAEAjojIAAAAAAAA8MM1LpnlZewYAAAAAAAAAAAAA8BhEZQAAAAAAAAAAAAAAAAAAAAAAGhGVAQAAAAAAAAAAAAAAAAAAAADOvGleMs3L2jN2QlQGAAAAAAAAAAAAAAAAAAAAAKARURkAAAAAAAAAAAAAAAAAAAAAgEZEZQAAAAAAAAAAAAAAAAAAAAAAGhGVAQAAAAAAAAAAAAAAAAAAAABoRFQGAAAAAAAAAAAAAAAAAAAAAKARURkAAAAAAAAAAAAAAAAAAAAAgEZEZQAAAAAAAAAAAAAAAAAAAAAAGhGVAQAAAAAAAAAAAAAAAAAAAABoRFQGAAAAAAAAAAAAAAAAAAAAAKARURkAAAAAAAAAAAAAAAAAAAAAgEZEZQAAAAAAAM64aV4yzcvaMwAAAAAAAAAAAACAHRGVAQAAAAAAAAAAAAAAAAAAAABoRFQGAAAAVjDNS6Z5WXsGAAAAAAAAAAAAAAAAAA2JygAAAAAAAAAAAAAAAAAAAAAANCIqAwAAAAAAAAAAAAAAAAAAAADQiKgMAAAAAAAAAAAAAAAAAAAAAEAjojIAAAAAAAAAAAAAAAAAAAAAAI2IygAAAAAAAAAAAAAAAAAAAAAANCIqAwAAAAAAAAAAAAAAAAAAAADQiKgMAAAAAAAAAAAAAAAAAAAAAEAjojIAAAAAAAAAAAAAAAAAAAAAAI2IygAAAAAAAAAAAAAAAAAAAAAANCIqAwAAAAAAAAAAAAAAAAAAAADQiKgMAAAAAAAAAAAAAAAAAAAAAEAjojIAAAAAAAAAAAAAAAAAAAAAAI2IygAAAAAAAAAAAAAAAAAAAAAANCIqAwAAAAAAAAAAAAAAAAAAAADQiKgMAAAAAAAAAAAAAAAAAAAAAEAjojIAAAAAAAAAAAAAAAAAAAAAAI2IygAAQBPTvGSal7VnAAAAAAAAAAAAAAAAAACwMlGZE/jFXAAAAAAAAAAAAAAAAAAAAADgkIjKAAAAAAAAAAAAAAAAAAAAAAA0IioDAAAAAAAAAAAAAAAAAAAAANCIqAwAAAAAAAAAAAAAAAAAAAAAQCOiMgAAAAAAAAAAAAAAAAAAAAAAjYjKAAAAAAAAAAAAAAAAAAAAAAA0IioDAAAAK5vmJdO8rD0DAAAAAAAAAAAAAAAAgCZEZQAAAAAAAAAAAAAAAAAAAAAAGhGVAQAAAAAAAAAAAAAAAAAAAABoRFQGAAAAAAAAAAAAAAAAAAAAAKARURkAAAAAAAAAAAAAAAAAAAAAgEZEZQAAAAAAAAAAAAAAAAAAAAAAGhGVAQAAAAAAAAAAAAAAAAAAAABoRFQGAAAAAAAAAAAAAAAAAAAAADiTpnnJNC9rz9g5URkAAAAAAAAAAAAAAAAAAJ6Yrr+0CwAA+0RUBgAAAAAAAAAAAAAAAAAAAACgEVEZAAAAAAAAAAAAAAAAAAAAAIBGRGUAAAAAAAAAAAAAAAAAAAAAABoRlQEAAAAAAAAAAAAAAAAAAAAAaERUBgAAAAAAAAAAAAAAAAAAAACgEVEZAAAAAAAAAAAAAAAAAAAAAIBGRGUAAAAAAAAAAAAAAAAAAAAAABoRlQEAAAAAAAAAAAAAAAAAAAAAaERUBgAAAAAAAAAAAAAAAAAAAACgEVEZAAAAAAAAAAAAAAAAAAAAAIBGRGUAAAAAAAAAAAAAAAAAAAAAABoRlQEAAAAAAAAAAAAAAAAAAAAAaOTC2gMAAAAAAAAAAAAAgP0wzcuD69tXr6y4BAAAAAAAgMdxbu0BAAAAAAAAAAAAAAAAAAAAAADsjqgMAAAAAAAAAAAAAAAAAAAAAEAjojIAAAAAAAAAAAAAAAAAAAAAAI2IygAAAAAAAAAAAAAAAAAAAAAANCIqAwAAAAAAAAAAAAAAAAAAAADQiKgMAAAAAAAAAAAAAAAAAAAAAEAjojIAAAAAAAAAAAAAAAAAAAAAAI2IygAAAAAAAAAAAAAAAAAAAAAANCIqAwAAAAAAAAAAAAAAAAAAAADQiKgMAAAAAAAAwIGa5iXTvKw9AwAAAAAAAAAAANgzojIAAAAAAAAAAAAAAAAAAAAAAI2IygAAAAAAAAAAAAAAAAAAAAAANCIqAwAAAAAAAAAAAAAAAAAAAADQiKgMAAAAAAAAAAAAAAAAAAAAAEAjojIAAAAAAAAAAAAAAAAAAAAAAI2IygAAAAAAAAAAAAAAAAAAAAAANCIqAwAAAAAAAAAAAAAAAAAAAADQiKgMAAAAAAAAAAAAAAAAAAAAAEAjojIAAAAAAAAAAAAAAAAAAAAAAI2IygAAAAAAAAAAAAAAAAAAAAAANCIqAwAAAAAAAAAAAAAAAAAAAADQiKgMAAAAAAAAAAAAAAAAAAAAAEAjojIAAHDApnnJNC9rzwAAAAAAAAAAAAAAAAAAYI+IygAAAAAAAAAAAAAAAAAAAAAANCIqAwAAAAAAAAAAAAAAAAAAAADQiKgMAAAA7JlpXjLNy9ozAAAAAAAAAAAAAAAAADhQojIAAAAAAAAAAAAAAAAAAAAAAI2IygAAAAAAAAAAAAAAAAAAAAAANCIqAwAAAAAAAAAAAAAAAAAAAADQiKgMAAAAAAAAAAAAAAAAAAAAAEAjojIAAAAAAAAAAAAAAAAAAAAAAI2IygAAAAAAAAAAAAAAAAAAAAAANCIqAwAAAAAAAAAAAAAAAAAAAADQiKgMAAAAAAAAAAAAAAAAAAAAAEAjojIAAAAAAAAAAAAAAAAAAAAAAI2IygAAAAAAAAAAAAAAAAAAAAAANCIqAwAAAAAAAAAAAAAAAAAAAADQyIW1BwAAAAAAAAAAAABnxzQvD65vX72y4hIAAAAAAACAvs6tPQAAAAAAAAAAAAAAAAAAAAAAgN0RlQEAAAAAAAAAAAAAAAAAAAAAaERUBgAAAAAAAAAAAAAAAAAAAACgEVEZAAAAAAAAAAAAAAAAAAAAAIBGRGUAAOCATPOSaV7WngEAAAAAAAAAAAAAAAAAwB4TlQEAAAAAAAAAAAAAAAAAAAAAaERUBgAAAAAAAAAAAAAAAAAAAACgEVEZAAAAAAAAAAAAAAAAAAAAAIBGRGUAAAAAAAAAAAAAAAAAAAAAABrZKipTVS9W1cdVdauq5g2f/6iq/nL/zwdV9a3dTwUAAAAAAAAAAAAAAAAAoJNpXjLNy9ozAACgnROjMlV1PsnbSV5KcinJq1V16aHX/pbkO2OM55P8Isk7ux4KAAAAAAAAAAAAAAAAAAAAAMDJTozKJHkhya0xxidjjM+TvJfk5aMvjDE+GGP86/7tn5M8vduZAAAAAAAAAAAAAAAAAAAAAABsY5uozFNJPj1yf+f+sy/z0yTvP86ofTbNS6Z5WXsGAAAAAAAAAAAAAAAAAAAAAMBG20RlasOzsfHFqu/mP1GZt77k89er6mZV3bx79+72KwEAAOAYzpsAAADsmrMmAAAAp8F5EwAAgNPgvAkAAGyyTVTmTpJnjtw/neSzh1+qqueT/CbJy2OMf276ojHGO2OMy2OMyxcvXvwqewEAAOD/OG8CAACwa86aAAAAnAbnTQAAAE6D8yYAALDJNlGZD5M8V1XPVtXXkryS5I9HX6iqbyb5fZIfjzH+uvuZAAAAAAAAAAAAAAAAAAAAAABs48JJL4wx7lXVm0luJDmf5N0xxkdV9cb9z68l+XmSryf5dVUlyb0xxuXTmw0AAAAAAAAAAAAAAAAAAAAA8GimeUmS3L56ZeUlp+vEqEySjDGuJ7n+0LNrR65fS/Labqftv7PylwQAAAAAAAAAAAAAAAAAAAAAOBzn1h4AAAAAAAAAAAAAAAAAAAAAAMDuiMoAAAAAAAAAAAAAAAAAAAAAADQiKgMAAAB7bJqXTPOy9gwAAAAAAAAAAAAAAAAADoioDAAAAAAAAAAAAAAAAAAAAABAI6IyAAAAAAAAAAAAAAAAAAAAAACNiMoAAAAAAAAAAAAAAAAAcNCmeck0L2vPAAAAgL0hKgMAAAAAAAAAAAAAAAAAAAAA0IioDAAAAAAAAAAAAAAAAAAAAABAI6IyAAAAAAAAAAAAAAAAAAAAAACNiMoAAAAAAAAAAAAAAAAAAAAAADQiKgMAAAAAAAAAAAAAAAAAAAAA0IioDAAAAAAAAAAAAAAAAAAAAABAI6IyAAAAAAAAAAAAAAAAAAAAAACNiMoAAAAAAAAAAAAAAAAAAAAAADQiKgMAAAAAAAAAAAAAAAAAAAAA0MiFtQcAAAAAAAAAAAAAAAAAAAAAAJyGaV4eXN++emXFJU/WubUHAAAAx5vm5X8OLAAAAAAAAAAAAAAAAAAAcBxRGQAAAAAAgDNGwBQAAACAbflZEgAAAAAAwGESlQEAAAAAAAAAAAAAAAAAAAAAaERUBgAAAAAAAAAAAAAAAAAAAACgEVEZAAAAAAAAAAAAAAAAAAAAAIBGRGUAAADggEzzkmle1p4BAAAAAAAAAAAAAAAAwB4TlQEAAAAAAAAAAAAAAAAAAAAAaERUBgAAAAAAAAAAAAAAAACAvTDNS6Z5WXsGAAAcPFEZAAAAAAAAAAAAAAAAAAAAAIBGRGUAAAAAAAAAAAAAAAAAAAAAABoRlQEAAAAAAAAAAAAAAAAAAAAAaERUBgAAAAAAAAAAAAAAAAAAAACgEVGZHZrmJdO8rD0DAAAAAAAAAAAAAAAAAAAAADjDRGUAAAAAAAAAAAAAAAAAAAAAABq5sPYAAAAA4KuZ5uXB9e2rV1ZcAgAAAAAAAAAAAAAAAMA+Obf2AAAAAAAAAAAAAAAAAAAAAAAAdkdUBgAAAAAAAAAAAAAAAAAAAACgEVEZAAAAAAAAAAAAAAAAAAAAAIBGRGUAAAAAAAAAAAAAAAAAAAAAABoRlQEAAAAAAAAAAAAAAAAAAAAAaERUBgAAAAAAAAAAAAAAAAAAAACgEVEZAAAAAAAAAAAAAAAAAAD23jQvmeZl7RkAAHAQRGUAAAAAAAAAAAAAAAAAAAAAABoRlQEAAAAAAAAAAAAAAAAAYO9M85JpXtaeAQAAB0lUBgAA9owfegMAAAAAAAAAAAAAAAAA8DhEZQAAAAAAAM4AEVMAAAAAAAAAAAAAODtEZQAAAAAAAAAAAAAAlEQWVQAAHRxJREFUAAAAAAAAGhGVAQAAAAAAAAAAAAAAAAAAAABoRFQGAAAAAAAAAAD+3d69xciWlXUA/1ZPC4mKAQOSEdAezUBCfABDRg2BkCjXYxg1wQwxCKhBEjASH6TRBwkvHFFMfDDghUkggQGMEic2CniPDygXCXdkwKMMTCBIAhIMZHD50NVQp+lLXda31967fr9kMt3V1VWrv7Nr7fWvvfdXAAAAAAAAAAAwI5rK7IiDw6M4ODzqPQwAAAAAAAAAAAAAAAAAAAAAIJmmMgAAAAAAAAAAAAAAAACMng/eBgAAgNVpKgMAAAAAAAAAAAAAAAAAAAAAzIbGpJrKAAAAAAAAAAAAAAAAAAAAAADMyn7vAQAAAAAAAAAAAAAA03DyiZ7Xrl7pPBIAAHbd8qfNW58CAADAt9rrPQAAAAAAAAAAAAAAAAAAAAAAgHUcHB5d13SU62kqAwAAAAAAAAAAAAAAAAAAAAAwI5rKAAAAAAAAAAAAAAAAAAAAAADMyH7vAQAAwBgcHB5FRMS1q1c6jwSgjZN5LcLcBgAAAAAAAAAAAAAAALBr9noPAAAAAAAAAAAAAAAAAAAAAACAdvZ7DwAAAAAAAACA7R0cHn3j62tXr3QcCQAAAAAAAAAAANCbpjIAAAAAAAAAAAAAAAAAAEzKyQdv+NANAAAifDDbWfZ6DwAAAAAAAAAAAAAAAAAAAAAAgHb2ew8AAAB60HESAAAAAAAAAAAAAAAAAGA6XBu6nr3eAwAAAAAAAAAAAAAAAAAAAAAAoB1NZQAAAAAAAAAAAAAAAAAAAAAAZkRTGQAAAAAAgJk4ODyKg8Oj3sMAAAAAAAAAAAAAADrTVAYAAAAAAAAAAAAAAAAAAAAAYEY0lZkpn0QKAAAAAAC7zbECAAAAAAAAAAAAANhdmsoAAADATFx00bALigEAAAAAgJ4cqwAAAAAgm/egAADgeprKAAAAAAAAAAAAAAAAAAAAAADMiKYyAAAAAAAAAAAAAAAAAAAAAAAzoqkMAAAAAAAAAAAAAAAAAAAAAMCMaCozcgeHR3FweNR7GAAAAAAAAAAAAAAAAAAAAADARGgqAwAAAAAAAAAAAAAAAAAAAAAwI5rKAAAAAAAAAAAAAAAAAAAwGweHR3FweNR7GAAA0JWmMjtIGAIAAEA2BAAAAAAAAAAAAAAAAJiv/d4DAAAAAAAAAAAAAAAAAIDTlj887drVKx1HAgAAANOz13sAAAAAAAAAAAAAAAAAABBx3EhmuZkMAAAAsBlNZQAAAAAAAAAAAAAAAAAAAAAAZmS/9wB2xUl33GtXr2z9GNs+DgAAAAAAMA8tjj8AAAAAAAAA9OS4JwAAAOTY6z0AAAAAAAAAVndweHRdI3oAAAAAAAAAAAAAgNM0lUnihG4AANZh/QgAAAAAAAAAAAAAADmcsw8AwC7SVAYAAAAAAAAAAAAAAAAAAAAAYEY0lQEAYLZOdxIforO47uUAAAAAAAAAwK5wngQAAAAAAMB4aSoDAAAAAAAAAAAAAAAAAAAAADAj+70HwPWWP63h2tUrHUcCAECmk3WfNR8wBuYkAAAAAAAAAAAAANica0MBABijvd4DAACAKTs4PLruzV8AAAAAAAAAAAAAAAAAAOhtv/cAAACgpZMGL9t09tYhHAAAAIA5aPFeGQAAAAAAAAAAADBNe70HAAAAu+Lg8Oi6hjUAAAAAAAAAAAAAAMA0uUYAAGAY1l2b01QGAAAAAAAAAAAAAAAAgMG4IBDoyRwEAMCu0FQGAAAAAAAAAAAAAAAAAAAAAGBGNJWZEd0xAQAAAABgmk6/x+89fwAAAAAAAAAAAABgG5rKTJgTygEAAAAAAAAAAAAAAAAAAACA0/Z7DwAAAKZkuanftatXOo4EAAAAAAAAAAAAAAAAAGBeTq7jdA3n9vZ6D4BxOTg8uu5CaQAANmdtBQAAAAAAAADsKudNAAAAAAAA9KWpDA7aAQBcwnoJAAAAAAAAYD2OswIAAAAwRd7XAgBgTjSVAQAAAAAAAAAAAAAAAAAAAACYEU1lOphSp8opjRUAAIB8ciIAAAAAAAAAAAAAu8h5tAAATI2mMgAAAAAAACPmhCQAAAAApsJ7WQAAAHBMRgYAYAz2ew+A+EYwuHb1SueRAAAAwOrkWQCAiy2fGGTNBAAAAAAAAAAwTs6JBQDYnLXUuO31HgDToTMmAAAAAAAAAAAAAAAAsC7XJQEAAMDwNJUBAGDSHGACAAAAAAAAAAAAAAAyuGYBAIAp01SGjQlDAAAAAACwOu+rAwAAAAAAAHPmmCgAAACbkilz7PceAAAAAAAAAAC5lg+2X7t6peNIAAAAAAAAAAAAgCFoKgMAAAA0d3KxogsVAYC5O92kYZ11kDUTAAAAAAAAAAAAAHPi/Nhx2es9AAAAAGC8Dg6PrrtQGgAAAAAAAGATy8ceHYcEAAAAAADIp6kMKRzsAwDWZf0AAAAAAAAAAAAAAAAAAABtaCoDAAAANLFqgzCNxAAAAAAAAAAAAObhovPBnCsGAAAAfe33HgAAAAAwLicH8a9dvTLqxwQAAAAAAAAAAACAsVtusOVcWgBgDja9Tmj591xrNIy93gMAAICz+GQCAAAAAMjj/TcAADJYZwIAAAAAAMD8bHoc0PHD/vZ7D4B50AUKABiStQfA7jDnAwBj4NOiAAAAAAAAAAAAAICp2es9AHbbRZ2ldJ0CgPk5vX+3vwcAAGCK5FkAAAAAAAAAADI4LwUAgJY0lQEAAAAAAAAAAAAAunHBHADAdFi7AWzPB/YCAEOy1thtmsqQTsABAABgVTIjAAAAAAAAAADA8Jy7BQAAwDI5cR72ew8AVnUy4Vy7emWtnwEA+eyLAdiG/QgA0NLptYW1BsDllg/8my8BAAAAAGA3OJYKMC/mdQBgW9YT86SpDLPjpFcAAAAAAAAAAAAAAAAAYM5c+A0AwGX2eg8Alh0cHl3XFAYA6GfT/bL9OQAAAFOxnGHlWQAAAACYHu/rAQDksM4C4Cz2DwAwP/bv87ffewAAAHAZ3bMBiLA/AAC2Zz0BAAAA21vO17I2MDTzDgBAH9ZhAP1sOgdf9HvmdQCYnuXGL5ftw+3rWbbXewAAAPSzThfJTTtO6lQJQBb7GAAgk7UGwPpOz53mUgCA/qzJAAAAAGA+hr6uw/uLANCXfTEt7PceAGTTSQsAvumibpQ6VQIAAAAAWbynCACQx1oL4Jj5EAAAANZ3Ok/L1wAA86KpDDvl9MXyAg4AAADL5EQAyGd/CzB+Q8zV9gcAAJuzlgJ2jXkPAKAdaysAAIDxOt0LYZX7yndcRlMZJmmdCREAAAAAAADI0eLkBCc4AAAMw7oLAAAAAAAAdptjhrtnr/cAAAAAALZ1cHh0XQPS098DAADQhrwFADBu66zXrO2AsWo1P5nnAAAAII/cDQBteE+cbJrKAAAAAAAAW8k4EHXRY2ooBzAs8ywAwPzJ2sAuMwcCAFO0vGaxfgFg7OyrAJiLFvs0+0WGtt97ADBFJxP1tatXOo8EAACAdS1nuuU34s7KeJvmP7kRgF236r7w9P3sQwEAAACAObjsOCQAQCbHXQHozb4IgCmx32LuNJWBJS0uFrTjAGBs7JsA2HVDnLBpfwsA52u1n7S/BQAAYO5kX4DxWedYo3kcAFiX85oA2EUX7f80aQVgSuQtpkJTGUim4QwAQ/MmGgAMo0XGkxMBAAC+1arH12QqAGDq1lnr9Fz7WHcBczCmeRUA2C2nz+u1DgFgrobexzmWDECWjN4A9k30pKkMnMMBxG/a5b8dYKzMzQAwvE33v5vmS/t7AHo460DYyfcAMAayEgAAAD1t+h7qRccMZV0AmJ+WH1Z18jjWDADM1arNYS7L4c7PBWAd9gfsEk1lYCTGtPNpFbAAONumn7Jr/gUAtmU9ATAvGSciAgAAAHnkcAAAAC7i3B4AyLHOtTubPEarcflAsLNZI0E7PV9P2zTpXvW+va/HNF8xVprKQEd2DgDbGfM8uunYxvw3AQD5Why0AmB6pjLH9z7YBgCXGfO+acxjA4Bd1moffdGJ/tYBAKxr1Q+savH4AAAAwDcNcX7UmHL5mMayjqmOG84y1u15laZX6/6s5Xh6PcaYnw8uoqkMjJSdUz9qAfOU/UZO7wvAzV0AsFs27by9zeO0+D0ALtdqbh7TJy8AQA/rfKJbxkXgrXIbALCaId4zzb7AHwBW4djf2ebwNwAwTmM6VxgAGJdNGywMNa5Vxnbe71421jEfD9+1dVn233t6exqz3k1PNhnnZT/bdC6ZSo656HwdoC1NZWDieu+050ANoZ2eQXSdE/297gGAOdv2ZNFNfheA9WQc3AMA8m1z8t1Zj7PuCUIX3XfTE4usLwDYxhAXtW96km+LPG0/CcCUZVwcs8q+9+Tnq14QknWMUhYGWE/vuTH7gyOzfq933QCA3ZLxYSmZYxtqPbXO+xUX/azVeyktjvGv83urPnfG37DNY471vMh1PsDorN87fd+pNUsZ07/FRaYyThgTTWVgAjJPHj3vcTYdW/bvDW1KCzYYmznOD2MeGwCw28bUZd6aCRiLId7/MucBAEMa+gSw3p/Otakh6jQVc/gbGI+MRlpTsU2+zK5TxonZm170fVmd5rCPAYCx6X0BfvbFVa2ef9fWGkP/vbtWX/rpnSPmuK23vGj1vJ9njO2i+839vU8AgCEN3bB2m/tmPP8Uf2+dx2x1rXHGOnsq6/Pe4xxrYx5gnDSVAZoauqvk0Bf1WFwxNS0OqgzdXbTVc2zK6xwA4FjvbvXrNk0de+d6IMdlnxZy1n1bHgRd5TmciAgAzNE6n7LV6pjhpmutlhfHZB7X2LROmR9Qsu7PWhn6MTOOk42pTpe9Jlv8+2acIDrEe1Nn3W+V5x+iThn/Lqv+bJv7AgDzM6a1wNAXVE3JmM6lneOxkp7Hp3tn9KFl5J9Nn/+i44nbvP81tKGz9hC1GHO9AQDY3JTWeVM5V3nMY1uV88QB2tBUBhi9jBOiWiwYt7n4aEwsnudliNfB0L83hN4HuAAApmydbNR73TWmZjTWmQxlTBeKtrqI00njAADT1qJhR4vnHuIxL7rAaC4XJi3bNn8s/3yV57js9zK2rxaP2SqnnfWYq9y3t03fg2nZZGWT519V79rP8VguALDbeq5Teq+tNs1Nmz5Hi/tlPHfr5zt5ziHek+i5DU3pHOfs7avHuQHZx1anolUOn0MtAAAAAHrSVAYYTEZzGM62aQ3XOflu7v8WrWrY4jkuO6gy938LAADobdX1+aYXC573HC2bgAz9s4tsWsPLtLgobZ3HbFmLbfPdECcVn/d8Z31/0X1X/RkAAEBEu2a27A7bAQAAWbKPDQ2Rf1qdP5qhRVPNVscaM4yxvqe/b3lce9Wx7IJWx5l7N8ppbUqNjwAAAACmbqWmMqWUp0TE70fEDRHxJ7XWq6d+XhY/f1pEfCUinlNrfW/jsQKMWkazlowDCZvKOEi3zSc/rHsAMbOGmzaHOet+5z0OAADAlGSdFNmicczQTU6GaL4zJlM5SREAAAAAAGAIjp1sb+41HPPf16qB0Zj/RgAAAACYu73L7lBKuSEi/iAinhoRj4yIZ5ZSHnnqbk+NiJsX/z0vIl7VeJwAk3NweHTdRV7b3m8XbVobNQUAAAAAAAAAAAAAAAAAAGCXXdpUJiJuiYi7aq2frLV+LSLeGBG3nrrPrRHxunrsnRFx/1LKjY3HCgAAAAAAAAAAAAAAAAAAAADAJVZpKvOQiPjU0vd3L25b9z4AAAAAAAAAAAAAAAAAAAAAACQrtdaL71DKMyLiybXWX1p8/6yIuKXW+itL9zmKiJfXWv958f3fRsSv11rfc+qxnhcRz1t8+4iI+FirP6SBB0bE53sPYsbUN5f65lLffGqcS31zqW8u9c3Vo77fX2t90MDPyQ6QN3ea+uZS31zqm0t9c6lvLvXNpb65ZE1mQ9bcaeqbT41zqW8u9c2lvrnUN5f65pI3mQ15c6epby71zaW+udQ3l/rmUt98apxL3mQ25M2dpr651DeX+uZS31zqm0t9c6lvrlFlzVWayvxYRLy01vrkxfcviYiotb586T5/GBH/UGu9Y/H9xyLiCbXWe9qMP18p5d211sf0HsdcqW8u9c2lvvnUOJf65lLfXOqbS31hGF5rudQ3l/rmUt9c6ptLfXOpby71zaW+MAyvtVzqm0+Nc6lvLvXNpb651DeX+uZSXxiG11ou9c2lvrnUN5f65lLfXOqbT41zqS8Mw2stl/rmUt9c6ptLfXOpby71zaW+ucZW370V7vOuiLi5lHJTKeU+EXFbRNx56j53RsTPl2M/GhFfnFJDGQAAAAAAAAAAAAAAAAAAAACAudi/7A611ntLKS+MiLdFxA0RcXut9UOllOcvfv7qiHhrRDwtIu6KiK9ExHPzhgwAAAAAAAAAAAAAAAAAAAAAwHkubSoTEVFrfWscN45Zvu3VS1/XiHhB26EN7o96D2Dm1DeX+uZS33xqnEt9c6lvLvXNpb4wDK+1XOqbS31zqW8u9c2lvrnUN5f65lJfGIbXWi71zafGudQ3l/rmUt9c6ptLfXOpLwzDay2X+uZS31zqm0t9c6lvLvXNp8a51BeG4bWWS31zqW8u9c2lvrnUN5f65lLfXKOqbznuBwMAAAAAAAAAAAAAAAAAAAAAwBzs9R4AAAAAAAAAAAAAAAAAAAAAAADtaCoTEaWUp5RSPlZKuauUcth7PFNXSnlYKeXvSykfKaV8qJTyq4vbX1pK+XQp5X2L/57We6xTVUq5Vkr5wKKO717c9t2llHeUUj6++P8Deo9zikopj1jaRt9XSvlSKeVFtt/NlVJuL6V8rpTywaXbzt1eSykvWczHHyulPLnPqKfjnPr+Tinlo6WU95dS3lJKuf/i9oNSyv8ubcev7jfyaTinvufOB7bf9ZxT3zct1fZaKeV9i9ttv2u6YE1mDoaByJptyZr5ZM08smYOeTOXvJlL3swlb+aSN6E/ebMteTOfvJlH3mxP1swla+aSNfPJm3lkTehP1mxL1hyGvJlH3mxP3swlb+aSN3PJmrnkTehP3mxL3swna+aRNduTNfPJm7nkzVzyZp4pZs1Sax36OUellHJDRPx7RDwxIu6OiHdFxDNrrR/uOrAJK6XcGBE31lrfW0q5X0S8JyJ+KiJ+NiK+XGv93a4DnIFSyrWIeEyt9fNLt70iIr5Qa726CNkPqLW+uNcY52AxP3w6In4kIp4btt+NlFIeHxFfjojX1Vp/aHHbmdtrKeWREXFHRNwSEd8bEX8TEQ+vtX690/BH75z6Piki/q7Wem8p5bcjIhb1PYiIvzy5H5c7p74vjTPmA9vv+s6q76mfvzIivlhrfZntd30XrMmeE+ZgSCdrtidr5pM1hyFrtiNv5pI3c8mbueTNXPIm9CVvtidv5pM3hyFvtiFr5pI1c8ma+eTNPLIm9CVrtidrDkPeHIa82Ya8mUvezCVv5pI1c8mb0Je82Z68mU/WHIas2YasmU/ezCVv5pI380wxa+4N9UQjdktE3FVr/WSt9WsR8caIuLXzmCat1npPrfW9i6//JyI+EhEP6TuqnXBrRLx28fVr43jyYTs/HhGfqLX+Z++BTFmt9Z8i4gunbj5ve701It5Ya/1qrfU/IuKuOJ6nOcdZ9a21vr3Weu/i23dGxEMHH9hMnLP9nsf2u6aL6ltKKXH8xuYdgw5qRi5Yk5mDYRiyZmOyZjeyZnuyZiPyZi55M5e8mUvezCVvQnfyZmPyZjfyZnvyZgOyZi5ZM5esmU/ezCNrQneyZmOyZlfyZnvyZgPyZi55M5e8mUvWzCVvQnfyZmPyZjeyZnuyZgOyZj55M5e8mUvezDPFrKmpzPE/0KeWvr87LKSbWXSmenRE/MvipheWUt5fSrm9lPKAbgObvhoRby+lvKeU8rzFbQ+utd4TcTwZRcT3dBvdfNwW1+8Qbb/tnLe9mpPb+4WI+Kul728qpfxbKeUfSymP6zWoGThrPrD9tvW4iPhsrfXjS7fZfjd0ak1mDoZheE0lkjXTyJrDkDVzWesMR97MIW/mkzcbkjehC6+pRPJmGnlzGPJmHuuc4ciaOWTNYcibjcia0IXXVCJZM5W8OQx5M4+1znDkzRzyZj5ZsyF5E7rwmkokb6aRNYcha+axzhmWvJlD3swnbzYylaypqUxEOeO2OvgoZqiU8p0R8WcR8aJa65ci4lUR8YMR8aiIuCciXtlxeFP32FrrD0fEUyPiBaWUx/ce0NyUUu4TEU+PiD9d3GT7HYY5uaFSym9GxL0R8frFTfdExPfVWh8dEb8WEW8opXxXr/FN2Hnzge23rWfG9W8Q2X43dMaa7Ny7nnGbbRg25zWVRNZMJWsmkzW7Mi83JG+mkTeHIW82Im9CN15TSeTNVPJmMnmzG3NyQ7JmGllzOPJmA7ImdOM1lUTWTCdvJpM3uzEvNyRvppE3hyFrNiJvQjdeU0nkzVSyZjJZsxtzcmPyZhp5cxjyZgNTypqayhx38nnY0vcPjYjPdBrLbJRSvi2OXwSvr7X+eURErfWztdav11r/LyL+OCJu6TnGKau1fmbx/89FxFviuJafLaXcGBGx+P/n+o1wFp4aEe+ttX42wvab4Lzt1ZzcSCnl2RHxkxHxc7XWGhFRa/1qrfW/F1+/JyI+EREP7zfKabpgPrD9NlJK2Y+In4mIN53cZvvdzFlrsjAHw1C8phLImrlkzUHImvmsdZLJm3nkzXzyZjvyJnTlNZVA3swlbw5C3sxlnZNM1swjaw5D3mxD1oSuvKYSyJr55M1ByJu5rHWSyZt55M18smY78iZ05TWVQN7MJWsOQtbMZZ0zAHkzj7yZT95sY2pZU1OZiHdFxM2llJsWHe5ui4g7O49p0kopJSJeExEfqbX+3tLtNy7d7acj4oNDj20OSinfUUq538nXEfGkOK7lnRHx7MXdnh0Rf9FnhLNxXZc1229z522vd0bEbaWU+5ZSboqImyPiXzuMb9JKKU+JiBdHxNNrrV9Zuv1BpZQbFl//QBzX95N9RjldF8wHtt92fiIiPlprvfvkBtvv+s5bk4U5GIYiazYma+aSNQcja+az1kkkb+aSNwchbzYgb0J38mZj8mYueXMw8mYu65xEsmYuWXMw8uaWZE3oTtZsTNbMJ28ORt7MZa2TSN7MJW8OQtZsQN6E7uTNxuTNXLLmYGTNXNY5yeTNXPLmIOTNLU0xa+4P+WRjVGu9t5Tywoh4W0TcEBG311o/1HlYU/fYiHhWRHyglPK+xW2/ERHPLKU8KiJqRFyLiF/uM7zJe3BEvOV4von9iHhDrfWvSynviog3l1J+MSL+KyKe0XGMk1ZK+faIeGJcv42+wva7mVLKHRHxhIh4YCnl7oj4rYi4Gmdsr7XWD5VS3hwRH46IeyPiBbXWr3cZ+EScU9+XRMR9I+Idi7ninbXW50fE4yPiZaWUeyPi6xHx/FrrF7oMfCLOqe8TzpoPbL/rO6u+tdbXxPGbxXecurvtd33nrcnMwTAAWTOFrJlL1kwma7Ynb+aSN3PJm7nkzXTyJnQkb6aQN3PJm8nkzbZkzVyyZi5ZM5+8mUrWhI5kzRSyZj55M5m82Za8mUvezCVv5pI108mb0JG8mULezCVrJpM125I188mbueTNXPJmqsllzVJrHfL5AAAAAAAAAAAAAAAAAAAAAABItNd7AAAAAAAAAAAAAAAAAAAAAAAAtKOpDAAAAAAAAAAAAAAAAAAAAADAjGgqAwAAAAAAAAAAAAAAAAAAAAAwI5rKAAAAAAAAAAAAAAAAAAAAAADMiKYyAAAAAAAAAAAAAAAAAAAAAAAzoqkMAAAAAAAAAAAAAAAAAAAAAMCMaCoDAAAAAAAAAAAAAAAAAAAAADAjmsoAAAAAAAAAAAAAAAAAAAAAAMzI/wN91XtAqNXltQAAAABJRU5ErkJggg==\n",
=======
      "image/png": "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\n",
>>>>>>> dd5577cdaa9f41c68bff6129191d5877265059dc
      "text/plain": [
       "<Figure size 5760x2160 with 10 Axes>"
      ]
     },
     "metadata": {
      "needs_background": "light"
     },
     "output_type": "display_data"
    }
   ],
   "source": [
    "#FFT Normalized\n",
    "fig,ax = plt.subplots(2,5, sharey= True, figsize = (80,30) )\n",
    "for j in range(5):\n",
<<<<<<< HEAD
    "    #print(len(C_new[j]))\n",
    "    ht = C_bins[j]\n",
    "    ind = list(range(len(ht)))\n",
    "    print(len(ind))\n",
    "    ax[0][j%5].bar(ind, ht, width=0.6)\n",
    "\n",
    "for j in range(5):\n",
    "    #print(len(D_new[j]))\n",
    "    ht = D_bins[j]\n",
    "    ind = list(range(len(ht)))\n",
    "    print(len(ind))\n",
=======
    "    print(len(C_new[j]))\n",
    "    ht = C_bins[j]\n",
    "    ind = list(range(len(ht)))\n",
    "    ax[0][j%5].bar(ind, ht, width=0.6)\n",
    "\n",
    "for j in range(5):\n",
    "    print(len(D_new[j]))\n",
    "    ht = D_bins[j]\n",
    "    ind = list(range(len(ht)))\n",
>>>>>>> dd5577cdaa9f41c68bff6129191d5877265059dc
    "    ax[1][j].bar(ind, ht, width=0.6)\n",
    "    \n",
    "plt.show"
   ]
  },
  {
   "cell_type": "code",
<<<<<<< HEAD
   "execution_count": 81,
=======
   "execution_count": 19,
>>>>>>> dd5577cdaa9f41c68bff6129191d5877265059dc
   "metadata": {},
   "outputs": [
    {
     "name": "stdout",
     "output_type": "stream",
     "text": [
<<<<<<< HEAD
      "990 : 1030 | 960\n",
      "[200, 1000, 40, 35, 5]\n",
      "1188 : 1238 | 1200\n",
      "[200, 1250, 50, 44, 6]\n",
      "1386 : 1446 | 1440\n",
      "[200, 1500, 60, 53, 7]\n",
      "1584 : 1654 | 1680\n",
      "[200, 1750, 70, 62, 8]\n",
      "1980 : 2060 | 1920\n",
      "[200, 2000, 80, 70, 10]\n"
=======
      "[200, 1000, 8, 3]\n",
      "[200, 1250, 10, 4]\n",
      "[200, 1500, 12, 5]\n",
      "[200, 1750, 14, 5]\n",
      "[200, 2000, 16, 6]\n"
>>>>>>> dd5577cdaa9f41c68bff6129191d5877265059dc
     ]
    }
   ],
   "source": [
    "for i in range(4,9):\n",
    "    N = 200\n",
    "    L = 250*i\n",
<<<<<<< HEAD
    "    B = 10*i\n",
    "    E =(N*B - L)/(N-1)\n",
    "    E = round(E)\n",
    "    S = B - E\n",
    "    g = [N,L,B,E,S]\n",
    "    \n",
    "    start = 198* S\n",
    "    end = start+B\n",
    "    nextg = L - B\n",
    "    print(start,\":\", end, \"|\",nextg)\n",
    "    print(g)"
   ]
  },
  {
   "cell_type": "code",
   "execution_count": 23,
   "metadata": {},
   "outputs": [],
   "source": [
    "def return_sq_im(buckets):    \n",
    "    matrix = np.empty([10,10])    \n",
    "    for a in range(10):\n",
    "        for b in range(10):\n",
    "            m = buckets[a]\n",
    "            n = buckets[b]\n",
    "\n",
    "            dis = eu([m], [n])\n",
    "            matrix[a][b] = dis \n",
    "\n",
    "    mx = np.amax(matrix)\n",
    "    img = matrix/mx  \n",
    "    img = img*256\n",
    "    \n",
    "    return img"
   ]
  },
  {
   "cell_type": "code",
   "execution_count": 31,
   "metadata": {},
   "outputs": [
    {
     "data": {
      "text/plain": [
       "10"
      ]
     },
     "execution_count": 31,
     "metadata": {},
     "output_type": "execute_result"
    }
   ],
   "source": [
    "final = []\n",
    "for i in range(5):\n",
    "    final.append(C_bins[i])\n",
    "for i in range(5):\n",
    "    final.append(D_bins[i])\n",
    "len(final)"
   ]
  },
  {
   "cell_type": "code",
   "execution_count": 32,
   "metadata": {},
   "outputs": [
    {
     "ename": "ValueError",
     "evalue": "operands could not be broadcast together with shapes (213,) (199,) ",
     "output_type": "error",
     "traceback": [
      "\u001b[1;31m---------------------------------------------------------------------------\u001b[0m",
      "\u001b[1;31mValueError\u001b[0m                                Traceback (most recent call last)",
      "\u001b[1;32m<ipython-input-32-0800760486e6>\u001b[0m in \u001b[0;36m<module>\u001b[1;34m\u001b[0m\n\u001b[1;32m----> 1\u001b[1;33m \u001b[0mimg\u001b[0m \u001b[1;33m=\u001b[0m \u001b[0mreturn_sq_im\u001b[0m\u001b[1;33m(\u001b[0m\u001b[0mfinal\u001b[0m\u001b[1;33m)\u001b[0m\u001b[1;33m\u001b[0m\u001b[1;33m\u001b[0m\u001b[0m\n\u001b[0m\u001b[0;32m      2\u001b[0m \u001b[1;33m\u001b[0m\u001b[0m\n\u001b[0;32m      3\u001b[0m \u001b[0mplt\u001b[0m\u001b[1;33m.\u001b[0m\u001b[0mimshow\u001b[0m\u001b[1;33m(\u001b[0m\u001b[0mimg\u001b[0m\u001b[1;33m,\u001b[0m \u001b[0mcmap\u001b[0m\u001b[1;33m=\u001b[0m\u001b[1;34m'gray'\u001b[0m\u001b[1;33m,\u001b[0m \u001b[0mvmin\u001b[0m\u001b[1;33m=\u001b[0m\u001b[1;36m0\u001b[0m\u001b[1;33m,\u001b[0m \u001b[0mvmax\u001b[0m\u001b[1;33m=\u001b[0m\u001b[1;36m256\u001b[0m\u001b[1;33m)\u001b[0m\u001b[1;33m\u001b[0m\u001b[1;33m\u001b[0m\u001b[0m\n\u001b[0;32m      4\u001b[0m \u001b[0mplt\u001b[0m\u001b[1;33m.\u001b[0m\u001b[0mshow\u001b[0m\u001b[1;33m(\u001b[0m\u001b[1;33m)\u001b[0m\u001b[1;33m\u001b[0m\u001b[1;33m\u001b[0m\u001b[0m\n",
      "\u001b[1;32m<ipython-input-23-d7e2d4faaaf8>\u001b[0m in \u001b[0;36mreturn_sq_im\u001b[1;34m(buckets)\u001b[0m\n\u001b[0;32m      6\u001b[0m             \u001b[0mn\u001b[0m \u001b[1;33m=\u001b[0m \u001b[0mbuckets\u001b[0m\u001b[1;33m[\u001b[0m\u001b[0mb\u001b[0m\u001b[1;33m]\u001b[0m\u001b[1;33m\u001b[0m\u001b[1;33m\u001b[0m\u001b[0m\n\u001b[0;32m      7\u001b[0m \u001b[1;33m\u001b[0m\u001b[0m\n\u001b[1;32m----> 8\u001b[1;33m             \u001b[0mdis\u001b[0m \u001b[1;33m=\u001b[0m \u001b[0meu\u001b[0m\u001b[1;33m(\u001b[0m\u001b[1;33m[\u001b[0m\u001b[0mm\u001b[0m\u001b[1;33m]\u001b[0m\u001b[1;33m,\u001b[0m \u001b[1;33m[\u001b[0m\u001b[0mn\u001b[0m\u001b[1;33m]\u001b[0m\u001b[1;33m)\u001b[0m\u001b[1;33m\u001b[0m\u001b[1;33m\u001b[0m\u001b[0m\n\u001b[0m\u001b[0;32m      9\u001b[0m             \u001b[0mmatrix\u001b[0m\u001b[1;33m[\u001b[0m\u001b[0ma\u001b[0m\u001b[1;33m]\u001b[0m\u001b[1;33m[\u001b[0m\u001b[0mb\u001b[0m\u001b[1;33m]\u001b[0m \u001b[1;33m=\u001b[0m \u001b[0mdis\u001b[0m\u001b[1;33m\u001b[0m\u001b[1;33m\u001b[0m\u001b[0m\n\u001b[0;32m     10\u001b[0m \u001b[1;33m\u001b[0m\u001b[0m\n",
      "\u001b[1;32mC:\\Python\\Python37\\lib\\site-packages\\scipy\\spatial\\distance.py\u001b[0m in \u001b[0;36meuclidean\u001b[1;34m(u, v, w)\u001b[0m\n\u001b[0;32m    618\u001b[0m \u001b[1;33m\u001b[0m\u001b[0m\n\u001b[0;32m    619\u001b[0m     \"\"\"\n\u001b[1;32m--> 620\u001b[1;33m     \u001b[1;32mreturn\u001b[0m \u001b[0mminkowski\u001b[0m\u001b[1;33m(\u001b[0m\u001b[0mu\u001b[0m\u001b[1;33m,\u001b[0m \u001b[0mv\u001b[0m\u001b[1;33m,\u001b[0m \u001b[0mp\u001b[0m\u001b[1;33m=\u001b[0m\u001b[1;36m2\u001b[0m\u001b[1;33m,\u001b[0m \u001b[0mw\u001b[0m\u001b[1;33m=\u001b[0m\u001b[0mw\u001b[0m\u001b[1;33m)\u001b[0m\u001b[1;33m\u001b[0m\u001b[1;33m\u001b[0m\u001b[0m\n\u001b[0m\u001b[0;32m    621\u001b[0m \u001b[1;33m\u001b[0m\u001b[0m\n\u001b[0;32m    622\u001b[0m \u001b[1;33m\u001b[0m\u001b[0m\n",
      "\u001b[1;32mC:\\Python\\Python37\\lib\\site-packages\\scipy\\spatial\\distance.py\u001b[0m in \u001b[0;36mminkowski\u001b[1;34m(u, v, p, w)\u001b[0m\n\u001b[0;32m    510\u001b[0m     \u001b[1;32mif\u001b[0m \u001b[0mp\u001b[0m \u001b[1;33m<\u001b[0m \u001b[1;36m1\u001b[0m\u001b[1;33m:\u001b[0m\u001b[1;33m\u001b[0m\u001b[1;33m\u001b[0m\u001b[0m\n\u001b[0;32m    511\u001b[0m         \u001b[1;32mraise\u001b[0m \u001b[0mValueError\u001b[0m\u001b[1;33m(\u001b[0m\u001b[1;34m\"p must be at least 1\"\u001b[0m\u001b[1;33m)\u001b[0m\u001b[1;33m\u001b[0m\u001b[1;33m\u001b[0m\u001b[0m\n\u001b[1;32m--> 512\u001b[1;33m     \u001b[0mu_v\u001b[0m \u001b[1;33m=\u001b[0m \u001b[0mu\u001b[0m \u001b[1;33m-\u001b[0m \u001b[0mv\u001b[0m\u001b[1;33m\u001b[0m\u001b[1;33m\u001b[0m\u001b[0m\n\u001b[0m\u001b[0;32m    513\u001b[0m     \u001b[1;32mif\u001b[0m \u001b[0mw\u001b[0m \u001b[1;32mis\u001b[0m \u001b[1;32mnot\u001b[0m \u001b[1;32mNone\u001b[0m\u001b[1;33m:\u001b[0m\u001b[1;33m\u001b[0m\u001b[1;33m\u001b[0m\u001b[0m\n\u001b[0;32m    514\u001b[0m         \u001b[0mw\u001b[0m \u001b[1;33m=\u001b[0m \u001b[0m_validate_weights\u001b[0m\u001b[1;33m(\u001b[0m\u001b[0mw\u001b[0m\u001b[1;33m)\u001b[0m\u001b[1;33m\u001b[0m\u001b[1;33m\u001b[0m\u001b[0m\n",
      "\u001b[1;31mValueError\u001b[0m: operands could not be broadcast together with shapes (213,) (199,) "
     ]
    }
   ],
   "source": [
    "img = return_sq_im(final)\n",
    "\n",
    "plt.imshow(img, cmap='gray', vmin=0, vmax=256)\n",
    "plt.show()"
   ]
=======
    "    B = 2*i\n",
    "    E =(N*B - L)/(N-1)\n",
    "    E = round(E)\n",
    "    g = [N,L,B,E]\n",
    "    print(g)"
   ]
>>>>>>> dd5577cdaa9f41c68bff6129191d5877265059dc
  }
 ],
 "metadata": {
  "kernelspec": {
   "display_name": "Python 3.7.4 64-bit",
   "language": "python",
   "name": "python37464bit6dab32899f6947caab61992746272921"
  },
  "language_info": {
   "codemirror_mode": {
    "name": "ipython",
    "version": 3
   },
   "file_extension": ".py",
   "mimetype": "text/x-python",
   "name": "python",
   "nbconvert_exporter": "python",
   "pygments_lexer": "ipython3",
   "version": "3.7.4"
  }
 },
 "nbformat": 4,
 "nbformat_minor": 4
}
