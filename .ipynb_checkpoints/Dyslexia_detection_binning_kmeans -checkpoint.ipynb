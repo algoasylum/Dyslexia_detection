{
 "cells": [
  {
   "cell_type": "code",
   "execution_count": 1,
   "metadata": {},
   "outputs": [],
   "source": [
    "import glob\n",
    "import pandas as pd\n",
    "import numpy as np\n",
    "import matplotlib.pyplot as plt \n",
    "from mpl_toolkits import mplot3d\n",
    "import random\n",
    "from sklearn.cluster import KMeans\n",
    "from sklearn.metrics import confusion_matrix,accuracy_score\n",
    "from sklearn import preprocessing\n",
    "import math\n",
    "from scipy.spatial.distance import euclidean as eu\n",
    "\n",
    "import matplotlib as mpl\n",
    "import matplotlib.pyplot as plt\n",
    "from mpl_toolkits.axes_grid1.axes_divider import make_axes_locatable\n",
    "from mpl_toolkits.mplot3d import Axes3D"
   ]
  },
  {
   "cell_type": "markdown",
   "metadata": {},
   "source": [
    "Collecting the data into Dyslexic and Control"
   ]
  },
  {
   "cell_type": "code",
   "execution_count": 4,
   "metadata": {},
   "outputs": [],
   "source": [
    "D_path = glob.glob('Data/Dyslexic' + \"/*\")\n",
    "C_path = glob.glob('Data/Control' + \"/*\")\n",
    "\n",
    "C_data = []\n",
    "for path in C_path:\n",
    "    temp = pd.read_csv(path)\n",
    "    temp = temp.drop('Unnamed: 0',axis = 1)\n",
    "    C_data.append(temp)\n",
    "    \n",
    "D_data = []\n",
    "for path in D_path:\n",
    "    temp = pd.read_csv(path)\n",
    "    temp = temp.drop('Unnamed: 0',axis = 1)\n",
    "    D_data.append(temp)"
   ]
  },
  {
   "cell_type": "markdown",
   "metadata": {},
   "source": [
    "new_vals() - takes the eye tracking readings from the left and right eye and combines it into a single array of complex numbers"
   ]
  },
  {
   "cell_type": "code",
   "execution_count": 5,
   "metadata": {},
   "outputs": [],
   "source": [
    "def new_vals(data):\n",
    "    x = [sum(x) for x in zip(data['LX'].to_list(), data['RX'].tolist())]\n",
    "    y = [sum(x) for x in zip(data['LY'].to_list(), data['RY'].tolist())]\n",
    "    \n",
    "    compl = np.array([complex(a,b) for a,b in zip(x, y)])\n",
    "    \n",
    "    return compl"
   ]
  },
  {
   "cell_type": "markdown",
   "metadata": {},
   "source": [
    "binning() - maps a vector any lenght to a vector of a fixed length(bins) as needed.  This helps to compare vectors of various lengths. Each entry of the resulting vector is a sum of fixed number of elements of the input vector. Few of these elements are considered common for successive entries into the resulting vector. This is the overlapping factor. \n",
    "\n",
    "\n",
    "So the fixed number of elements considered for the each entry = (lenght of input vector/lenght of output vector) + overlap"
   ]
  },
  {
   "cell_type": "code",
   "execution_count": 6,
   "metadata": {},
   "outputs": [],
   "source": [
    "def binning(bins, fft, overlap_per):\n",
    "    div_size = len(fft)/bins\n",
    "    bin_size = div_size*(1+(overlap_per/100))\n",
    "    half_bin = bin_size/2\n",
    "    \n",
    "    binned = []\n",
    "    \n",
    "    current_step = bin_size\n",
    "    for a in range(bins):\n",
    "        \n",
    "        pos = np.ceil(half_bin + a*(div_size))\n",
    "        start = 0 if a == 0 else int(np.ceil(pos - half_bin))\n",
    "        end = -1 if a == (bins-1) else int(np.ceil(pos + half_bin))\n",
    "        #print([start, end])\n",
    "        \n",
    "        binned = np.append(binned, sum(np.abs(fft[start : end]))) \n",
    "        \n",
    "    return binned"
   ]
  },
  {
   "cell_type": "markdown",
   "metadata": {},
   "source": [
    "kmeans_binning() - kmeans clustering of the binned vectors. "
   ]
  },
  {
   "cell_type": "code",
   "execution_count": 7,
   "metadata": {},
   "outputs": [],
   "source": [
    "def kmeans_binning(D_data,C_data, bins, bins_per):\n",
    "    \n",
    "    data_sets = [D_data,C_data]\n",
    "    all_buckets = []\n",
    "    for dataset in data_sets:\n",
    "        for no in range(len(dataset)):\n",
    "            d = new_vals(dataset[no])\n",
    "            fft = np.fft.fft(d)   \n",
    "\n",
    "            binned = binning(bins, fft, bins_per)\n",
    "            all_buckets.append(binned)\n",
    "            buckets = np.asarray(all_buckets)\n",
    "            \n",
    "    kmeans = KMeans(n_clusters = 2, random_state=0).fit(buckets)\n",
    "    predicted_labels = kmeans.labels_\n",
    "    actual_labels = np.concatenate((np.ones(98), np.zeros(88)))\n",
    "    \n",
    "    conf_m = confusion_matrix(actual_labels,predicted_labels)[:2]\n",
    "    acc = accuracy_score(actual_labels,predicted_labels)*100\n",
    "    \n",
    "    return conf_m, acc"
   ]
  },
  {
   "cell_type": "code",
   "execution_count": 8,
   "metadata": {},
   "outputs": [],
   "source": [
    "conf, a = kmeans_binning(D_data,C_data, 1000, 10)"
   ]
  },
  {
   "cell_type": "code",
   "execution_count": 10,
   "metadata": {},
   "outputs": [
    {
     "data": {
      "text/plain": [
       "69.35483870967742"
      ]
     },
     "execution_count": 10,
     "metadata": {},
     "output_type": "execute_result"
    }
   ],
   "source": [
    "a"
   ]
  },
  {
   "cell_type": "code",
   "execution_count": 11,
   "metadata": {},
   "outputs": [],
   "source": [
    "vals1 = np.load('accuracy_vals.npy')"
   ]
  }
 ],
 "metadata": {
  "kernelspec": {
   "display_name": "Python 3",
   "language": "python",
   "name": "python3"
  },
  "language_info": {
   "codemirror_mode": {
    "name": "ipython",
    "version": 3
   },
   "file_extension": ".py",
   "mimetype": "text/x-python",
   "name": "python",
   "nbconvert_exporter": "python",
   "pygments_lexer": "ipython3",
   "version": "3.7.4"
  }
 },
 "nbformat": 4,
 "nbformat_minor": 4
}
