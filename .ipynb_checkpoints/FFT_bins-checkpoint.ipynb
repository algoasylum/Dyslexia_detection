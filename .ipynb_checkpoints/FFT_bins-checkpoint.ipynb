{
 "cells": [
  {
   "cell_type": "code",
   "execution_count": 1,
   "metadata": {},
   "outputs": [],
   "source": [
    "import glob\n",
    "import pandas as pd\n",
    "import numpy as np\n",
    "import matplotlib.pyplot as plt\n",
    "import plotly"
   ]
  },
  {
   "cell_type": "code",
   "execution_count": 2,
   "metadata": {},
   "outputs": [],
   "source": [
    "D_path = glob.glob('Data\\Dyslexic' + \"\\*\")\n",
    "C_path = glob.glob('Data\\Control' + \"\\*\")\n",
    "\n",
    "C_data = []\n",
    "for path in C_path:\n",
    "    temp = pd.read_csv(path)\n",
    "    temp = temp.drop('Unnamed: 0',axis = 1)\n",
    "    C_data.append(temp)\n",
    "\n",
    "D_data = []\n",
    "for path in D_path:\n",
    "    temp = pd.read_csv(path)\n",
    "    temp = temp.drop('Unnamed: 0',axis = 1)\n",
    "    D_data.append(temp)"
   ]
  },
  {
   "cell_type": "code",
   "execution_count": 3,
   "metadata": {},
   "outputs": [
    {
     "data": {
      "text/html": [
       "<div>\n",
       "<style scoped>\n",
       "    .dataframe tbody tr th:only-of-type {\n",
       "        vertical-align: middle;\n",
       "    }\n",
       "\n",
       "    .dataframe tbody tr th {\n",
       "        vertical-align: top;\n",
       "    }\n",
       "\n",
       "    .dataframe thead th {\n",
       "        text-align: right;\n",
       "    }\n",
       "</style>\n",
       "<table border=\"1\" class=\"dataframe\">\n",
       "  <thead>\n",
       "    <tr style=\"text-align: right;\">\n",
       "      <th></th>\n",
       "      <th>T</th>\n",
       "      <th>LX</th>\n",
       "      <th>LY</th>\n",
       "      <th>RX</th>\n",
       "      <th>RY</th>\n",
       "    </tr>\n",
       "  </thead>\n",
       "  <tbody>\n",
       "    <tr>\n",
       "      <th>0</th>\n",
       "      <td>0.0</td>\n",
       "      <td>0.00000</td>\n",
       "      <td>0.00000</td>\n",
       "      <td>0.00000</td>\n",
       "      <td>0.00000</td>\n",
       "    </tr>\n",
       "    <tr>\n",
       "      <th>1</th>\n",
       "      <td>20.0</td>\n",
       "      <td>0.65535</td>\n",
       "      <td>-0.00001</td>\n",
       "      <td>0.65536</td>\n",
       "      <td>-0.65536</td>\n",
       "    </tr>\n",
       "    <tr>\n",
       "      <th>2</th>\n",
       "      <td>40.0</td>\n",
       "      <td>0.65534</td>\n",
       "      <td>-0.00001</td>\n",
       "      <td>0.65536</td>\n",
       "      <td>-0.65536</td>\n",
       "    </tr>\n",
       "    <tr>\n",
       "      <th>3</th>\n",
       "      <td>60.0</td>\n",
       "      <td>0.65534</td>\n",
       "      <td>-0.00001</td>\n",
       "      <td>0.65535</td>\n",
       "      <td>-0.65536</td>\n",
       "    </tr>\n",
       "    <tr>\n",
       "      <th>4</th>\n",
       "      <td>80.0</td>\n",
       "      <td>0.65534</td>\n",
       "      <td>-0.00001</td>\n",
       "      <td>0.65534</td>\n",
       "      <td>0.00000</td>\n",
       "    </tr>\n",
       "    <tr>\n",
       "      <th>...</th>\n",
       "      <td>...</td>\n",
       "      <td>...</td>\n",
       "      <td>...</td>\n",
       "      <td>...</td>\n",
       "      <td>...</td>\n",
       "    </tr>\n",
       "    <tr>\n",
       "      <th>1494</th>\n",
       "      <td>29880.0</td>\n",
       "      <td>103.54872</td>\n",
       "      <td>37.35520</td>\n",
       "      <td>104.85945</td>\n",
       "      <td>36.69984</td>\n",
       "    </tr>\n",
       "    <tr>\n",
       "      <th>1495</th>\n",
       "      <td>29900.0</td>\n",
       "      <td>105.51480</td>\n",
       "      <td>36.04447</td>\n",
       "      <td>106.17018</td>\n",
       "      <td>32.76765</td>\n",
       "    </tr>\n",
       "    <tr>\n",
       "      <th>1496</th>\n",
       "      <td>29920.0</td>\n",
       "      <td>107.48088</td>\n",
       "      <td>27.52472</td>\n",
       "      <td>108.79159</td>\n",
       "      <td>14.41743</td>\n",
       "    </tr>\n",
       "    <tr>\n",
       "      <th>1497</th>\n",
       "      <td>29940.0</td>\n",
       "      <td>108.13612</td>\n",
       "      <td>-16.38473</td>\n",
       "      <td>102.89310</td>\n",
       "      <td>-78.64416</td>\n",
       "    </tr>\n",
       "    <tr>\n",
       "      <th>1498</th>\n",
       "      <td>29960.0</td>\n",
       "      <td>104.20380</td>\n",
       "      <td>-135.00506</td>\n",
       "      <td>114.69085</td>\n",
       "      <td>-155.97572</td>\n",
       "    </tr>\n",
       "  </tbody>\n",
       "</table>\n",
       "<p>1499 rows × 5 columns</p>\n",
       "</div>"
      ],
      "text/plain": [
       "            T         LX         LY         RX         RY\n",
       "0         0.0    0.00000    0.00000    0.00000    0.00000\n",
       "1        20.0    0.65535   -0.00001    0.65536   -0.65536\n",
       "2        40.0    0.65534   -0.00001    0.65536   -0.65536\n",
       "3        60.0    0.65534   -0.00001    0.65535   -0.65536\n",
       "4        80.0    0.65534   -0.00001    0.65534    0.00000\n",
       "...       ...        ...        ...        ...        ...\n",
       "1494  29880.0  103.54872   37.35520  104.85945   36.69984\n",
       "1495  29900.0  105.51480   36.04447  106.17018   32.76765\n",
       "1496  29920.0  107.48088   27.52472  108.79159   14.41743\n",
       "1497  29940.0  108.13612  -16.38473  102.89310  -78.64416\n",
       "1498  29960.0  104.20380 -135.00506  114.69085 -155.97572\n",
       "\n",
       "[1499 rows x 5 columns]"
      ]
     },
     "execution_count": 3,
     "metadata": {},
     "output_type": "execute_result"
    }
   ],
   "source": [
    "data = C_data[0]\n",
    "data"
   ]
  },
  {
   "cell_type": "code",
   "execution_count": 6,
   "metadata": {},
   "outputs": [],
   "source": [
    "X =data[['LX','RX']]\n",
    "\n",
    "Y =data[['LY','RY']]\n",
    "\n",
    "#df = pd.DataFrame([data['T'],X,Y], columns = ['T','X', 'Y'])"
   ]
  },
  {
   "cell_type": "code",
   "execution_count": 7,
   "metadata": {},
   "outputs": [],
   "source": [
    "Xm = X.mean(axis=1)\n",
    "Ym = Y.mean(axis=1)"
   ]
  },
  {
   "cell_type": "code",
   "execution_count": 13,
   "metadata": {},
   "outputs": [
    {
     "data": {
      "text/plain": [
       "0         0.000000\n",
       "1         0.655355\n",
       "2         0.655350\n",
       "3         0.655345\n",
       "4         0.655340\n",
       "           ...    \n",
       "1494    104.204085\n",
       "1495    105.842490\n",
       "1496    108.136235\n",
       "1497    105.514610\n",
       "1498    109.447325\n",
       "Length: 1499, dtype: float64"
      ]
     },
     "execution_count": 13,
     "metadata": {},
     "output_type": "execute_result"
    }
   ],
   "source": [
    "Xm"
   ]
  },
  {
   "cell_type": "code",
   "execution_count": 19,
   "metadata": {},
   "outputs": [
    {
     "data": {
      "text/plain": [
       "0         0.000000\n",
       "1        -0.327685\n",
       "2        -0.327685\n",
       "3        -0.327685\n",
       "4        -0.000005\n",
       "           ...    \n",
       "1494     37.027520\n",
       "1495     34.406060\n",
       "1496     20.971075\n",
       "1497    -47.514445\n",
       "1498   -145.490390\n",
       "Length: 1499, dtype: float64"
      ]
     },
     "execution_count": 19,
     "metadata": {},
     "output_type": "execute_result"
    }
   ],
   "source": [
    "Ym"
   ]
  },
  {
   "cell_type": "code",
   "execution_count": 8,
   "metadata": {},
   "outputs": [
    {
     "data": {
      "text/html": [
       "<div>\n",
       "<style scoped>\n",
       "    .dataframe tbody tr th:only-of-type {\n",
       "        vertical-align: middle;\n",
       "    }\n",
       "\n",
       "    .dataframe tbody tr th {\n",
       "        vertical-align: top;\n",
       "    }\n",
       "\n",
       "    .dataframe thead th {\n",
       "        text-align: right;\n",
       "    }\n",
       "</style>\n",
       "<table border=\"1\" class=\"dataframe\">\n",
       "  <thead>\n",
       "    <tr style=\"text-align: right;\">\n",
       "      <th></th>\n",
       "      <th>T</th>\n",
       "      <th>X</th>\n",
       "      <th>Y</th>\n",
       "    </tr>\n",
       "  </thead>\n",
       "  <tbody>\n",
       "    <tr>\n",
       "      <th>0</th>\n",
       "      <td>0.0</td>\n",
       "      <td>0.000000</td>\n",
       "      <td>0.000000</td>\n",
       "    </tr>\n",
       "    <tr>\n",
       "      <th>1</th>\n",
       "      <td>20.0</td>\n",
       "      <td>0.655355</td>\n",
       "      <td>-0.327685</td>\n",
       "    </tr>\n",
       "    <tr>\n",
       "      <th>2</th>\n",
       "      <td>40.0</td>\n",
       "      <td>0.655350</td>\n",
       "      <td>-0.327685</td>\n",
       "    </tr>\n",
       "    <tr>\n",
       "      <th>3</th>\n",
       "      <td>60.0</td>\n",
       "      <td>0.655345</td>\n",
       "      <td>-0.327685</td>\n",
       "    </tr>\n",
       "    <tr>\n",
       "      <th>4</th>\n",
       "      <td>80.0</td>\n",
       "      <td>0.655340</td>\n",
       "      <td>-0.000005</td>\n",
       "    </tr>\n",
       "    <tr>\n",
       "      <th>...</th>\n",
       "      <td>...</td>\n",
       "      <td>...</td>\n",
       "      <td>...</td>\n",
       "    </tr>\n",
       "    <tr>\n",
       "      <th>1494</th>\n",
       "      <td>29880.0</td>\n",
       "      <td>104.204085</td>\n",
       "      <td>37.027520</td>\n",
       "    </tr>\n",
       "    <tr>\n",
       "      <th>1495</th>\n",
       "      <td>29900.0</td>\n",
       "      <td>105.842490</td>\n",
       "      <td>34.406060</td>\n",
       "    </tr>\n",
       "    <tr>\n",
       "      <th>1496</th>\n",
       "      <td>29920.0</td>\n",
       "      <td>108.136235</td>\n",
       "      <td>20.971075</td>\n",
       "    </tr>\n",
       "    <tr>\n",
       "      <th>1497</th>\n",
       "      <td>29940.0</td>\n",
       "      <td>105.514610</td>\n",
       "      <td>-47.514445</td>\n",
       "    </tr>\n",
       "    <tr>\n",
       "      <th>1498</th>\n",
       "      <td>29960.0</td>\n",
       "      <td>109.447325</td>\n",
       "      <td>-145.490390</td>\n",
       "    </tr>\n",
       "  </tbody>\n",
       "</table>\n",
       "<p>1499 rows × 3 columns</p>\n",
       "</div>"
      ],
      "text/plain": [
       "            T           X           Y\n",
       "0         0.0    0.000000    0.000000\n",
       "1        20.0    0.655355   -0.327685\n",
       "2        40.0    0.655350   -0.327685\n",
       "3        60.0    0.655345   -0.327685\n",
       "4        80.0    0.655340   -0.000005\n",
       "...       ...         ...         ...\n",
       "1494  29880.0  104.204085   37.027520\n",
       "1495  29900.0  105.842490   34.406060\n",
       "1496  29920.0  108.136235   20.971075\n",
       "1497  29940.0  105.514610  -47.514445\n",
       "1498  29960.0  109.447325 -145.490390\n",
       "\n",
       "[1499 rows x 3 columns]"
      ]
     },
     "execution_count": 8,
     "metadata": {},
     "output_type": "execute_result"
    }
   ],
   "source": [
    "f = pd.DataFrame([data.iloc[:,0],Xm,Ym])\n",
    "f = f.transpose()\n",
    "f = f.rename(columns = {'Unnamed 0': 'X', 'Unnamed 1': 'Y'})\n",
    "f"
   ]
  },
  {
   "cell_type": "code",
   "execution_count": 9,
   "metadata": {},
   "outputs": [],
   "source": [
    "C_new = []\n",
    "for data in C_data:\n",
    "    X =data[['LX','RX']]\n",
    "    Y =data[['LY','RY']]\n",
    "    Xm = X.mean(axis=1)\n",
    "    Ym = Y.mean(axis=1)\n",
    "    f = pd.DataFrame([data.iloc[:,0],Xm,Ym])\n",
    "    f = f.transpose()\n",
    "    f = f.rename(columns = {'Unnamed 0': 'X', 'Unnamed 1': 'Y'})\n",
    "    C_new.append(f)"
   ]
  },
  {
   "cell_type": "code",
   "execution_count": 10,
   "metadata": {},
   "outputs": [],
   "source": [
    "D_new = []\n",
    "for data in D_data:\n",
    "    X =data[['LX','RX']]\n",
    "    Y =data[['LY','RY']]\n",
    "    Xm = X.mean(axis=1)\n",
    "    Ym = Y.mean(axis=1)\n",
    "    f = pd.DataFrame([data.iloc[:,0],Xm,Ym])\n",
    "    f = f.transpose()\n",
    "    f = f.rename(columns = {'Unnamed 0': 'X', 'Unnamed 1': 'Y'})\n",
    "    D_new.append(f)"
   ]
  },
  {
   "cell_type": "code",
   "execution_count": 104,
   "metadata": {},
   "outputs": [],
   "source": [
    "trial = C_new[4]"
   ]
  },
  {
   "cell_type": "code",
   "execution_count": 105,
   "metadata": {},
   "outputs": [],
   "source": [
    "x = trial['X']\n",
    "y = trial['Y']\n",
    "t = trial['T']"
   ]
  },
  {
   "cell_type": "code",
   "execution_count": 13,
   "metadata": {},
   "outputs": [],
   "source": [
    "N = x.size"
   ]
  },
  {
   "cell_type": "code",
   "execution_count": null,
   "metadata": {},
   "outputs": [],
   "source": []
  },
  {
   "cell_type": "code",
   "execution_count": 106,
   "metadata": {},
   "outputs": [],
   "source": [
    "z=[]\n",
    "for i in range(0,x.size):\n",
    "    z.append(complex(x[i],y[i]))"
   ]
  },
  {
   "cell_type": "code",
   "execution_count": 107,
   "metadata": {},
   "outputs": [],
   "source": [
    "Z = np.fft.fft(z)"
   ]
  },
  {
   "cell_type": "code",
   "execution_count": 78,
   "metadata": {},
   "outputs": [],
   "source": [
    "fft_im=[]\n",
    "fft_r =[]\n",
    "for a in Z:\n",
    "    fft_im.append(a.imag)\n",
    "    fft_r.append(a.real)"
   ]
  },
  {
   "cell_type": "code",
   "execution_count": 79,
   "metadata": {},
   "outputs": [
    {
     "name": "stderr",
     "output_type": "stream",
     "text": [
      "C:\\Python\\Python37\\lib\\site-packages\\numpy\\core\\_asarray.py:85: ComplexWarning: Casting complex values to real discards the imaginary part\n",
      "  return array(a, dtype, copy=False, order=order)\n"
     ]
    },
    {
     "data": {
      "text/plain": [
       "[<matplotlib.lines.Line2D at 0x25e39a6d248>]"
      ]
     },
     "execution_count": 79,
     "metadata": {},
     "output_type": "execute_result"
    },
    {
     "data": {
      "image/png": "[encoded data removed]",
      "text/plain": [
       "<Figure size 432x288 with 1 Axes>"
      ]
     },
     "metadata": {
      "needs_background": "light"
     },
     "output_type": "display_data"
    }
   ],
   "source": [
    "plt.plot(abs(Z)/max(Z))"
   ]
  },
  {
   "cell_type": "code",
   "execution_count": 108,
   "metadata": {},
   "outputs": [],
   "source": [
    "Z_norm = abs(Z)"
   ]
  },
  {
   "cell_type": "code",
   "execution_count": 109,
   "metadata": {},
   "outputs": [],
   "source": [
    "Z_norm = Z_norm/ max(Z_norm)\n"
   ]
  },
  {
   "cell_type": "code",
   "execution_count": 57,
   "metadata": {},
   "outputs": [
    {
     "name": "stdout",
     "output_type": "stream",
     "text": [
      "{1249, 999, 1999, 1749, 1499}\n",
      "{1499, 1999}\n"
     ]
    }
   ],
   "source": [
    "max_C =[]\n",
    "max_D =[]\n",
    "for i in range(len(C_new)):\n",
    "    max_C.append(len(C_new[i]))\n",
    "for i in range(len(D_new)):\n",
    "    max_D.append(len(D_new[i]))\n",
    "print(set(max_C))\n",
    "print(set(max_D))"
   ]
  },
  {
   "cell_type": "code",
   "execution_count": 113,
   "metadata": {},
   "outputs": [],
   "source": [
    "L = len(Z_norm)\n",
    "k = int((len(Z_norm) + 1)/250) # k varies from 4 to 8\n",
    "N = 150\n",
    "B  = 2*k\n",
    "E =round((N*B - L)/(N-1))\n",
    "step_size = B-E\n",
    "bucket_size = B\n",
    "binval=[]\n",
    "for a in range(0,(L + 1)-(bucket_size), step_size):\n",
    "    binval = np.append(binval, sum(np.abs(Z_norm[a:a+bucket_size])))\n",
    "binval = np.append(binval, sum(np.abs(Z_norm[-(bucket_size):])))    "
   ]
  },
  {
   "cell_type": "code",
   "execution_count": 115,
   "metadata": {},
   "outputs": [
    {
     "data": {
      "image/png": "[encoded data removed]",
      "text/plain": [
       "<Figure size 432x288 with 1 Axes>"
      ]
     },
     "metadata": {
      "needs_background": "light"
     },
     "output_type": "display_data"
    }
   ],
   "source": [
    "bin_xn = binval.tolist()\n",
    "ht = bin_xn\n",
    "ind = list(range(len(ht)))\n",
    "plt.bar(ind, ht)\n",
    "plt.show()"
   ]
  },
  {
   "cell_type": "code",
   "execution_count": 116,
   "metadata": {},
   "outputs": [
    {
     "data": {
      "text/plain": [
       "156"
      ]
     },
     "execution_count": 116,
     "metadata": {},
     "output_type": "execute_result"
    }
   ],
   "source": [
    "len(ind)"
   ]
  },
  {
   "cell_type": "code",
   "execution_count": 45,
   "metadata": {},
   "outputs": [
    {
     "name": "stdout",
     "output_type": "stream",
     "text": [
      "[1000, 400.0, 40.0, 15]\n",
      "[1250, 500.0, 50.0, 15]\n",
      "[1500, 600.0, 60.0, 15]\n",
      "[1750, 700.0, 70.0, 15]\n",
      "[2000, 800.0, 80.0, 15]\n"
     ]
    }
   ],
   "source": [
    "m = \n",
    "N =  15\n",
    "r = N + m\n",
    "for i in range(4,9):\n",
    "    L= 250*i\n",
    "    S = L/r\n",
    "    B = S*m\n",
    "    g = [L,B,S,N]\n",
    "    print(g)"
   ]
  },
  {
   "cell_type": "code",
   "execution_count": 68,
   "metadata": {},
   "outputs": [],
   "source": [
    "C_bins = []\n",
    "for j in range(len(C_new)):\n",
    "    dat = C_new[j]\n",
    "    x = dat['X']\n",
    "    y = dat['Y']\n",
    "    t = dat['T']\n",
    "    \n",
    "    z=[]\n",
    "    for i in range(0,x.size):\n",
    "        z.append(complex(x[i],y[i]))\n",
    "    Z = np.fft.fft(z)\n",
    "        \n",
    "    Z_norm = abs(Z)/ max(Z_norm)\n",
    "    \n",
    "    L = len(Z_norm)\n",
    "    k = int((len(Z_norm) + 1)/250) # k varies from 4 to 8\n",
    "    N = 10\n",
    "    B  = 2*k ### chose the factor to be greater than (250/N), for overlap to exist\n",
    "    E =round((N*B - L)/(N-1))\n",
    "    step_size = B-E\n",
    "    bucket_size = B\n",
    "    bin_val=[]\n",
    "    for a in range(0,(len(Z_norm) + 1)-(bucket_size), step_size):\n",
    "        bin_val = np.append(bin_val, sum(np.abs(Z_norm[a:a+bucket_size])))\n",
    "    binval = np.append(binval, sum(np.abs(Z_norm[-(bucket_size):])))\n",
    "    bin_val = bin_val/(max(bin_val))\n",
    "    C_bins.append(bin_val.tolist())\n"
   ]
  },
  {
   "cell_type": "code",
   "execution_count": 69,
   "metadata": {},
   "outputs": [],
   "source": [
    "D_bins = []\n",
    "for j in range(len(D_new)):\n",
    "    dat = D_new[j]\n",
    "    x = dat['X']\n",
    "    y = dat['Y']\n",
    "    t = dat['T']\n",
    "    \n",
    "    z=[]\n",
    "    for i in range(0,x.size):\n",
    "        z.append(complex(x[i],y[i]))\n",
    "    Z = np.fft.fft(z)\n",
    "        \n",
    "    Z_norm = abs(Z)/ max(Z_norm)\n",
    "    \n",
    "    L = len(Z_norm)\n",
    "    k = int((len(Z_norm) + 1)/250) # k varies from 4 to 8\n",
    "    N = 10\n",
    "    B  = 2*k\n",
    "    E =round((N*B - L)/(N-1))\n",
    "    step_size = B-E\n",
    "    bucket_size = B\n",
    "    bin_val=[]\n",
    "    for a in range(0,(len(Z_norm) + 1)-(bucket_size), step_size):\n",
    "        bin_val = np.append(bin_val, sum(np.abs(Z_norm[a:a+bucket_size])))\n",
    "    binval = np.append(binval, sum(np.abs(Z_norm[-(bucket_size):])))\n",
    "    bin_val = bin_val/(max(bin_val))\n",
    "    D_bins.append(bin_val.tolist())"
   ]
  },
  {
   "cell_type": "code",
   "execution_count": 66,
   "metadata": {
    "collapsed": true,
    "jupyter": {
     "outputs_hidden": true,
     "source_hidden": true
    }
   },
   "outputs": [
    {
     "data": {
      "text/plain": [
       "<function matplotlib.pyplot.show(*args, **kw)>"
      ]
     },
     "execution_count": 66,
     "metadata": {},
     "output_type": "execute_result"
    },
    {
     "data": {
      "image/png": "[encoded data removed]",
      "text/plain": [
       "<Figure size 5760x2160 with 10 Axes>"
      ]
     },
     "metadata": {
      "needs_background": "light"
     },
     "output_type": "display_data"
    }
   ],
   "source": [
    "#FFT Not normalized - (don't touch -overwritten data!!)\n",
    "fig,ax = plt.subplots(2,5, sharey= True, figsize = (80,30) )\n",
    "for j in range(5):\n",
    "    ht = C_bins[j]\n",
    "    ind = list(range(len(ht)))\n",
    "    ax[0][j].bar(ind, ht, width=0.6)\n",
    "\n",
    "for j in range(5):\n",
    "    ht = D_bins[j]\n",
    "    ind = list(range(len(ht)))\n",
    "    ax[1][j].bar(ind, ht, width=0.6)\n",
    "    \n",
    "plt.show"
   ]
  },
  {
   "cell_type": "code",
   "execution_count": 71,
   "metadata": {},
   "outputs": [
    {
     "name": "stdout",
     "output_type": "stream",
     "text": [
      "1249\n",
      "1499\n",
      "1499\n",
      "1999\n",
      "1499\n",
      "1499\n",
      "1999\n",
      "1999\n",
      "1999\n",
      "1999\n",
      "1999\n"
     ]
    },
    {
     "data": {
      "text/plain": [
       "<function matplotlib.pyplot.show(*args, **kw)>"
      ]
     },
     "execution_count": 71,
     "metadata": {},
     "output_type": "execute_result"
    },
    {
     "data": {
      "image/png": "[encoded data removed]",
      "text/plain": [
       "<Figure size 5760x2160 with 10 Axes>"
      ]
     },
     "metadata": {
      "needs_background": "light"
     },
     "output_type": "display_data"
    }
   ],
   "source": [
    "#FFT Normalized\n",
    "fig,ax = plt.subplots(2,5, sharey= True, figsize = (80,30) )\n",
    "for j in range(5):\n",
    "    print(len(C_new[j]))\n",
    "    ht = C_bins[j]\n",
    "    ind = list(range(len(ht)))\n",
    "    ax[0][j%5].bar(ind, ht, width=0.6)\n",
    "\n",
    "for j in range(5):\n",
    "    print(len(D_new[j]))\n",
    "    ht = D_bins[j]\n",
    "    ind = list(range(len(ht)))\n",
    "    ax[1][j].bar(ind, ht, width=0.6)\n",
    "    \n",
    "plt.show"
   ]
  },
  {
   "cell_type": "code",
   "execution_count": 47,
   "metadata": {},
   "outputs": [
    {
     "name": "stdout",
     "output_type": "stream",
     "text": [
      "[200, 1000, 8, 3]\n",
      "[200, 1250, 10, 4]\n",
      "[200, 1500, 12, 5]\n",
      "[200, 1750, 14, 5]\n",
      "[200, 2000, 16, 6]\n"
     ]
    }
   ],
   "source": [
    "for i in range(4,9):\n",
    "    N = 200\n",
    "    L = 250*i\n",
    "    B = 2*i\n",
    "    E =(N*B - L)/(N-1)\n",
    "    E = round(E)\n",
    "    g = [N,L,B,E]\n",
    "    print(g)"
   ]
  }
 ],
 "metadata": {
  "kernelspec": {
   "display_name": "Python 3.7.4 64-bit",
   "language": "python",
   "name": "python37464bit6dab32899f6947caab61992746272921"
  },
  "language_info": {
   "codemirror_mode": {
    "name": "ipython",
    "version": 3
   },
   "file_extension": ".py",
   "mimetype": "text/x-python",
   "name": "python",
   "nbconvert_exporter": "python",
   "pygments_lexer": "ipython3",
   "version": "3.7.4"
  }
 },
 "nbformat": 4,
 "nbformat_minor": 4
}
